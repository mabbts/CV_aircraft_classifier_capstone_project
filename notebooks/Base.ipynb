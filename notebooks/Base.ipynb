{
 "cells": [
  {
   "cell_type": "markdown",
   "id": "25793db8-7e35-4456-9e70-b80bbbca7097",
   "metadata": {},
   "source": [
    "# Import Libraries"
   ]
  },
  {
   "cell_type": "code",
   "execution_count": 1,
   "id": "d358386b-b869-4fdf-a7cb-a150e35a1fcb",
   "metadata": {},
   "outputs": [],
   "source": [
    "import numpy as np\n",
    "import pandas as pd\n",
    "import matplotlib.pyplot as plt\n",
    "import seaborn as sns\n",
    "import copy\n",
    "import math\n",
    "import plotly.express as px\n",
    "import plotly.graph_objects as go\n",
    "import plotly.figure_factory as ff\n",
    "import plotly.subplots as sub\n",
    "import dash\n",
    "from dash import dcc, html, Output, Input, State\n",
    "from sklearn.metrics import accuracy_score, precision_score, recall_score, f1_score, precision_recall_fscore_support, confusion_matrix, top_k_accuracy_score\n",
    "from sklearn.model_selection import StratifiedKFold\n",
    "import optuna\n",
    "from optuna.trial import TrialState\n",
    "\n",
    "from functools import partial\n",
    "import random\n",
    "import os\n",
    "import itertools\n",
    "from PIL import Image\n",
    "from tqdm.auto import tqdm\n",
    "\n",
    "import albumentations as A\n",
    "from albumentations.pytorch import ToTensorV2\n",
    "\n",
    "import torch\n",
    "import torchvision\n",
    "import torch.optim as optim\n",
    "from torch import nn\n",
    "import torch.nn.functional as F\n",
    "from torch.utils.data import DataLoader, Dataset, TensorDataset, Subset\n",
    "from torchvision.models import vgg16_bn, resnet50, resnet18, efficientnet_b0, densenet121, ResNet50_Weights, ResNet18_Weights, VGG16_BN_Weights, DenseNet121_Weights, EfficientNet_B0_Weights\n",
    "from torchvision.utils import make_grid, draw_bounding_boxes, draw_segmentation_masks, draw_keypoints\n",
    "from torchvision import datasets\n",
    "from torchvision.transforms import ToTensor, v2, ToPILImage\n",
    "from torchvision.io import decode_image\n",
    "\n",
    "from pathlib import Path\n",
    "from torch.utils.tensorboard import SummaryWriter\n",
    "from torch.amp import GradScaler, autocast\n",
    "\n",
    "from transformers import ViTForImageClassification, ViTImageProcessor, AutoModelForImageClassification, AutoImageProcessor, Trainer, TrainingArguments\n",
    "from huggingface_hub import snapshot_download, hf_hub_download\n",
    "import socket\n",
    "import json\n",
    "import sys\n",
    "import io\n",
    "import base64"
   ]
  },
  {
   "cell_type": "markdown",
   "id": "c161d5ad",
   "metadata": {},
   "source": [
    "# ROOT\n",
    "\n",
    "## Save torchvision's fine grained visual classification aircraft dataset into your local drive \n",
    "\n",
    "## May take up to 10 minutes to download if you have not done so!"
   ]
  },
  {
   "cell_type": "code",
   "execution_count": 2,
   "id": "4741552d",
   "metadata": {},
   "outputs": [],
   "source": [
    "\n",
    "project_root = os.path.abspath(os.path.join(os.getcwd(), os.pardir))\n",
    "sys.path.insert(0, project_root)\n",
    "\n",
    "from src.data_utils import FGVCAircraftDataset, get_datasets, get_loaders, get_raw\n",
    "from src import aircraft_utils, models\n"
   ]
  },
  {
   "cell_type": "code",
   "execution_count": 3,
   "id": "d6ca1106",
   "metadata": {},
   "outputs": [],
   "source": [
    "ROOT = get_raw()"
   ]
  },
  {
   "cell_type": "markdown",
   "id": "1283572f-1abe-4623-a8ed-36a0a644b330",
   "metadata": {},
   "source": [
    "# Detect CUDA GPU if available"
   ]
  },
  {
   "cell_type": "code",
   "execution_count": 8,
   "id": "e5ef7000-d0bb-43f4-b001-8e07801e455f",
   "metadata": {},
   "outputs": [],
   "source": [
    "# Check if GPU is available\n",
    "device = torch.device(\"cuda\" if torch.cuda.is_available() else (\"mps\" if torch.backends.mps.is_available() else \"cpu\"))"
   ]
  },
  {
   "cell_type": "markdown",
   "id": "5ba404b3-ab6b-4405-95c1-146c966d4a4c",
   "metadata": {},
   "source": [
    "# DataLoaders and DataSets instantiation"
   ]
  },
  {
   "cell_type": "code",
   "execution_count": 10,
   "id": "b4c83db6-9a8b-4f1c-9c5c-b1c07396d5c4",
   "metadata": {},
   "outputs": [],
   "source": [
    "train_loader, val_loader, test_loader, num_classes, class_names = get_loaders(img_size=224,batch_size=16,annot='variant')\n",
    "train_dataset, val_dataset, test_dataset = get_datasets(224,16,'variant')"
   ]
  },
  {
   "cell_type": "code",
   "execution_count": 11,
   "id": "1c56ac47-461f-4b16-bb6d-c1a1e2a7b19a",
   "metadata": {},
   "outputs": [
    {
     "data": {
      "text/plain": [
       "100"
      ]
     },
     "execution_count": 11,
     "metadata": {},
     "output_type": "execute_result"
    }
   ],
   "source": [
    "num_classes"
   ]
  },
  {
   "cell_type": "markdown",
   "id": "efe5508b-c1af-4b5d-b2ce-79c261e3e7a6",
   "metadata": {},
   "source": [
    "# Model, Loss Func, Optimizer, Scheduler etc."
   ]
  },
  {
   "cell_type": "code",
   "execution_count": 12,
   "id": "a6e95769-0a41-42b5-8ac2-696c3939bf97",
   "metadata": {},
   "outputs": [],
   "source": [
    "\n",
    "model=models.CAPResNet(num_classes, drop = 0.3563).to(device)\n",
    "patience = 5\n",
    "best_val_loss = float('inf')\n",
    "epochs_without_improvement = 0\n",
    "num_epochs = 20\n",
    "criterion = nn.CrossEntropyLoss(label_smoothing = 0.046858)\n",
    "optimizer = optim.Adam(model.parameters(), lr=5.1872e-05, weight_decay=0.002925) \n",
    "scheduler = optim.lr_scheduler.ReduceLROnPlateau(optimizer, mode='min', factor=0.5, patience=5)\n",
    "scaler = GradScaler(device)\n"
   ]
  },
  {
   "cell_type": "markdown",
   "id": "981a5851-a58c-43e8-86c4-136ee1854f9e",
   "metadata": {},
   "source": [
    "# Load the model parameters if existed"
   ]
  },
  {
   "cell_type": "code",
   "execution_count": 13,
   "id": "ca32f817-10ca-4f48-b8ef-c24880662c23",
   "metadata": {},
   "outputs": [],
   "source": [
    "# # Load the model\n",
    "# model_file = os.path.join(os.pardir, \"models\", \"best_model_variant.pth\")\n",
    "# model.load_state_dict(torch.load(model_file, weights_only=True))\n",
    "# model.eval()\n"
   ]
  },
  {
   "cell_type": "markdown",
   "id": "878544cb-bf57-440e-8bc4-475d2a2a39b1",
   "metadata": {},
   "source": [
    "# Or start a whole training valuation loop"
   ]
  },
  {
   "cell_type": "code",
   "execution_count": 16,
   "id": "66c0a890-abfe-47f3-97fe-b02d9867b917",
   "metadata": {
    "scrolled": true
   },
   "outputs": [
    {
     "data": {
      "application/vnd.jupyter.widget-view+json": {
       "model_id": "86fa6a3af7e140248c85e4b2aca4c427",
       "version_major": 2,
       "version_minor": 0
      },
      "text/plain": [
       "Training:   0%|          | 0/209 [00:00<?, ?it/s]"
      ]
     },
     "metadata": {},
     "output_type": "display_data"
    },
    {
     "data": {
      "application/vnd.jupyter.widget-view+json": {
       "model_id": "1b5629d5168a4ba1ab5259e27406d143",
       "version_major": 2,
       "version_minor": 0
      },
      "text/plain": [
       "Evaluation:   0%|          | 0/209 [00:00<?, ?it/s]"
      ]
     },
     "metadata": {},
     "output_type": "display_data"
    },
    {
     "name": "stdout",
     "output_type": "stream",
     "text": [
      "Epoch 1/20\n",
      "Train Loss: 4.5986, Train Acc: 0.0141\n",
      "Val Loss: 4.5485, Val Acc: 0.0441\n",
      "✅ Model improved. Saving...\n"
     ]
    },
    {
     "data": {
      "application/vnd.jupyter.widget-view+json": {
       "model_id": "2e08a5b6fb74446d9b61d5a58cfd9460",
       "version_major": 2,
       "version_minor": 0
      },
      "text/plain": [
       "Training:   0%|          | 0/209 [00:00<?, ?it/s]"
      ]
     },
     "metadata": {},
     "output_type": "display_data"
    },
    {
     "data": {
      "application/vnd.jupyter.widget-view+json": {
       "model_id": "6c1fb85cc0234b5aa15556b9566d587d",
       "version_major": 2,
       "version_minor": 0
      },
      "text/plain": [
       "Evaluation:   0%|          | 0/209 [00:00<?, ?it/s]"
      ]
     },
     "metadata": {},
     "output_type": "display_data"
    },
    {
     "name": "stdout",
     "output_type": "stream",
     "text": [
      "Epoch 2/20\n",
      "Train Loss: 4.3738, Train Acc: 0.0591\n",
      "Val Loss: 3.9850, Val Acc: 0.1296\n",
      "✅ Model improved. Saving...\n"
     ]
    },
    {
     "data": {
      "application/vnd.jupyter.widget-view+json": {
       "model_id": "89eb6d8be4df4cb28ef38fbaafa1ffab",
       "version_major": 2,
       "version_minor": 0
      },
      "text/plain": [
       "Training:   0%|          | 0/209 [00:00<?, ?it/s]"
      ]
     },
     "metadata": {},
     "output_type": "display_data"
    },
    {
     "data": {
      "application/vnd.jupyter.widget-view+json": {
       "model_id": "b570309523b441bb83207121fbfa6c43",
       "version_major": 2,
       "version_minor": 0
      },
      "text/plain": [
       "Evaluation:   0%|          | 0/209 [00:00<?, ?it/s]"
      ]
     },
     "metadata": {},
     "output_type": "display_data"
    },
    {
     "name": "stdout",
     "output_type": "stream",
     "text": [
      "Epoch 3/20\n",
      "Train Loss: 3.8620, Train Acc: 0.1368\n",
      "Val Loss: 3.4440, Val Acc: 0.2172\n",
      "✅ Model improved. Saving...\n"
     ]
    },
    {
     "data": {
      "application/vnd.jupyter.widget-view+json": {
       "model_id": "623fa6c5e77b4f37acd72979d6e2788e",
       "version_major": 2,
       "version_minor": 0
      },
      "text/plain": [
       "Training:   0%|          | 0/209 [00:00<?, ?it/s]"
      ]
     },
     "metadata": {},
     "output_type": "display_data"
    },
    {
     "data": {
      "application/vnd.jupyter.widget-view+json": {
       "model_id": "8dc47cb3442848c4ad3b7adc61a44226",
       "version_major": 2,
       "version_minor": 0
      },
      "text/plain": [
       "Evaluation:   0%|          | 0/209 [00:00<?, ?it/s]"
      ]
     },
     "metadata": {},
     "output_type": "display_data"
    },
    {
     "name": "stdout",
     "output_type": "stream",
     "text": [
      "Epoch 4/20\n",
      "Train Loss: 3.2966, Train Acc: 0.2208\n",
      "Val Loss: 2.8362, Val Acc: 0.3180\n",
      "✅ Model improved. Saving...\n"
     ]
    },
    {
     "data": {
      "application/vnd.jupyter.widget-view+json": {
       "model_id": "399c65aa4f344e188f05b5cb1a7357b9",
       "version_major": 2,
       "version_minor": 0
      },
      "text/plain": [
       "Training:   0%|          | 0/209 [00:00<?, ?it/s]"
      ]
     },
     "metadata": {},
     "output_type": "display_data"
    },
    {
     "data": {
      "application/vnd.jupyter.widget-view+json": {
       "model_id": "a93230e9b6d54ee096065d61f2bf41bd",
       "version_major": 2,
       "version_minor": 0
      },
      "text/plain": [
       "Evaluation:   0%|          | 0/209 [00:00<?, ?it/s]"
      ]
     },
     "metadata": {},
     "output_type": "display_data"
    },
    {
     "name": "stdout",
     "output_type": "stream",
     "text": [
      "Epoch 5/20\n",
      "Train Loss: 2.8870, Train Acc: 0.3062\n",
      "Val Loss: 2.5112, Val Acc: 0.3936\n",
      "✅ Model improved. Saving...\n"
     ]
    },
    {
     "data": {
      "application/vnd.jupyter.widget-view+json": {
       "model_id": "bdc2c8ce37f340d8af2edf0247049152",
       "version_major": 2,
       "version_minor": 0
      },
      "text/plain": [
       "Training:   0%|          | 0/209 [00:00<?, ?it/s]"
      ]
     },
     "metadata": {},
     "output_type": "display_data"
    },
    {
     "data": {
      "application/vnd.jupyter.widget-view+json": {
       "model_id": "bd43a4220fb541c6a5df202ee058b8dc",
       "version_major": 2,
       "version_minor": 0
      },
      "text/plain": [
       "Evaluation:   0%|          | 0/209 [00:00<?, ?it/s]"
      ]
     },
     "metadata": {},
     "output_type": "display_data"
    },
    {
     "name": "stdout",
     "output_type": "stream",
     "text": [
      "Epoch 6/20\n",
      "Train Loss: 2.5995, Train Acc: 0.3653\n",
      "Val Loss: 2.3002, Val Acc: 0.4332\n",
      "✅ Model improved. Saving...\n"
     ]
    },
    {
     "data": {
      "application/vnd.jupyter.widget-view+json": {
       "model_id": "344f671e68194c1193645843fb6db133",
       "version_major": 2,
       "version_minor": 0
      },
      "text/plain": [
       "Training:   0%|          | 0/209 [00:00<?, ?it/s]"
      ]
     },
     "metadata": {},
     "output_type": "display_data"
    },
    {
     "data": {
      "application/vnd.jupyter.widget-view+json": {
       "model_id": "31747ba9ca3c44f1a6713b1aad108b70",
       "version_major": 2,
       "version_minor": 0
      },
      "text/plain": [
       "Evaluation:   0%|          | 0/209 [00:00<?, ?it/s]"
      ]
     },
     "metadata": {},
     "output_type": "display_data"
    },
    {
     "name": "stdout",
     "output_type": "stream",
     "text": [
      "Epoch 7/20\n",
      "Train Loss: 2.3907, Train Acc: 0.4193\n",
      "Val Loss: 2.1314, Val Acc: 0.4713\n",
      "✅ Model improved. Saving...\n"
     ]
    },
    {
     "data": {
      "application/vnd.jupyter.widget-view+json": {
       "model_id": "c23f6b6dc28e4268bd6db64af16d27c3",
       "version_major": 2,
       "version_minor": 0
      },
      "text/plain": [
       "Training:   0%|          | 0/209 [00:00<?, ?it/s]"
      ]
     },
     "metadata": {},
     "output_type": "display_data"
    },
    {
     "data": {
      "application/vnd.jupyter.widget-view+json": {
       "model_id": "19461fce9e264199bd6643ed701946e4",
       "version_major": 2,
       "version_minor": 0
      },
      "text/plain": [
       "Evaluation:   0%|          | 0/209 [00:00<?, ?it/s]"
      ]
     },
     "metadata": {},
     "output_type": "display_data"
    },
    {
     "name": "stdout",
     "output_type": "stream",
     "text": [
      "Epoch 8/20\n",
      "Train Loss: 2.2064, Train Acc: 0.4646\n",
      "Val Loss: 2.0153, Val Acc: 0.4932\n",
      "✅ Model improved. Saving...\n"
     ]
    },
    {
     "data": {
      "application/vnd.jupyter.widget-view+json": {
       "model_id": "5f86aaa9088b476ba176569a66cd6463",
       "version_major": 2,
       "version_minor": 0
      },
      "text/plain": [
       "Training:   0%|          | 0/209 [00:00<?, ?it/s]"
      ]
     },
     "metadata": {},
     "output_type": "display_data"
    },
    {
     "data": {
      "application/vnd.jupyter.widget-view+json": {
       "model_id": "583672d918ca42308681e2949c122e7e",
       "version_major": 2,
       "version_minor": 0
      },
      "text/plain": [
       "Evaluation:   0%|          | 0/209 [00:00<?, ?it/s]"
      ]
     },
     "metadata": {},
     "output_type": "display_data"
    },
    {
     "name": "stdout",
     "output_type": "stream",
     "text": [
      "Epoch 9/20\n",
      "Train Loss: 2.0702, Train Acc: 0.5099\n",
      "Val Loss: 1.8997, Val Acc: 0.5092\n",
      "✅ Model improved. Saving...\n"
     ]
    },
    {
     "data": {
      "application/vnd.jupyter.widget-view+json": {
       "model_id": "0d45c1fbc77e4bb1ac82071a5c6ee234",
       "version_major": 2,
       "version_minor": 0
      },
      "text/plain": [
       "Training:   0%|          | 0/209 [00:00<?, ?it/s]"
      ]
     },
     "metadata": {},
     "output_type": "display_data"
    },
    {
     "data": {
      "application/vnd.jupyter.widget-view+json": {
       "model_id": "2d9494462c3c4c6fa2b54656d5803843",
       "version_major": 2,
       "version_minor": 0
      },
      "text/plain": [
       "Evaluation:   0%|          | 0/209 [00:00<?, ?it/s]"
      ]
     },
     "metadata": {},
     "output_type": "display_data"
    },
    {
     "name": "stdout",
     "output_type": "stream",
     "text": [
      "Epoch 10/20\n",
      "Train Loss: 1.9455, Train Acc: 0.5408\n",
      "Val Loss: 1.8436, Val Acc: 0.5506\n",
      "✅ Model improved. Saving...\n"
     ]
    },
    {
     "data": {
      "application/vnd.jupyter.widget-view+json": {
       "model_id": "578ad685bbba44b8a119c63f8f056c31",
       "version_major": 2,
       "version_minor": 0
      },
      "text/plain": [
       "Training:   0%|          | 0/209 [00:00<?, ?it/s]"
      ]
     },
     "metadata": {},
     "output_type": "display_data"
    },
    {
     "data": {
      "application/vnd.jupyter.widget-view+json": {
       "model_id": "52670504ff1040aca5684ad0ac14a24b",
       "version_major": 2,
       "version_minor": 0
      },
      "text/plain": [
       "Evaluation:   0%|          | 0/209 [00:00<?, ?it/s]"
      ]
     },
     "metadata": {},
     "output_type": "display_data"
    },
    {
     "name": "stdout",
     "output_type": "stream",
     "text": [
      "Epoch 11/20\n",
      "Train Loss: 1.8681, Train Acc: 0.5738\n",
      "Val Loss: 1.7879, Val Acc: 0.5548\n",
      "✅ Model improved. Saving...\n"
     ]
    },
    {
     "data": {
      "application/vnd.jupyter.widget-view+json": {
       "model_id": "ae3635ca394044a6830a53f725fabbc0",
       "version_major": 2,
       "version_minor": 0
      },
      "text/plain": [
       "Training:   0%|          | 0/209 [00:00<?, ?it/s]"
      ]
     },
     "metadata": {},
     "output_type": "display_data"
    },
    {
     "data": {
      "application/vnd.jupyter.widget-view+json": {
       "model_id": "bac663dbf78a4700a8dc505109cacc9c",
       "version_major": 2,
       "version_minor": 0
      },
      "text/plain": [
       "Evaluation:   0%|          | 0/209 [00:00<?, ?it/s]"
      ]
     },
     "metadata": {},
     "output_type": "display_data"
    },
    {
     "name": "stdout",
     "output_type": "stream",
     "text": [
      "Epoch 12/20\n",
      "Train Loss: 1.7821, Train Acc: 0.5945\n",
      "Val Loss: 1.7393, Val Acc: 0.5782\n",
      "✅ Model improved. Saving...\n"
     ]
    },
    {
     "data": {
      "application/vnd.jupyter.widget-view+json": {
       "model_id": "3024166bded14298b3be346f81938cd8",
       "version_major": 2,
       "version_minor": 0
      },
      "text/plain": [
       "Training:   0%|          | 0/209 [00:00<?, ?it/s]"
      ]
     },
     "metadata": {},
     "output_type": "display_data"
    },
    {
     "data": {
      "application/vnd.jupyter.widget-view+json": {
       "model_id": "abe299fdd1674bdcaab16852afef647f",
       "version_major": 2,
       "version_minor": 0
      },
      "text/plain": [
       "Evaluation:   0%|          | 0/209 [00:00<?, ?it/s]"
      ]
     },
     "metadata": {},
     "output_type": "display_data"
    },
    {
     "name": "stdout",
     "output_type": "stream",
     "text": [
      "Epoch 13/20\n",
      "Train Loss: 1.7203, Train Acc: 0.6164\n",
      "Val Loss: 1.6973, Val Acc: 0.5818\n",
      "✅ Model improved. Saving...\n"
     ]
    },
    {
     "data": {
      "application/vnd.jupyter.widget-view+json": {
       "model_id": "15a39105203d418d8bba88e92fe11de7",
       "version_major": 2,
       "version_minor": 0
      },
      "text/plain": [
       "Training:   0%|          | 0/209 [00:00<?, ?it/s]"
      ]
     },
     "metadata": {},
     "output_type": "display_data"
    },
    {
     "data": {
      "application/vnd.jupyter.widget-view+json": {
       "model_id": "c6857aa651e54fe5b30fc5027dc16475",
       "version_major": 2,
       "version_minor": 0
      },
      "text/plain": [
       "Evaluation:   0%|          | 0/209 [00:00<?, ?it/s]"
      ]
     },
     "metadata": {},
     "output_type": "display_data"
    },
    {
     "name": "stdout",
     "output_type": "stream",
     "text": [
      "Epoch 14/20\n",
      "Train Loss: 1.6515, Train Acc: 0.6296\n",
      "Val Loss: 1.6685, Val Acc: 0.6043\n",
      "✅ Model improved. Saving...\n"
     ]
    },
    {
     "data": {
      "application/vnd.jupyter.widget-view+json": {
       "model_id": "6d3d6b5776f0419aaea4935c6f07e6b2",
       "version_major": 2,
       "version_minor": 0
      },
      "text/plain": [
       "Training:   0%|          | 0/209 [00:00<?, ?it/s]"
      ]
     },
     "metadata": {},
     "output_type": "display_data"
    },
    {
     "data": {
      "application/vnd.jupyter.widget-view+json": {
       "model_id": "2029d998c69c423396c99308f32159a6",
       "version_major": 2,
       "version_minor": 0
      },
      "text/plain": [
       "Evaluation:   0%|          | 0/209 [00:00<?, ?it/s]"
      ]
     },
     "metadata": {},
     "output_type": "display_data"
    },
    {
     "name": "stdout",
     "output_type": "stream",
     "text": [
      "Epoch 15/20\n",
      "Train Loss: 1.5881, Train Acc: 0.6500\n",
      "Val Loss: 1.6846, Val Acc: 0.5824\n",
      "⚠️ No improvement for 1 epoch(s).\n"
     ]
    },
    {
     "data": {
      "application/vnd.jupyter.widget-view+json": {
       "model_id": "752d68947e914b5992c560f4e795e450",
       "version_major": 2,
       "version_minor": 0
      },
      "text/plain": [
       "Training:   0%|          | 0/209 [00:00<?, ?it/s]"
      ]
     },
     "metadata": {},
     "output_type": "display_data"
    },
    {
     "data": {
      "application/vnd.jupyter.widget-view+json": {
       "model_id": "7bff3ae740ba4994906c10ca7a155658",
       "version_major": 2,
       "version_minor": 0
      },
      "text/plain": [
       "Evaluation:   0%|          | 0/209 [00:00<?, ?it/s]"
      ]
     },
     "metadata": {},
     "output_type": "display_data"
    },
    {
     "name": "stdout",
     "output_type": "stream",
     "text": [
      "Epoch 16/20\n",
      "Train Loss: 1.5441, Train Acc: 0.6707\n",
      "Val Loss: 1.5958, Val Acc: 0.6181\n",
      "✅ Model improved. Saving...\n"
     ]
    },
    {
     "data": {
      "application/vnd.jupyter.widget-view+json": {
       "model_id": "4acc9c0fed644dfe971e9e3a3dd4d04b",
       "version_major": 2,
       "version_minor": 0
      },
      "text/plain": [
       "Training:   0%|          | 0/209 [00:00<?, ?it/s]"
      ]
     },
     "metadata": {},
     "output_type": "display_data"
    },
    {
     "data": {
      "application/vnd.jupyter.widget-view+json": {
       "model_id": "b7560ca950724a9a85d362e096adb172",
       "version_major": 2,
       "version_minor": 0
      },
      "text/plain": [
       "Evaluation:   0%|          | 0/209 [00:00<?, ?it/s]"
      ]
     },
     "metadata": {},
     "output_type": "display_data"
    },
    {
     "name": "stdout",
     "output_type": "stream",
     "text": [
      "Epoch 17/20\n",
      "Train Loss: 1.4833, Train Acc: 0.6887\n",
      "Val Loss: 1.6186, Val Acc: 0.6109\n",
      "⚠️ No improvement for 1 epoch(s).\n"
     ]
    },
    {
     "data": {
      "application/vnd.jupyter.widget-view+json": {
       "model_id": "d95e4ebb17064e1db896dd598cec87dd",
       "version_major": 2,
       "version_minor": 0
      },
      "text/plain": [
       "Training:   0%|          | 0/209 [00:00<?, ?it/s]"
      ]
     },
     "metadata": {},
     "output_type": "display_data"
    },
    {
     "data": {
      "application/vnd.jupyter.widget-view+json": {
       "model_id": "29f7c1b1de0242089621085d7bb4505f",
       "version_major": 2,
       "version_minor": 0
      },
      "text/plain": [
       "Evaluation:   0%|          | 0/209 [00:00<?, ?it/s]"
      ]
     },
     "metadata": {},
     "output_type": "display_data"
    },
    {
     "name": "stdout",
     "output_type": "stream",
     "text": [
      "Epoch 18/20\n",
      "Train Loss: 1.4769, Train Acc: 0.6935\n",
      "Val Loss: 1.5738, Val Acc: 0.6193\n",
      "✅ Model improved. Saving...\n"
     ]
    },
    {
     "data": {
      "application/vnd.jupyter.widget-view+json": {
       "model_id": "3638f084d14e46c8b9c3dd7495397371",
       "version_major": 2,
       "version_minor": 0
      },
      "text/plain": [
       "Training:   0%|          | 0/209 [00:00<?, ?it/s]"
      ]
     },
     "metadata": {},
     "output_type": "display_data"
    },
    {
     "data": {
      "application/vnd.jupyter.widget-view+json": {
       "model_id": "bfedbd835ab247b996f20543b2b6b73e",
       "version_major": 2,
       "version_minor": 0
      },
      "text/plain": [
       "Evaluation:   0%|          | 0/209 [00:00<?, ?it/s]"
      ]
     },
     "metadata": {},
     "output_type": "display_data"
    },
    {
     "name": "stdout",
     "output_type": "stream",
     "text": [
      "Epoch 19/20\n",
      "Train Loss: 1.4159, Train Acc: 0.7106\n",
      "Val Loss: 1.5773, Val Acc: 0.6289\n",
      "⚠️ No improvement for 1 epoch(s).\n"
     ]
    },
    {
     "data": {
      "application/vnd.jupyter.widget-view+json": {
       "model_id": "b201f2fa534946528d5d23fd7f47f9a6",
       "version_major": 2,
       "version_minor": 0
      },
      "text/plain": [
       "Training:   0%|          | 0/209 [00:00<?, ?it/s]"
      ]
     },
     "metadata": {},
     "output_type": "display_data"
    },
    {
     "data": {
      "application/vnd.jupyter.widget-view+json": {
       "model_id": "e52b981bd80e4a2488de531e1590438b",
       "version_major": 2,
       "version_minor": 0
      },
      "text/plain": [
       "Evaluation:   0%|          | 0/209 [00:00<?, ?it/s]"
      ]
     },
     "metadata": {},
     "output_type": "display_data"
    },
    {
     "name": "stdout",
     "output_type": "stream",
     "text": [
      "Epoch 20/20\n",
      "Train Loss: 1.4068, Train Acc: 0.7091\n",
      "Val Loss: 1.5744, Val Acc: 0.6262\n",
      "⚠️ No improvement for 2 epoch(s).\n",
      "CPU times: total: 36min 40s\n",
      "Wall time: 36min 28s\n"
     ]
    }
   ],
   "source": [
    "%%time\n",
    "train_loss_lst =[]\n",
    "train_acc_lst = []\n",
    "val_loss_lst = []\n",
    "val_acc_lst = []\n",
    "all_val_preds = []\n",
    "all_val_labels = []\n",
    "model_path = os.path.join(os.pardir, \"models\", \"best_model.pth\")\n",
    "\n",
    "for epoch in range(num_epochs):\n",
    "\n",
    "    train_loss, train_acc, t_loss_lst, t__acc_lst = aircraft_utils.train_one_epoch(model, train_loader, criterion, optimizer, device, scaler)\n",
    "    val_loss, val_acc, val_preds, val_labels, v_loss_lst, v_acc_lst = aircraft_utils.evaluate(model, val_loader, criterion, device)\n",
    "    train_loss_lst.append(train_loss)\n",
    "    train_acc_lst.append(train_acc)\n",
    "    val_loss_lst.append(val_loss)\n",
    "    val_acc_lst.append(val_acc)\n",
    "    \n",
    "    all_val_preds.extend(val_preds)\n",
    "    all_val_labels.extend(val_labels)\n",
    "\n",
    "\n",
    "    print(f\"Epoch {epoch+1}/{num_epochs}\")\n",
    "    print(f\"Train Loss: {train_loss:.4f}, Train Acc: {train_acc:.4f}\")\n",
    "    print(f\"Val Loss: {val_loss:.4f}, Val Acc: {val_acc:.4f}\")\n",
    "\n",
    "\n",
    "    # Step the scheduler\n",
    "    #scheduler.step()# for all other schedulers\n",
    "    scheduler.step(val_loss) # only for 'ReduceLROnPlateau'\n",
    "\n",
    "    # Early stopping check\n",
    "    if val_loss < best_val_loss:\n",
    "        best_val_loss = val_loss\n",
    "        epochs_without_improvement = 0\n",
    "        torch.save(model.state_dict(), model_path)  # Save best model\n",
    "        print(\"✅ Model improved. Saving...\")\n",
    "    else:\n",
    "        epochs_without_improvement += 1\n",
    "        print(f\"⚠️ No improvement for {epochs_without_improvement} epoch(s).\")\n",
    "\n",
    "    if epochs_without_improvement >= patience:\n",
    "        print(\"⏹️ Early stopping triggered.\")\n",
    "        break\n"
   ]
  },
  {
   "cell_type": "markdown",
   "id": "3cd390c3-c0f5-4ac8-9f7f-4a49af4f8e88",
   "metadata": {},
   "source": [
    "Validation accuracy > Training accuracy:\n",
    "This is not unusual early in training. It can happen due to:\n",
    "Regularization effects (e.g., dropout active during training but not during validation).\n",
    "Batch norm behavior differing between training and inference.\n",
    "Small training batches causing noisy gradients.\n",
    "Validation set being easier or more representative early on."
   ]
  },
  {
   "cell_type": "markdown",
   "id": "506b735d-f90b-4758-9717-ad46cf9f3974",
   "metadata": {},
   "source": [
    "# Final Evaluation on generalizing unseen Test set, \n",
    "# Top-k accuracy and F1 scores "
   ]
  },
  {
   "cell_type": "code",
   "execution_count": 17,
   "id": "f0ed11db-ed4b-41ff-9ee9-b905840ee7d5",
   "metadata": {},
   "outputs": [
    {
     "data": {
      "application/vnd.jupyter.widget-view+json": {
       "model_id": "4a90d58d2323479da6b56870c7fa495b",
       "version_major": 2,
       "version_minor": 0
      },
      "text/plain": [
       "Final Evaluation:   0%|          | 0/209 [00:00<?, ?it/s]"
      ]
     },
     "metadata": {},
     "output_type": "display_data"
    },
    {
     "name": "stdout",
     "output_type": "stream",
     "text": [
      "Final Evaluation Metrics:\n",
      "Top-1 Accuracy: 0.6271\n",
      "Top-3 Accuracy: 0.8560\n",
      "F1 Macro: 0.6222\n",
      "F1 Micro: 0.6271\n"
     ]
    }
   ],
   "source": [
    "model.eval()\n",
    "final_preds = []\n",
    "final_labels = []\n",
    "\n",
    "with torch.no_grad():\n",
    "    for inputs, labels in tqdm(test_loader, desc=\"Final Evaluation\", leave=False):\n",
    "        inputs, labels = inputs.to(device), labels.to(device)\n",
    "        outputs = model(inputs)\n",
    "        final_preds.append(outputs.cpu())\n",
    "        final_labels.append(labels.cpu())\n",
    "\n",
    "final_preds = torch.cat(final_preds)\n",
    "final_labels = torch.cat(final_labels)\n",
    "\n",
    "final_metrics = aircraft_utils.compute_metrics(final_labels, final_preds, k=3)\n",
    "print(\"Final Evaluation Metrics:\")\n",
    "for key, value in final_metrics.items():\n",
    "    print(f\"{key}: {value:.4f}\")"
   ]
  },
  {
   "cell_type": "markdown",
   "id": "2d14def0-8a02-4431-a81d-d743b1988b2d",
   "metadata": {},
   "source": [
    "# Confusion Matrix"
   ]
  },
  {
   "cell_type": "code",
   "execution_count": 18,
   "id": "3a4dc6af-8c0a-40f4-bbec-9614813a556e",
   "metadata": {},
   "outputs": [],
   "source": [
    "cm = confusion_matrix(all_val_labels, all_val_preds)\n",
    "cm_normalized = cm.astype('float') / cm.sum(axis=1)[:, np.newaxis]\n",
    "class_accuracy = np.diag(cm_normalized)\n",
    "tick_marks = np.arange(len(class_names))"
   ]
  },
  {
   "cell_type": "markdown",
   "id": "05d7ec05-d4e4-436d-990e-85f95fdf2b1e",
   "metadata": {},
   "source": [
    "# CM heatmap along with Lollipop scatter plot"
   ]
  },
  {
   "cell_type": "code",
   "execution_count": 19,
   "id": "7686b719-43cf-4551-84a6-16039444ba3d",
   "metadata": {},
   "outputs": [
    {
     "name": "stdout",
     "output_type": "stream",
     "text": [
      "Interactive confusion matrix with variant level class accuracy saved as 'interactive_confusion_matrix.html'.\n"
     ]
    },
    {
     "data": {
      "application/vnd.plotly.v1+json": {
       "config": {
        "plotlyServerURL": "https://plot.ly"
       },
       "data": [
        {
         "colorbar": {
          "title": {
           "text": "Accuracy"
          }
         },
         "colorscale": [
          [
           0,
           "#0d0887"
          ],
          [
           0.1111111111111111,
           "#46039f"
          ],
          [
           0.2222222222222222,
           "#7201a8"
          ],
          [
           0.3333333333333333,
           "#9c179e"
          ],
          [
           0.4444444444444444,
           "#bd3786"
          ],
          [
           0.5555555555555556,
           "#d8576b"
          ],
          [
           0.6666666666666666,
           "#ed7953"
          ],
          [
           0.7777777777777778,
           "#fb9f3a"
          ],
          [
           0.8888888888888888,
           "#fdca26"
          ],
          [
           1,
           "#f0f921"
          ]
         ],
         "hovertemplate": "Actual: %{y}<br>Predicted: %{x}<br>Accuracy: %{z:.2%}<extra></extra>",
         "type": "heatmap",
         "x": [
          "707-320",
          "727-200",
          "737-200",
          "737-300",
          "737-400",
          "737-500",
          "737-600",
          "737-700",
          "737-800",
          "737-900",
          "747-100",
          "747-200",
          "747-300",
          "747-400",
          "757-200",
          "757-300",
          "767-200",
          "767-300",
          "767-400",
          "777-200",
          "777-300",
          "A300B4",
          "A310",
          "A318",
          "A319",
          "A320",
          "A321",
          "A330-200",
          "A330-300",
          "A340-200",
          "A340-300",
          "A340-500",
          "A340-600",
          "A380",
          "ATR-42",
          "ATR-72",
          "An-12",
          "BAE 146-200",
          "BAE 146-300",
          "BAE-125",
          "Beechcraft 1900",
          "Boeing 717",
          "C-130",
          "C-47",
          "CRJ-200",
          "CRJ-700",
          "CRJ-900",
          "Cessna 172",
          "Cessna 208",
          "Cessna 525",
          "Cessna 560",
          "Challenger 600",
          "DC-10",
          "DC-3",
          "DC-6",
          "DC-8",
          "DC-9-30",
          "DH-82",
          "DHC-1",
          "DHC-6",
          "DHC-8-100",
          "DHC-8-300",
          "DR-400",
          "Dornier 328",
          "E-170",
          "E-190",
          "E-195",
          "EMB-120",
          "ERJ 135",
          "ERJ 145",
          "Embraer Legacy 600",
          "Eurofighter Typhoon",
          "F-16A/B",
          "F/A-18",
          "Falcon 2000",
          "Falcon 900",
          "Fokker 100",
          "Fokker 50",
          "Fokker 70",
          "Global Express",
          "Gulfstream IV",
          "Gulfstream V",
          "Hawk T1",
          "Il-76",
          "L-1011",
          "MD-11",
          "MD-80",
          "MD-87",
          "MD-90",
          "Metroliner",
          "Model B200",
          "PA-28",
          "SR-20",
          "Saab 2000",
          "Saab 340",
          "Spitfire",
          "Tornado",
          "Tu-134",
          "Tu-154",
          "Yak-42"
         ],
         "xaxis": "x",
         "y": [
          "707-320",
          "727-200",
          "737-200",
          "737-300",
          "737-400",
          "737-500",
          "737-600",
          "737-700",
          "737-800",
          "737-900",
          "747-100",
          "747-200",
          "747-300",
          "747-400",
          "757-200",
          "757-300",
          "767-200",
          "767-300",
          "767-400",
          "777-200",
          "777-300",
          "A300B4",
          "A310",
          "A318",
          "A319",
          "A320",
          "A321",
          "A330-200",
          "A330-300",
          "A340-200",
          "A340-300",
          "A340-500",
          "A340-600",
          "A380",
          "ATR-42",
          "ATR-72",
          "An-12",
          "BAE 146-200",
          "BAE 146-300",
          "BAE-125",
          "Beechcraft 1900",
          "Boeing 717",
          "C-130",
          "C-47",
          "CRJ-200",
          "CRJ-700",
          "CRJ-900",
          "Cessna 172",
          "Cessna 208",
          "Cessna 525",
          "Cessna 560",
          "Challenger 600",
          "DC-10",
          "DC-3",
          "DC-6",
          "DC-8",
          "DC-9-30",
          "DH-82",
          "DHC-1",
          "DHC-6",
          "DHC-8-100",
          "DHC-8-300",
          "DR-400",
          "Dornier 328",
          "E-170",
          "E-190",
          "E-195",
          "EMB-120",
          "ERJ 135",
          "ERJ 145",
          "Embraer Legacy 600",
          "Eurofighter Typhoon",
          "F-16A/B",
          "F/A-18",
          "Falcon 2000",
          "Falcon 900",
          "Fokker 100",
          "Fokker 50",
          "Fokker 70",
          "Global Express",
          "Gulfstream IV",
          "Gulfstream V",
          "Hawk T1",
          "Il-76",
          "L-1011",
          "MD-11",
          "MD-80",
          "MD-87",
          "MD-90",
          "Metroliner",
          "Model B200",
          "PA-28",
          "SR-20",
          "Saab 2000",
          "Saab 340",
          "Spitfire",
          "Tornado",
          "Tu-134",
          "Tu-154",
          "Yak-42"
         ],
         "yaxis": "y",
         "z": {
          "bdata": "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",
          "dtype": "f8",
          "shape": "100, 100"
         }
        },
        {
         "hovertemplate": "Class: %{x}<br>Accuracy: %{y:.2%}<extra></extra>",
         "line": {
          "color": "lightblue"
         },
         "marker": {
          "color": "blue",
          "size": 8
         },
         "mode": "markers+lines",
         "name": "Class Accuracy",
         "type": "scatter",
         "x": [
          "707-320",
          "727-200",
          "737-200",
          "737-300",
          "737-400",
          "737-500",
          "737-600",
          "737-700",
          "737-800",
          "737-900",
          "747-100",
          "747-200",
          "747-300",
          "747-400",
          "757-200",
          "757-300",
          "767-200",
          "767-300",
          "767-400",
          "777-200",
          "777-300",
          "A300B4",
          "A310",
          "A318",
          "A319",
          "A320",
          "A321",
          "A330-200",
          "A330-300",
          "A340-200",
          "A340-300",
          "A340-500",
          "A340-600",
          "A380",
          "ATR-42",
          "ATR-72",
          "An-12",
          "BAE 146-200",
          "BAE 146-300",
          "BAE-125",
          "Beechcraft 1900",
          "Boeing 717",
          "C-130",
          "C-47",
          "CRJ-200",
          "CRJ-700",
          "CRJ-900",
          "Cessna 172",
          "Cessna 208",
          "Cessna 525",
          "Cessna 560",
          "Challenger 600",
          "DC-10",
          "DC-3",
          "DC-6",
          "DC-8",
          "DC-9-30",
          "DH-82",
          "DHC-1",
          "DHC-6",
          "DHC-8-100",
          "DHC-8-300",
          "DR-400",
          "Dornier 328",
          "E-170",
          "E-190",
          "E-195",
          "EMB-120",
          "ERJ 135",
          "ERJ 145",
          "Embraer Legacy 600",
          "Eurofighter Typhoon",
          "F-16A/B",
          "F/A-18",
          "Falcon 2000",
          "Falcon 900",
          "Fokker 100",
          "Fokker 50",
          "Fokker 70",
          "Global Express",
          "Gulfstream IV",
          "Gulfstream V",
          "Hawk T1",
          "Il-76",
          "L-1011",
          "MD-11",
          "MD-80",
          "MD-87",
          "MD-90",
          "Metroliner",
          "Model B200",
          "PA-28",
          "SR-20",
          "Saab 2000",
          "Saab 340",
          "Spitfire",
          "Tornado",
          "Tu-134",
          "Tu-154",
          "Yak-42"
         ],
         "xaxis": "x2",
         "y": {
          "bdata": "gWkMmMaA2T/x8PDw8PDYP79h7RvWvuE/zp/l/FnOvz/u7e3t7e3NP4pbobgViss/Ws6f5fxZ5j++vb29vb3NP+NWKG6F4sY/ERERERER0T9gYGBgYGDQPwyYxoBpDKg/H3zwwQcf3D/l5OTk5OTEP3BY+4a1b7g/vY7U60i93j+Uk5OTk5PTPwLTGDCNAcM/rH3D2jes3T9ycnJycnLCP9MYMI0B09g/ex2p15F6zT91dXV1dXXFP4QPPvjgg98/MzMzMzMz0z/T0tLS0tLCP1100UUXXdQ/Q3ErFLdC0T9mZmZmZmbGPzl/lvNnOc8/ZZNNNtlk0z+dnJycnJzcP6G4FYpbodg/bbLJJpts4j9gYGBgYGDkPwV5SpCnBNk/Ntlkk0026T+dnJycnJzcPzisfcPaN9w/Sb2O1OtI5T+1tLS0tLTgPwyYxoBpDNg/AtMYMI0B6z/9/Pz8/PzMP3sdqdeRet0/bbLJJpts0j+ysbGxsbHZP5CnBHlKkOc/jC666KKL5j+OjY2NjY3pP/cNa9+w9t0/9TpSryP14j+RkJCQkJDQPwAAAAAAAOA/VVVVVVVV5T+pqKioqKjQP3+W82c5f9Y/ex2p15F67T9CQkJCQkLmPwZMY8A0BuQ/w9o3rH3D4j8DAwMDAwPjP1100UUXXew/IU8J8pQg5z97e3t7e3vTPxoDpjFgGtM/R+p1pF5H4j+4t7e3t7fjPwZMY8A0Btw/d3d3d3d31z+RkJCQkJDgP0GeEuQpQeY/jQHTGDCN6T+vrq6urq7qP9FFF1100eU/MmAaA6Yx6D94eHh4eHjQP83MzMzMzOQ/QMv5s5w/2z94eHh4eHjYP3P+LOfPct4/CB988MEH3z/l5OTk5OToP+NWKG6F4uY/7RvWvmHt2z/r6urq6urSPxS3QnErFNc/C8WtUNwK1T9UVFRUVFTUPy+66KKLLuI/SpCnBHlK6D9UVFRUVFToP2WTTTbZZOs/oOX8Wc6f5T9ISEhISEjkP4I8JchTguw//VnOn+X86T+XlpaWlpbiPzl/lvNnOec/ZmZmZmZm5j8=",
          "dtype": "f8"
         },
         "yaxis": "y2"
        }
       ],
       "layout": {
        "annotations": [
         {
          "font": {
           "size": 16
          },
          "showarrow": false,
          "text": "Normalized Confusion Matrix",
          "x": 0.5,
          "xanchor": "center",
          "xref": "paper",
          "y": 0.9999999999999999,
          "yanchor": "bottom",
          "yref": "paper"
         },
         {
          "font": {
           "size": 16
          },
          "showarrow": false,
          "text": "Accuracy per Class",
          "x": 0.5,
          "xanchor": "center",
          "xref": "paper",
          "y": 0.285,
          "yanchor": "bottom",
          "yref": "paper"
         }
        ],
        "height": 1000,
        "margin": {
         "t": 100
        },
        "template": {
         "data": {
          "bar": [
           {
            "error_x": {
             "color": "#2a3f5f"
            },
            "error_y": {
             "color": "#2a3f5f"
            },
            "marker": {
             "line": {
              "color": "#E5ECF6",
              "width": 0.5
             },
             "pattern": {
              "fillmode": "overlay",
              "size": 10,
              "solidity": 0.2
             }
            },
            "type": "bar"
           }
          ],
          "barpolar": [
           {
            "marker": {
             "line": {
              "color": "#E5ECF6",
              "width": 0.5
             },
             "pattern": {
              "fillmode": "overlay",
              "size": 10,
              "solidity": 0.2
             }
            },
            "type": "barpolar"
           }
          ],
          "carpet": [
           {
            "aaxis": {
             "endlinecolor": "#2a3f5f",
             "gridcolor": "white",
             "linecolor": "white",
             "minorgridcolor": "white",
             "startlinecolor": "#2a3f5f"
            },
            "baxis": {
             "endlinecolor": "#2a3f5f",
             "gridcolor": "white",
             "linecolor": "white",
             "minorgridcolor": "white",
             "startlinecolor": "#2a3f5f"
            },
            "type": "carpet"
           }
          ],
          "choropleth": [
           {
            "colorbar": {
             "outlinewidth": 0,
             "ticks": ""
            },
            "type": "choropleth"
           }
          ],
          "contour": [
           {
            "colorbar": {
             "outlinewidth": 0,
             "ticks": ""
            },
            "colorscale": [
             [
              0,
              "#0d0887"
             ],
             [
              0.1111111111111111,
              "#46039f"
             ],
             [
              0.2222222222222222,
              "#7201a8"
             ],
             [
              0.3333333333333333,
              "#9c179e"
             ],
             [
              0.4444444444444444,
              "#bd3786"
             ],
             [
              0.5555555555555556,
              "#d8576b"
             ],
             [
              0.6666666666666666,
              "#ed7953"
             ],
             [
              0.7777777777777778,
              "#fb9f3a"
             ],
             [
              0.8888888888888888,
              "#fdca26"
             ],
             [
              1,
              "#f0f921"
             ]
            ],
            "type": "contour"
           }
          ],
          "contourcarpet": [
           {
            "colorbar": {
             "outlinewidth": 0,
             "ticks": ""
            },
            "type": "contourcarpet"
           }
          ],
          "heatmap": [
           {
            "colorbar": {
             "outlinewidth": 0,
             "ticks": ""
            },
            "colorscale": [
             [
              0,
              "#0d0887"
             ],
             [
              0.1111111111111111,
              "#46039f"
             ],
             [
              0.2222222222222222,
              "#7201a8"
             ],
             [
              0.3333333333333333,
              "#9c179e"
             ],
             [
              0.4444444444444444,
              "#bd3786"
             ],
             [
              0.5555555555555556,
              "#d8576b"
             ],
             [
              0.6666666666666666,
              "#ed7953"
             ],
             [
              0.7777777777777778,
              "#fb9f3a"
             ],
             [
              0.8888888888888888,
              "#fdca26"
             ],
             [
              1,
              "#f0f921"
             ]
            ],
            "type": "heatmap"
           }
          ],
          "histogram": [
           {
            "marker": {
             "pattern": {
              "fillmode": "overlay",
              "size": 10,
              "solidity": 0.2
             }
            },
            "type": "histogram"
           }
          ],
          "histogram2d": [
           {
            "colorbar": {
             "outlinewidth": 0,
             "ticks": ""
            },
            "colorscale": [
             [
              0,
              "#0d0887"
             ],
             [
              0.1111111111111111,
              "#46039f"
             ],
             [
              0.2222222222222222,
              "#7201a8"
             ],
             [
              0.3333333333333333,
              "#9c179e"
             ],
             [
              0.4444444444444444,
              "#bd3786"
             ],
             [
              0.5555555555555556,
              "#d8576b"
             ],
             [
              0.6666666666666666,
              "#ed7953"
             ],
             [
              0.7777777777777778,
              "#fb9f3a"
             ],
             [
              0.8888888888888888,
              "#fdca26"
             ],
             [
              1,
              "#f0f921"
             ]
            ],
            "type": "histogram2d"
           }
          ],
          "histogram2dcontour": [
           {
            "colorbar": {
             "outlinewidth": 0,
             "ticks": ""
            },
            "colorscale": [
             [
              0,
              "#0d0887"
             ],
             [
              0.1111111111111111,
              "#46039f"
             ],
             [
              0.2222222222222222,
              "#7201a8"
             ],
             [
              0.3333333333333333,
              "#9c179e"
             ],
             [
              0.4444444444444444,
              "#bd3786"
             ],
             [
              0.5555555555555556,
              "#d8576b"
             ],
             [
              0.6666666666666666,
              "#ed7953"
             ],
             [
              0.7777777777777778,
              "#fb9f3a"
             ],
             [
              0.8888888888888888,
              "#fdca26"
             ],
             [
              1,
              "#f0f921"
             ]
            ],
            "type": "histogram2dcontour"
           }
          ],
          "mesh3d": [
           {
            "colorbar": {
             "outlinewidth": 0,
             "ticks": ""
            },
            "type": "mesh3d"
           }
          ],
          "parcoords": [
           {
            "line": {
             "colorbar": {
              "outlinewidth": 0,
              "ticks": ""
             }
            },
            "type": "parcoords"
           }
          ],
          "pie": [
           {
            "automargin": true,
            "type": "pie"
           }
          ],
          "scatter": [
           {
            "fillpattern": {
             "fillmode": "overlay",
             "size": 10,
             "solidity": 0.2
            },
            "type": "scatter"
           }
          ],
          "scatter3d": [
           {
            "line": {
             "colorbar": {
              "outlinewidth": 0,
              "ticks": ""
             }
            },
            "marker": {
             "colorbar": {
              "outlinewidth": 0,
              "ticks": ""
             }
            },
            "type": "scatter3d"
           }
          ],
          "scattercarpet": [
           {
            "marker": {
             "colorbar": {
              "outlinewidth": 0,
              "ticks": ""
             }
            },
            "type": "scattercarpet"
           }
          ],
          "scattergeo": [
           {
            "marker": {
             "colorbar": {
              "outlinewidth": 0,
              "ticks": ""
             }
            },
            "type": "scattergeo"
           }
          ],
          "scattergl": [
           {
            "marker": {
             "colorbar": {
              "outlinewidth": 0,
              "ticks": ""
             }
            },
            "type": "scattergl"
           }
          ],
          "scattermap": [
           {
            "marker": {
             "colorbar": {
              "outlinewidth": 0,
              "ticks": ""
             }
            },
            "type": "scattermap"
           }
          ],
          "scattermapbox": [
           {
            "marker": {
             "colorbar": {
              "outlinewidth": 0,
              "ticks": ""
             }
            },
            "type": "scattermapbox"
           }
          ],
          "scatterpolar": [
           {
            "marker": {
             "colorbar": {
              "outlinewidth": 0,
              "ticks": ""
             }
            },
            "type": "scatterpolar"
           }
          ],
          "scatterpolargl": [
           {
            "marker": {
             "colorbar": {
              "outlinewidth": 0,
              "ticks": ""
             }
            },
            "type": "scatterpolargl"
           }
          ],
          "scatterternary": [
           {
            "marker": {
             "colorbar": {
              "outlinewidth": 0,
              "ticks": ""
             }
            },
            "type": "scatterternary"
           }
          ],
          "surface": [
           {
            "colorbar": {
             "outlinewidth": 0,
             "ticks": ""
            },
            "colorscale": [
             [
              0,
              "#0d0887"
             ],
             [
              0.1111111111111111,
              "#46039f"
             ],
             [
              0.2222222222222222,
              "#7201a8"
             ],
             [
              0.3333333333333333,
              "#9c179e"
             ],
             [
              0.4444444444444444,
              "#bd3786"
             ],
             [
              0.5555555555555556,
              "#d8576b"
             ],
             [
              0.6666666666666666,
              "#ed7953"
             ],
             [
              0.7777777777777778,
              "#fb9f3a"
             ],
             [
              0.8888888888888888,
              "#fdca26"
             ],
             [
              1,
              "#f0f921"
             ]
            ],
            "type": "surface"
           }
          ],
          "table": [
           {
            "cells": {
             "fill": {
              "color": "#EBF0F8"
             },
             "line": {
              "color": "white"
             }
            },
            "header": {
             "fill": {
              "color": "#C8D4E3"
             },
             "line": {
              "color": "white"
             }
            },
            "type": "table"
           }
          ]
         },
         "layout": {
          "annotationdefaults": {
           "arrowcolor": "#2a3f5f",
           "arrowhead": 0,
           "arrowwidth": 1
          },
          "autotypenumbers": "strict",
          "coloraxis": {
           "colorbar": {
            "outlinewidth": 0,
            "ticks": ""
           }
          },
          "colorscale": {
           "diverging": [
            [
             0,
             "#8e0152"
            ],
            [
             0.1,
             "#c51b7d"
            ],
            [
             0.2,
             "#de77ae"
            ],
            [
             0.3,
             "#f1b6da"
            ],
            [
             0.4,
             "#fde0ef"
            ],
            [
             0.5,
             "#f7f7f7"
            ],
            [
             0.6,
             "#e6f5d0"
            ],
            [
             0.7,
             "#b8e186"
            ],
            [
             0.8,
             "#7fbc41"
            ],
            [
             0.9,
             "#4d9221"
            ],
            [
             1,
             "#276419"
            ]
           ],
           "sequential": [
            [
             0,
             "#0d0887"
            ],
            [
             0.1111111111111111,
             "#46039f"
            ],
            [
             0.2222222222222222,
             "#7201a8"
            ],
            [
             0.3333333333333333,
             "#9c179e"
            ],
            [
             0.4444444444444444,
             "#bd3786"
            ],
            [
             0.5555555555555556,
             "#d8576b"
            ],
            [
             0.6666666666666666,
             "#ed7953"
            ],
            [
             0.7777777777777778,
             "#fb9f3a"
            ],
            [
             0.8888888888888888,
             "#fdca26"
            ],
            [
             1,
             "#f0f921"
            ]
           ],
           "sequentialminus": [
            [
             0,
             "#0d0887"
            ],
            [
             0.1111111111111111,
             "#46039f"
            ],
            [
             0.2222222222222222,
             "#7201a8"
            ],
            [
             0.3333333333333333,
             "#9c179e"
            ],
            [
             0.4444444444444444,
             "#bd3786"
            ],
            [
             0.5555555555555556,
             "#d8576b"
            ],
            [
             0.6666666666666666,
             "#ed7953"
            ],
            [
             0.7777777777777778,
             "#fb9f3a"
            ],
            [
             0.8888888888888888,
             "#fdca26"
            ],
            [
             1,
             "#f0f921"
            ]
           ]
          },
          "colorway": [
           "#636efa",
           "#EF553B",
           "#00cc96",
           "#ab63fa",
           "#FFA15A",
           "#19d3f3",
           "#FF6692",
           "#B6E880",
           "#FF97FF",
           "#FECB52"
          ],
          "font": {
           "color": "#2a3f5f"
          },
          "geo": {
           "bgcolor": "white",
           "lakecolor": "white",
           "landcolor": "#E5ECF6",
           "showlakes": true,
           "showland": true,
           "subunitcolor": "white"
          },
          "hoverlabel": {
           "align": "left"
          },
          "hovermode": "closest",
          "mapbox": {
           "style": "light"
          },
          "paper_bgcolor": "white",
          "plot_bgcolor": "#E5ECF6",
          "polar": {
           "angularaxis": {
            "gridcolor": "white",
            "linecolor": "white",
            "ticks": ""
           },
           "bgcolor": "#E5ECF6",
           "radialaxis": {
            "gridcolor": "white",
            "linecolor": "white",
            "ticks": ""
           }
          },
          "scene": {
           "xaxis": {
            "backgroundcolor": "#E5ECF6",
            "gridcolor": "white",
            "gridwidth": 2,
            "linecolor": "white",
            "showbackground": true,
            "ticks": "",
            "zerolinecolor": "white"
           },
           "yaxis": {
            "backgroundcolor": "#E5ECF6",
            "gridcolor": "white",
            "gridwidth": 2,
            "linecolor": "white",
            "showbackground": true,
            "ticks": "",
            "zerolinecolor": "white"
           },
           "zaxis": {
            "backgroundcolor": "#E5ECF6",
            "gridcolor": "white",
            "gridwidth": 2,
            "linecolor": "white",
            "showbackground": true,
            "ticks": "",
            "zerolinecolor": "white"
           }
          },
          "shapedefaults": {
           "line": {
            "color": "#2a3f5f"
           }
          },
          "ternary": {
           "aaxis": {
            "gridcolor": "white",
            "linecolor": "white",
            "ticks": ""
           },
           "baxis": {
            "gridcolor": "white",
            "linecolor": "white",
            "ticks": ""
           },
           "bgcolor": "#E5ECF6",
           "caxis": {
            "gridcolor": "white",
            "linecolor": "white",
            "ticks": ""
           }
          },
          "title": {
           "x": 0.05
          },
          "xaxis": {
           "automargin": true,
           "gridcolor": "white",
           "linecolor": "white",
           "ticks": "",
           "title": {
            "standoff": 15
           },
           "zerolinecolor": "white",
           "zerolinewidth": 2
          },
          "yaxis": {
           "automargin": true,
           "gridcolor": "white",
           "linecolor": "white",
           "ticks": "",
           "title": {
            "standoff": 15
           },
           "zerolinecolor": "white",
           "zerolinewidth": 2
          }
         }
        },
        "title": {
         "text": "Interactive Confusion Matrix with Accuracy"
        },
        "width": 1200,
        "xaxis": {
         "anchor": "y",
         "domain": [
          0,
          1
         ],
         "matches": "x2",
         "showticklabels": false
        },
        "xaxis2": {
         "anchor": "y2",
         "domain": [
          0,
          1
         ],
         "tickangle": -45
        },
        "yaxis": {
         "anchor": "x",
         "domain": [
          0.33499999999999996,
          0.9999999999999999
         ]
        },
        "yaxis2": {
         "anchor": "x2",
         "domain": [
          0,
          0.285
         ]
        }
       }
      }
     },
     "metadata": {},
     "output_type": "display_data"
    }
   ],
   "source": [
    "# Create heatmap using Plotly\n",
    "heatmap = go.Heatmap(\n",
    "    z=cm_normalized,\n",
    "    x=class_names,\n",
    "    y=class_names,\n",
    "    colorscale='Plasma',\n",
    "    colorbar=dict(title='Accuracy'),\n",
    "    hovertemplate='Actual: %{y}<br>Predicted: %{x}<br>Accuracy: %{z:.2%}<extra></extra>'\n",
    ")\n",
    "\n",
    "# Create scatter plot (lollipop style) for class accuracy\n",
    "scatter = go.Scatter(\n",
    "    x=class_names,\n",
    "    y=class_accuracy,\n",
    "    mode='markers+lines',\n",
    "    marker=dict(size=8, color='blue'),\n",
    "    line=dict(color='lightblue'),\n",
    "    name='Class Accuracy',\n",
    "    hovertemplate='Class: %{x}<br>Accuracy: %{y:.2%}<extra></extra>'\n",
    ")\n",
    "\n",
    "# Create subplots with corrected keyword 'shared_xaxes'\n",
    "fig = sub.make_subplots(\n",
    "    rows=2, cols=1,\n",
    "    row_heights=[0.7, 0.3],\n",
    "    shared_xaxes=True,\n",
    "    vertical_spacing=0.05,\n",
    "    subplot_titles=(\"Normalized Confusion Matrix\", \"Accuracy per Class\")\n",
    ")\n",
    "\n",
    "fig.add_trace(heatmap, row=1, col=1)\n",
    "fig.add_trace(scatter, row=2, col=1)\n",
    "\n",
    "fig.update_layout(\n",
    "    height=1000,\n",
    "    width=1200,\n",
    "    title_text=\"Interactive Confusion Matrix with Accuracy\",\n",
    "    xaxis2=dict(tickangle=315),\n",
    "    margin=dict(t=100)\n",
    ")\n",
    "\n",
    "fig.write_html(os.path.join(os.pardir, \"outputs\", \"interactive_confusion_matrix.html\"))\n",
    "print(\"Interactive confusion matrix with variant level class accuracy saved as 'interactive_confusion_matrix.html'.\")\n",
    "fig.show()\n"
   ]
  },
  {
   "cell_type": "markdown",
   "id": "7fcf6901-f111-4d58-93d7-87adefef5c2d",
   "metadata": {},
   "source": [
    "# Best and Worst 5 classes model predicted"
   ]
  },
  {
   "cell_type": "code",
   "execution_count": 20,
   "id": "19c04665-f689-4294-b190-f1dae527193d",
   "metadata": {},
   "outputs": [
    {
     "data": {
      "text/plain": [
       "([('DH-82', 0.9212121212121213),\n",
       "  ('Spitfire', 0.8909090909090909),\n",
       "  ('DR-400', 0.8863636363636364),\n",
       "  ('SR-20', 0.8560606060606061),\n",
       "  ('C-130', 0.843939393939394)],\n",
       " [('A320', 0.14705882352941177),\n",
       "  ('777-200', 0.14411764705882352),\n",
       "  ('737-300', 0.12424242424242424),\n",
       "  ('757-200', 0.09545454545454546),\n",
       "  ('747-200', 0.04696969696969697)])"
      ]
     },
     "execution_count": 20,
     "metadata": {},
     "output_type": "execute_result"
    }
   ],
   "source": [
    "# Zip the class names and accuracies\n",
    "zipped = list(zip(class_names, class_accuracy))\n",
    "\n",
    "# Sort by accuracy\n",
    "sorted_by_accuracy = sorted(zipped, key=lambda x: x[1], reverse=True)\n",
    "\n",
    "# Get top 5 and bottom 5\n",
    "top_5 = sorted_by_accuracy[:5]\n",
    "bottom_5 = sorted_by_accuracy[-5:]\n",
    "top_5, bottom_5"
   ]
  },
  {
   "cell_type": "code",
   "execution_count": 21,
   "id": "73050523-9504-4af2-8dc5-6a732fb3e6fb",
   "metadata": {},
   "outputs": [
    {
     "data": {
      "application/vnd.microsoft.datawrangler.viewer.v0+json": {
       "columns": [
        {
         "name": "index",
         "rawType": "int64",
         "type": "integer"
        },
        {
         "name": "Class Name",
         "rawType": "object",
         "type": "string"
        },
        {
         "name": "Accuracy",
         "rawType": "float64",
         "type": "float"
        }
       ],
       "ref": "7d843cb2-b67f-4e77-adb8-7617322ff1fb",
       "rows": [
        [
         "57",
         "DH-82",
         "0.9212121212121213"
        ],
        [
         "95",
         "Spitfire",
         "0.8909090909090909"
        ],
        [
         "62",
         "DR-400",
         "0.8863636363636364"
        ],
        [
         "92",
         "SR-20",
         "0.8560606060606061"
        ],
        [
         "42",
         "C-130",
         "0.843939393939394"
        ],
        [
         "73",
         "F/A-18",
         "0.8338235294117647"
        ],
        [
         "96",
         "Tornado",
         "0.8121212121212121"
        ],
        [
         "49",
         "Cessna 525",
         "0.7985294117647059"
        ],
        [
         "72",
         "F-16A/B",
         "0.7984848484848485"
        ],
        [
         "36",
         "An-12",
         "0.7878787878787878"
        ],
        [
         "82",
         "Hawk T1",
         "0.7779411764705882"
        ],
        [
         "91",
         "PA-28",
         "0.7602941176470588"
        ],
        [
         "90",
         "Model B200",
         "0.759090909090909"
        ],
        [
         "75",
         "Falcon 900",
         "0.7560606060606061"
        ],
        [
         "47",
         "Cessna 172",
         "0.7363636363636363"
        ],
        [
         "98",
         "Tu-154",
         "0.7257575757575757"
        ],
        [
         "63",
         "Dornier 328",
         "0.7227272727272728"
        ],
        [
         "83",
         "Il-76",
         "0.7151515151515152"
        ],
        [
         "48",
         "Cessna 208",
         "0.7045454545454546"
        ],
        [
         "99",
         "Yak-42",
         "0.7"
        ],
        [
         "6",
         "737-600",
         "0.6984848484848485"
        ],
        [
         "58",
         "DHC-1",
         "0.6955882352941176"
        ],
        [
         "71",
         "Eurofighter Typhoon",
         "0.6954545454545454"
        ],
        [
         "74",
         "Falcon 2000",
         "0.6818181818181818"
        ],
        [
         "93",
         "Saab 2000",
         "0.6757575757575758"
        ],
        [
         "54",
         "DC-6",
         "0.6666666666666666"
        ],
        [
         "39",
         "BAE-125",
         "0.6651515151515152"
        ],
        [
         "77",
         "Fokker 50",
         "0.65"
        ],
        [
         "34",
         "ATR-42",
         "0.6367647058823529"
        ],
        [
         "94",
         "Saab 340",
         "0.6338235294117647"
        ],
        [
         "59",
         "DHC-6",
         "0.6257575757575757"
        ],
        [
         "67",
         "EMB-120",
         "0.6161764705882353"
        ],
        [
         "61",
         "DHC-8-300",
         "0.5941176470588235"
        ],
        [
         "51",
         "Challenger 600",
         "0.5924242424242424"
        ],
        [
         "60",
         "DHC-8-100",
         "0.5863636363636363"
        ],
        [
         "97",
         "Tu-134",
         "0.5808823529411765"
        ],
        [
         "33",
         "A380",
         "0.5757575757575758"
        ],
        [
         "66",
         "E-195",
         "0.5712121212121212"
        ],
        [
         "89",
         "Metroliner",
         "0.5681818181818182"
        ],
        [
         "2",
         "737-200",
         "0.5545454545454546"
        ],
        [
         "40",
         "Beechcraft 1900",
         "0.5220588235294118"
        ],
        [
         "70",
         "Embraer Legacy 600",
         "0.5176470588235295"
        ],
        [
         "53",
         "DC-3",
         "0.5"
        ],
        [
         "23",
         "A318",
         "0.49242424242424243"
        ],
        [
         "81",
         "Gulfstream V",
         "0.48484848484848486"
        ],
        [
         "15",
         "757-300",
         "0.4803030303030303"
        ],
        [
         "80",
         "Gulfstream IV",
         "0.47575757575757577"
        ],
        [
         "50",
         "Cessna 560",
         "0.4681818181818182"
        ],
        [
         "18",
         "767-400",
         "0.4636363636363636"
        ],
        [
         "44",
         "CRJ-200",
         "0.46060606060606063"
        ]
       ],
       "shape": {
        "columns": 2,
        "rows": 100
       }
      },
      "text/html": [
       "<div>\n",
       "<style scoped>\n",
       "    .dataframe tbody tr th:only-of-type {\n",
       "        vertical-align: middle;\n",
       "    }\n",
       "\n",
       "    .dataframe tbody tr th {\n",
       "        vertical-align: top;\n",
       "    }\n",
       "\n",
       "    .dataframe thead th {\n",
       "        text-align: right;\n",
       "    }\n",
       "</style>\n",
       "<table border=\"1\" class=\"dataframe\">\n",
       "  <thead>\n",
       "    <tr style=\"text-align: right;\">\n",
       "      <th></th>\n",
       "      <th>Class Name</th>\n",
       "      <th>Accuracy</th>\n",
       "    </tr>\n",
       "  </thead>\n",
       "  <tbody>\n",
       "    <tr>\n",
       "      <th>57</th>\n",
       "      <td>DH-82</td>\n",
       "      <td>0.921212</td>\n",
       "    </tr>\n",
       "    <tr>\n",
       "      <th>95</th>\n",
       "      <td>Spitfire</td>\n",
       "      <td>0.890909</td>\n",
       "    </tr>\n",
       "    <tr>\n",
       "      <th>62</th>\n",
       "      <td>DR-400</td>\n",
       "      <td>0.886364</td>\n",
       "    </tr>\n",
       "    <tr>\n",
       "      <th>92</th>\n",
       "      <td>SR-20</td>\n",
       "      <td>0.856061</td>\n",
       "    </tr>\n",
       "    <tr>\n",
       "      <th>42</th>\n",
       "      <td>C-130</td>\n",
       "      <td>0.843939</td>\n",
       "    </tr>\n",
       "    <tr>\n",
       "      <th>...</th>\n",
       "      <td>...</td>\n",
       "      <td>...</td>\n",
       "    </tr>\n",
       "    <tr>\n",
       "      <th>25</th>\n",
       "      <td>A320</td>\n",
       "      <td>0.147059</td>\n",
       "    </tr>\n",
       "    <tr>\n",
       "      <th>19</th>\n",
       "      <td>777-200</td>\n",
       "      <td>0.144118</td>\n",
       "    </tr>\n",
       "    <tr>\n",
       "      <th>3</th>\n",
       "      <td>737-300</td>\n",
       "      <td>0.124242</td>\n",
       "    </tr>\n",
       "    <tr>\n",
       "      <th>14</th>\n",
       "      <td>757-200</td>\n",
       "      <td>0.095455</td>\n",
       "    </tr>\n",
       "    <tr>\n",
       "      <th>11</th>\n",
       "      <td>747-200</td>\n",
       "      <td>0.046970</td>\n",
       "    </tr>\n",
       "  </tbody>\n",
       "</table>\n",
       "<p>100 rows × 2 columns</p>\n",
       "</div>"
      ],
      "text/plain": [
       "   Class Name  Accuracy\n",
       "57      DH-82  0.921212\n",
       "95   Spitfire  0.890909\n",
       "62     DR-400  0.886364\n",
       "92      SR-20  0.856061\n",
       "42      C-130  0.843939\n",
       "..        ...       ...\n",
       "25       A320  0.147059\n",
       "19    777-200  0.144118\n",
       "3     737-300  0.124242\n",
       "14    757-200  0.095455\n",
       "11    747-200  0.046970\n",
       "\n",
       "[100 rows x 2 columns]"
      ]
     },
     "execution_count": 21,
     "metadata": {},
     "output_type": "execute_result"
    }
   ],
   "source": [
    "# Create a DataFrame\n",
    "df = pd.DataFrame({'Class Name': class_names, 'Accuracy': class_accuracy})\n",
    "\n",
    "# Sort by accuracy\n",
    "df_sorted = df.sort_values(by='Accuracy', ascending=False)\n",
    "\n",
    "df_sorted\n"
   ]
  },
  {
   "cell_type": "code",
   "execution_count": 22,
   "id": "747f69b6-1674-4c35-bb49-13bf8c74a3ef",
   "metadata": {},
   "outputs": [
    {
     "name": "stdout",
     "output_type": "stream",
     "text": [
      "Visualization saved as 'class_accuracy_visualization.png'.\n"
     ]
    },
    {
     "data": {
      "image/png": "[encoded data removed]",
      "text/plain": [
       "<Figure size 1000x600 with 1 Axes>"
      ]
     },
     "metadata": {},
     "output_type": "display_data"
    }
   ],
   "source": [
    "df_sorted = df_sorted.sort_values(by='Accuracy', ascending=False).reset_index(drop=True)\n",
    "\n",
    "# Extract top 5 and bottom 5 classes\n",
    "top5 = df_sorted.head(5).copy()\n",
    "bottom5 = df_sorted.tail(5).copy()\n",
    "top5['Category'] = 'Top'\n",
    "bottom5['Category'] = 'Bottom'\n",
    "df_vis = pd.concat([top5, bottom5], ignore_index=True)\n",
    "\n",
    "plt.figure(figsize=(10, 6))\n",
    "sns.barplot(data=df_vis, x='Class Name', y='Accuracy', hue='Category', dodge=False, palette={'Top': 'green', 'Bottom': 'red'})\n",
    "plt.title('Top and Bottom 5 Classes by Accuracy')\n",
    "plt.ylim(0, 1)\n",
    "for i, row in df_vis.iterrows():\n",
    "    plt.text(i, row['Accuracy'] + 0.01, f\"{row['Accuracy']:.2f}\", ha='center')\n",
    "plt.xticks(rotation=45)\n",
    "plt.tight_layout()\n",
    "\n",
    "\n",
    "plt.savefig(os.path.join(os.pardir, \"outputs\", \"class_accuracy_visualization.png\"))\n",
    "print(\"Visualization saved as 'class_accuracy_visualization.png'.\")\n",
    "\n"
   ]
  },
  {
   "cell_type": "code",
   "execution_count": 23,
   "id": "76abb8e5-151e-47c1-b2b7-d8470f9c361e",
   "metadata": {},
   "outputs": [
    {
     "name": "stdout",
     "output_type": "stream",
     "text": [
      "Visualizations saved as 'accuracy_error_comparison.png'.\n"
     ]
    },
    {
     "data": {
      "image/png": "[encoded data removed]",
      "text/plain": [
       "<Figure size 1000x600 with 1 Axes>"
      ]
     },
     "metadata": {},
     "output_type": "display_data"
    }
   ],
   "source": [
    "df_vis['Error Rate'] = 1 - df_vis['Accuracy']\n",
    "df_melted = df_vis.melt(id_vars=['Class Name'], value_vars=['Accuracy', 'Error Rate'], var_name='Metric', value_name='Value')\n",
    "\n",
    "plt.figure(figsize=(10, 6))\n",
    "sns.barplot(data=df_melted, x='Class Name', y='Value', hue='Metric', palette={'Accuracy': 'green', 'Error Rate': 'red'})\n",
    "plt.title('Accuracy vs Error Rate for Top and Bottom 5 Classes')\n",
    "plt.ylim(0, 1)\n",
    "for i, row in df_melted.iterrows():\n",
    "    plt.text(i % 10, row['Value'] + 0.01, f\"{row['Value']:.2f}\", ha='center')\n",
    "plt.xticks(rotation=45)\n",
    "plt.tight_layout()\n",
    "plt.savefig(os.path.join(os.pardir, \"outputs\", \"accuracy_error_comparison.png\"))\n",
    "#plt.close()\n",
    "\n",
    "print(\"Visualizations saved as 'accuracy_error_comparison.png'.\")\n",
    "\n",
    "\n"
   ]
  },
  {
   "cell_type": "markdown",
   "id": "72cda934-23a1-43a5-bbb1-ab990159f73b",
   "metadata": {},
   "source": [
    "# Training and Validation Loss vs Accuracy across epochs"
   ]
  },
  {
   "cell_type": "code",
   "execution_count": 24,
   "id": "df31ed2b-ce2b-4adb-9974-d31c889982c7",
   "metadata": {},
   "outputs": [
    {
     "name": "stdout",
     "output_type": "stream",
     "text": [
      "Visualization saved as 'train_val_loss_acc.png'.\n"
     ]
    },
    {
     "data": {
      "image/png": "[encoded data removed]",
      "text/plain": [
       "<Figure size 1200x500 with 2 Axes>"
      ]
     },
     "metadata": {},
     "output_type": "display_data"
    }
   ],
   "source": [
    "\n",
    "ep = range(1, len(train_loss_lst) + 1)\n",
    "\n",
    "# Plot training and validation loss\n",
    "plt.figure(figsize=(12, 5))\n",
    "plt.subplot(1, 2, 1)\n",
    "plt.plot(ep, train_loss_lst, label='Training Loss')\n",
    "plt.plot(ep, val_loss_lst, label='Validation Loss')\n",
    "plt.xlabel('Epochs')\n",
    "plt.ylabel('Loss')\n",
    "plt.title('Training and Validation Loss')\n",
    "plt.legend()\n",
    "\n",
    "# Plot training and validation accuracy\n",
    "plt.subplot(1, 2, 2)\n",
    "plt.plot(ep, train_acc_lst, label='Training Accuracy')\n",
    "plt.plot(ep, val_acc_lst, label='Validation Accuracy')\n",
    "plt.xlabel('Epochs')\n",
    "plt.ylabel('Accuracy')\n",
    "plt.title('Training and Validation Accuracy')\n",
    "plt.legend()\n",
    "\n",
    "plt.tight_layout()\n",
    "plt.savefig(os.path.join(os.pardir, \"outputs\", \"train_val_loss_acc.png\"))\n",
    "print(\"Visualization saved as 'train_val_loss_acc.png'.\")"
   ]
  },
  {
   "cell_type": "code",
   "execution_count": 32,
   "id": "782747f5-d39f-475c-ae96-4eccc9ec0b82",
   "metadata": {},
   "outputs": [
    {
     "ename": "NameError",
     "evalue": "name 'device' is not defined",
     "output_type": "error",
     "traceback": [
      "\u001b[1;31m---------------------------------------------------------------------------\u001b[0m",
      "\u001b[1;31mNameError\u001b[0m                                 Traceback (most recent call last)",
      "Cell \u001b[1;32mIn[32], line 1\u001b[0m\n\u001b[1;32m----> 1\u001b[0m \u001b[43maircraft_utils\u001b[49m\u001b[38;5;241;43m.\u001b[39;49m\u001b[43mvisualize_predictions\u001b[49m\u001b[43m(\u001b[49m\u001b[43mmodel\u001b[49m\u001b[43m,\u001b[49m\u001b[43m \u001b[49m\u001b[43mtest_dataset\u001b[49m\u001b[43m,\u001b[49m\u001b[43m \u001b[49m\u001b[38;5;241;43m10\u001b[39;49m\u001b[43m)\u001b[49m\n",
      "File \u001b[1;32mc:\\Users\\chihp\\UMich\\SIADS\\GitHub\\CV_aircraft_classifier_capstone_project\\src\\aircraft_utils.py:237\u001b[0m, in \u001b[0;36mvisualize_predictions\u001b[1;34m(model, test_dataset, num_samples, normalized)\u001b[0m\n\u001b[0;32m    235\u001b[0m \u001b[38;5;28;01mfor\u001b[39;00m idx, sample_idx \u001b[38;5;129;01min\u001b[39;00m \u001b[38;5;28menumerate\u001b[39m(samples):\n\u001b[0;32m    236\u001b[0m     image, label \u001b[38;5;241m=\u001b[39m test_dataset[sample_idx]\n\u001b[1;32m--> 237\u001b[0m     input_img \u001b[38;5;241m=\u001b[39m image\u001b[38;5;241m.\u001b[39munsqueeze(\u001b[38;5;241m0\u001b[39m)\u001b[38;5;241m.\u001b[39mto(\u001b[43mdevice\u001b[49m)\n\u001b[0;32m    238\u001b[0m     output \u001b[38;5;241m=\u001b[39m model(input_img)\n\u001b[0;32m    239\u001b[0m     _, pred \u001b[38;5;241m=\u001b[39m torch\u001b[38;5;241m.\u001b[39mmax(output, \u001b[38;5;241m1\u001b[39m)\n",
      "\u001b[1;31mNameError\u001b[0m: name 'device' is not defined"
     ]
    },
    {
     "data": {
      "image/png": "[encoded data removed]",
      "text/plain": [
       "<Figure size 1500x600 with 10 Axes>"
      ]
     },
     "metadata": {},
     "output_type": "display_data"
    }
   ],
   "source": [
    "aircraft_utils.visualize_predictions(model, test_dataset, 10)"
   ]
  },
  {
   "cell_type": "code",
   "execution_count": null,
   "id": "2c691b23-3cd7-4ec4-9cb2-ac9b13b865e4",
   "metadata": {},
   "outputs": [],
   "source": []
  }
 ],
 "metadata": {
  "kernelspec": {
   "display_name": "base",
   "language": "python",
   "name": "python3"
  },
  "language_info": {
   "codemirror_mode": {
    "name": "ipython",
    "version": 3
   },
   "file_extension": ".py",
   "mimetype": "text/x-python",
   "name": "python",
   "nbconvert_exporter": "python",
   "pygments_lexer": "ipython3",
   "version": "3.12.3"
  }
 },
 "nbformat": 4,
 "nbformat_minor": 5
}
