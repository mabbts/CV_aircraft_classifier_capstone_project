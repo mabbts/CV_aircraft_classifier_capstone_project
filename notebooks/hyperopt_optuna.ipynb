{
 "cells": [
  {
   "cell_type": "code",
   "execution_count": null,
   "id": "fd9c87d0",
   "metadata": {},
   "outputs": [],
   "source": []
  },
  {
   "cell_type": "code",
   "execution_count": null,
   "id": "c09a4448",
   "metadata": {},
   "outputs": [],
   "source": [
    "# study = optuna.create_study(study_name=\"Finest_FGVCAircraft_Variant\", direction='maximize', \n",
    "#                             pruner=optuna.pruners.MedianPruner(n_startup_trials=5, n_warmup_steps=5, interval_steps=3))\n",
    "# study.optimize(objective, timeout=None, n_jobs=1, n_trials=30, gc_after_trial=False, show_progress_bar=True)\n",
    "\n",
    "# print(\"Best trial:\")\n",
    "# trial = study.best_trial\n",
    "# print(f\"  Accuracy: {trial.value}\")\n",
    "# print(\"  Params:\")\n",
    "# for key, value in trial.params.items():\n",
    "#     print(f\"    {key}: {value}\")\n",
    "\n",
    "# # Visualize optimization results\n",
    "# optuna.visualization.plot_optimization_history(study, target_name='Accuracy', error_bar=True).show()\n",
    "# optuna.visualization.plot_param_importances(study).show() # params=[\"x\", \"y\"]"
   ]
  },
  {
   "cell_type": "code",
   "execution_count": null,
   "id": "213e111c",
   "metadata": {},
   "outputs": [],
   "source": [
    "\n",
    "# # Plot with custom labels\n",
    "# plt.plot(range(len([t.value for t in study.trials if t.value is not None])), [t.value for t in study.trials if t.value is not None ], marker='o')\n",
    "# plt.xlabel(\"Trial\")\n",
    "# plt.ylabel(\"Validation Accuracy\")\n",
    "# plt.title(\"Optimization History\")\n",
    "# plt.grid(True)"
   ]
  },
  {
   "cell_type": "code",
   "execution_count": null,
   "id": "595ac6ee",
   "metadata": {},
   "outputs": [],
   "source": [
    "# optuna.visualization.plot_parallel_coordinate(study, target_name='Accuracy').show()\n",
    "# optuna.visualization.plot_slice(study, target_name='Accuracy').show()"
   ]
  },
  {
   "cell_type": "code",
   "execution_count": null,
   "id": "511bbf6f",
   "metadata": {},
   "outputs": [],
   "source": [
    "# optuna.visualization.plot_contour(study, target_name = 'Accuracy').show()\n",
    "# optuna.visualization.plot_edf(study, target_name = 'Accuracy').show()"
   ]
  },
  {
   "cell_type": "code",
   "execution_count": null,
   "id": "145bf627",
   "metadata": {},
   "outputs": [],
   "source": [
    "# optuna.visualization.plot_intermediate_values(study).show()\n",
    "# optuna.visualization.plot_rank(study, target_name = 'Accuracy').show()"
   ]
  },
  {
   "cell_type": "code",
   "execution_count": null,
   "id": "28113e03",
   "metadata": {},
   "outputs": [],
   "source": [
    "# optuna.visualization.plot_timeline(study).show()"
   ]
  }
 ],
 "metadata": {
  "language_info": {
   "name": "python"
  }
 },
 "nbformat": 4,
 "nbformat_minor": 5
}
