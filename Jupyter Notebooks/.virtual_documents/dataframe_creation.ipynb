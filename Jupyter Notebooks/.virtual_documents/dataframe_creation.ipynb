


import pandas as pd
import os
#use the below line in an ide other than Jupyter
#current_dir = os.path.dirname(os.path.abspath(__file__))
#use the below line in Jupyter
current_dir = os.getcwd()

data_dir = os.path.join(current_dir, '..', 'data')
boxes_file_path = os.path.join(data_dir, 'images_box.txt')


#this file provides bounding box coordinates where their classifier focused
with open(boxes_file_path, 'r') as boxes:
    img_boxes = [line.strip().split(' ') for line in boxes]

df = pd.DataFrame(img_boxes, columns=['image_index', 'b_x1', 'b_y1', 'b_x2', 'b_y2'])

#this file adds a manufacturer column and also puts a value in the group (train/test/validate) column
#the train/test/validate labels are provided as the split used by the dataset provider

family_test_file_path = os.path.join(data_dir, 'images_family_test.txt')
with open(family_test_file_path, 'r') as fam_test:
    img_fam_test = [line.strip().split(' ', 1) for line in fam_test]

df_fam_test = pd.DataFrame(img_fam_test, columns=['image_index', 'family'])

family_train_file_path = os.path.join(data_dir, 'images_family_train.txt')
with open(family_train_file_path, 'r') as fam_train:
    img_fam_train = [line.strip().split(' ', 1) for line in fam_train]

df_fam_train = pd.DataFrame(img_fam_train, columns=['image_index', 'family'])



data_files = os.listdir(data_dir)








