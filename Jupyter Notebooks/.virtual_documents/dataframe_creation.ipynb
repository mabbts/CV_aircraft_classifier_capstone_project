


import pandas as pd
import os
#use the below line in an ide other than Jupyter
#current_dir = os.path.dirname(os.path.abspath(__file__))
#use the below line in Jupyter
current_dir = os.getcwd()

data_dir = os.path.join(current_dir, '..', 'data')
boxes_file_path = os.path.join(data_dir, 'images_box.txt')


#this file provides bounding box coordinates where their classifier focused
with open(boxes_file_path, 'r') as boxes:
    img_boxes = [line.strip().split(' ') for line in boxes]

df = pd.DataFrame(img_boxes, columns=['image_index', 'b_x1', 'b_y1', 'b_x2', 'b_y2'])

#this file adds a manufacturer, family, and variant dataframe
#the train/test/validate labels are provided as the split used by the dataset provider

#family label
family_test_file_path = os.path.join(data_dir, 'images_family_test.txt')
with open(family_test_file_path, 'r') as fam_test:
    img_fam_test = [line.strip().split(' ', 1) for line in fam_test]

df_fam_test = pd.DataFrame(img_fam_test, columns=['image_index', 'family'])

family_train_file_path = os.path.join(data_dir, 'images_family_train.txt')
with open(family_train_file_path, 'r') as fam_train:
    img_fam_train = [line.strip().split(' ', 1) for line in fam_train]

df_fam_train = pd.DataFrame(img_fam_train, columns=['image_index', 'family'])

family_trainval_file_path = os.path.join(data_dir, 'images_family_trainval.txt')
with open(family_trainval_file_path, 'r') as fam_trainval:
    img_fam_trainval = [line.strip().split(' ', 1)[0] for line in fam_trainval]

df_fam_trainval = pd.DataFrame(img_fam_trainval, columns=['image_index'])

#variant label
variant_test_file_path = os.path.join(data_dir, 'images_variant_test.txt')
with open(variant_test_file_path, 'r') as var_test:
    img_var_test = [line.strip().split(' ', 1) for line in var_test]

df_var_test = pd.DataFrame(img_var_test, columns=['image_index', 'variant'])

variant_train_file_path = os.path.join(data_dir, 'images_variant_train.txt')
with open(variant_train_file_path, 'r') as var_train:
    img_var_train = [line.strip().split(' ', 1) for line in var_train]

df_var_train = pd.DataFrame(img_var_train, columns=['image_index', 'variant'])

variant_trainval_file_path = os.path.join(data_dir, 'images_variant_trainval.txt')
with open(variant_trainval_file_path, 'r') as var_trainval:
    img_var_trainval = [line.strip().split(' ', 1) for line in var_trainval]

df_var_trainval = pd.DataFrame(img_var_trainval, columns=['image_index','variant'])

#manufacturer label
manufacturer_test_file_path = os.path.join(data_dir, 'images_manufacturer_test.txt')
with open(manufacturer_test_file_path, 'r') as man_test:
    img_man_test = [line.strip().split(' ', 1) for line in man_test]

df_man_test = pd.DataFrame(img_var_test, columns=['image_index', 'manufacturer'])

manufacturer_train_file_path = os.path.join(data_dir, 'images_manufacturer_train.txt')
with open(manufacturer_train_file_path, 'r') as man_train:
    img_man_train = [line.strip().split(' ', 1) for line in man_train]

df_man_train = pd.DataFrame(img_man_train, columns=['image_index', 'manufacturer'])

manufacturer_trainval_file_path = os.path.join(data_dir, 'images_manufacturer_trainval.txt')
with open(manufacturer_trainval_file_path, 'r') as man_trainval:
    img_man_trainval = [line.strip().split(' ', 1) for line in man_trainval]

df_man_trainval = pd.DataFrame(img_man_trainval, columns=['image_index','manufacturer'])






data_files = os.listdir(data_dir)
file_names = [file.strip().split(".")[0] for file in data_files]
file_names = [file for file in file_names if file != '']



file_names



