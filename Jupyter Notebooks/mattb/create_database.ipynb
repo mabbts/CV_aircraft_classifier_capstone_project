{
 "cells": [
  {
   "cell_type": "code",
   "execution_count": 2,
   "id": "9c3c3f8e-c8fa-495e-bf41-a38de819c953",
   "metadata": {},
   "outputs": [],
   "source": [
    "#this code creates a dictionary from the fgvc-aircraft-2013b files\n",
    "#the dictionary is then suitable to upload to hugging face to create a database\n",
    "\n",
    "from datasets import Dataset, DatasetDict\n",
    "from PIL import Image\n",
    "import os\n"
   ]
  },
  {
   "cell_type": "code",
   "execution_count": 12,
   "id": "aee1f673-cf07-488b-9bb5-a27557d6b1f5",
   "metadata": {},
   "outputs": [],
   "source": [
    "# configure file access\n",
    "# set project root to be the project folder relative to where the notebook is located\n",
    "#for this case, the project_root is two levels up, I have it one level above the code folders\n",
    "project_root = os.path.abspath(os.path.join(\"..\", \"..\"))\n",
    "\n",
    "#defining paths to the other files\n",
    "images_dir = os.path.join(project_root, \"fgvc-aircraft-2013b\",\"data\",\"images\")\n",
    "labels = os.path.join(project_root, \"fgvc-aircraft-2013b\",\"data\",\"labels\")\n",
    "\n"
   ]
  },
  {
   "cell_type": "code",
   "execution_count": 13,
   "id": "5a945289-a856-432b-9370-102ed0200a5e",
   "metadata": {},
   "outputs": [
    {
     "ename": "FileNotFoundError",
     "evalue": "[Errno 2] No such file or directory: '/Users/mads/Desktop/Capstone/fgvc-aircraft-2013b/data/images'",
     "output_type": "error",
     "traceback": [
      "\u001b[31m---------------------------------------------------------------------------\u001b[39m",
      "\u001b[31mFileNotFoundError\u001b[39m                         Traceback (most recent call last)",
      "\u001b[36mCell\u001b[39m\u001b[36m \u001b[39m\u001b[32mIn[13]\u001b[39m\u001b[32m, line 1\u001b[39m\n\u001b[32m----> \u001b[39m\u001b[32m1\u001b[39m labels_list = [f \u001b[38;5;28;01mfor\u001b[39;00m f \u001b[38;5;129;01min\u001b[39;00m \u001b[43mos\u001b[49m\u001b[43m.\u001b[49m\u001b[43mlistdir\u001b[49m\u001b[43m(\u001b[49m\u001b[43mimages_dir\u001b[49m\u001b[43m)\u001b[49m\n\u001b[32m      2\u001b[39m              \u001b[38;5;28;01mif\u001b[39;00m os.path.isfile(os.path.join(labels, f))]\n",
      "\u001b[31mFileNotFoundError\u001b[39m: [Errno 2] No such file or directory: '/Users/mads/Desktop/Capstone/fgvc-aircraft-2013b/data/images'"
     ]
    }
   ],
   "source": [
    "labels_list = [f for f in os.listdir(images_dir)\n",
    "             if os.path.isfile(os.path.join(labels, f))]"
   ]
  },
  {
   "cell_type": "code",
   "execution_count": 10,
   "id": "61fec61e-aebf-4cd9-952f-80eb8c5c3062",
   "metadata": {},
   "outputs": [
    {
     "name": "stdout",
     "output_type": "stream",
     "text": [
      "Is directory? False\n"
     ]
    }
   ],
   "source": []
  },
  {
   "cell_type": "code",
   "execution_count": 13,
   "id": "99a37579-e5c2-4c60-be09-73a8eb57b215",
   "metadata": {},
   "outputs": [
    {
     "name": "stdout",
     "output_type": "stream",
     "text": [
      "/Users/matthewboarts/Desktop/Capstone/fgvc-aircraft-2013b/data/images\n"
     ]
    }
   ],
   "source": []
  },
  {
   "cell_type": "code",
   "execution_count": 1,
   "id": "3fa41056-36f6-4010-84a8-fcd12e992a85",
   "metadata": {},
   "outputs": [
    {
     "ename": "ModuleNotFoundError",
     "evalue": "No module named 'datasets'",
     "output_type": "error",
     "traceback": [
      "\u001b[31m---------------------------------------------------------------------------\u001b[39m",
      "\u001b[31mModuleNotFoundError\u001b[39m                       Traceback (most recent call last)",
      "\u001b[36mCell\u001b[39m\u001b[36m \u001b[39m\u001b[32mIn[1]\u001b[39m\u001b[32m, line 1\u001b[39m\n\u001b[32m----> \u001b[39m\u001b[32m1\u001b[39m \u001b[38;5;28;01mfrom\u001b[39;00m\u001b[38;5;250m \u001b[39m\u001b[34;01mdatasets\u001b[39;00m\u001b[38;5;250m \u001b[39m\u001b[38;5;28;01mimport\u001b[39;00m load_dataset\n\u001b[32m      2\u001b[39m dataset_train = load_dataset(\u001b[33m\"\u001b[39m\u001b[33mMultimodal-Fatima/FGVC_Aircraft_train\u001b[39m\u001b[33m\"\u001b[39m)\n\u001b[32m      3\u001b[39m dataset_test = load_dataset(\u001b[33m\"\u001b[39m\u001b[33mMultimodal-Fatima/FGVC_Aircraft_test\u001b[39m\u001b[33m\"\u001b[39m)\n",
      "\u001b[31mModuleNotFoundError\u001b[39m: No module named 'datasets'"
     ]
    }
   ],
   "source": [
    "from datasets import load_dataset\n",
    "dataset_train = load_dataset(\"Multimodal-Fatima/FGVC_Aircraft_train\")\n",
    "dataset_test = load_dataset(\"Multimodal-Fatima/FGVC_Aircraft_test\")\n",
    "embeddings_test = load_dataset(\"Multimodal-Fatima/FGVC_Aircraft_test_embeddings\")\n",
    "embeddings_train = load_dataset(\"Multimodal-Fatima/FGVC_Aircraft_test_embeddings\")"
   ]
  },
  {
   "cell_type": "code",
   "execution_count": 22,
   "id": "0284c082-e09a-43c6-a3ee-23f921aa0711",
   "metadata": {},
   "outputs": [
    {
     "data": {
      "application/vnd.jupyter.widget-view+json": {
       "model_id": "013380e2f8b445cd89fa579fd9f5c88f",
       "version_major": 2,
       "version_minor": 0
      },
      "text/plain": [
       "README.md:   0%|          | 0.00/6.96k [00:00<?, ?B/s]"
      ]
     },
     "metadata": {},
     "output_type": "display_data"
    },
    {
     "data": {
      "application/vnd.jupyter.widget-view+json": {
       "model_id": "ea76611dd7e84a31ab7dc00ebdd267a7",
       "version_major": 2,
       "version_minor": 0
      },
      "text/plain": [
       "(…)-00000-of-00002-f701e149b12ef922.parquet:   0%|          | 0.00/452M [00:00<?, ?B/s]"
      ]
     },
     "metadata": {},
     "output_type": "display_data"
    },
    {
     "data": {
      "application/vnd.jupyter.widget-view+json": {
       "model_id": "8abcf4681706425bae83e84fd9c6a6a4",
       "version_major": 2,
       "version_minor": 0
      },
      "text/plain": [
       "(…)-00001-of-00002-995f2f92aa55f647.parquet:   0%|          | 0.00/471M [00:00<?, ?B/s]"
      ]
     },
     "metadata": {},
     "output_type": "display_data"
    },
    {
     "data": {
      "application/vnd.jupyter.widget-view+json": {
       "model_id": "e7677b0995454be6bd634646f86d4942",
       "version_major": 2,
       "version_minor": 0
      },
      "text/plain": [
       "Generating test split:   0%|          | 0/3333 [00:00<?, ? examples/s]"
      ]
     },
     "metadata": {},
     "output_type": "display_data"
    }
   ],
   "source": [
    "dataset_test = load_dataset(\"Multimodal-Fatima/FGVC_Aircraft_test\")"
   ]
  },
  {
   "cell_type": "code",
   "execution_count": null,
   "id": "bf28c1a6-2495-4891-a8c7-7d5e46c2d783",
   "metadata": {},
   "outputs": [],
   "source": []
  }
 ],
 "metadata": {
  "kernelspec": {
   "display_name": "Python (ac_class)",
   "language": "python",
   "name": "ac_class"
  },
  "language_info": {
   "codemirror_mode": {
    "name": "ipython",
    "version": 3
   },
   "file_extension": ".py",
   "mimetype": "text/x-python",
   "name": "python",
   "nbconvert_exporter": "python",
   "pygments_lexer": "ipython3",
   "version": "3.13.4"
  }
 },
 "nbformat": 4,
 "nbformat_minor": 5
}
