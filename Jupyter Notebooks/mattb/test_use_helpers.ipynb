{
 "cells": [
  {
   "cell_type": "code",
   "execution_count": 1,
   "id": "cc5445b1-9da0-4268-aad4-4f0bebb7a05a",
   "metadata": {},
   "outputs": [],
   "source": [
    "import sys\n",
    "import os\n",
    "from datasets import load_dataset\n",
    "project_root = os.path.abspath(os.path.join(\"..\"))\n",
    "src_path = os.path.join(project_root, \"src\")\n",
    "if src_path not in sys.path:\n",
    "    sys.path.append(src_path)\n",
    "\n",
    "from helpers import plot\n",
    "from FGVC_dataset import download_FGVC"
   ]
  },
  {
   "cell_type": "code",
   "execution_count": 2,
   "id": "7ea4af4f-1e69-4c13-bad9-889dca9452bc",
   "metadata": {},
   "outputs": [],
   "source": [
    "train_data, test_data, embeddings_train, embeddings_test = download_FGVC()"
   ]
  },
  {
   "cell_type": "code",
   "execution_count": 20,
   "id": "45685762-8cef-4f7f-a50f-eca3e09f7c5f",
   "metadata": {},
   "outputs": [
    {
     "name": "stdout",
     "output_type": "stream",
     "text": [
      "Label: 0\n"
     ]
    }
   ],
   "source": [
    "sample = test_data[15]\n",
    "sample[\"image\"].show()\n",
    "print(\"Label:\", sample[\"label\"])\n"
   ]
  },
  {
   "cell_type": "raw",
   "id": "e4a08254-0e83-4389-9365-3688bcda62b0",
   "metadata": {},
   "source": []
  },
  {
   "cell_type": "code",
   "execution_count": null,
   "id": "c0cdb825-e30e-4a0b-9e80-8a44e42b3fcc",
   "metadata": {},
   "outputs": [],
   "source": []
  }
 ],
 "metadata": {
  "kernelspec": {
   "display_name": "Python 3 (ipykernel)",
   "language": "python",
   "name": "python3"
  },
  "language_info": {
   "codemirror_mode": {
    "name": "ipython",
    "version": 3
   },
   "file_extension": ".py",
   "mimetype": "text/x-python",
   "name": "python",
   "nbconvert_exporter": "python",
   "pygments_lexer": "ipython3",
   "version": "3.11.13"
  }
 },
 "nbformat": 4,
 "nbformat_minor": 5
}
