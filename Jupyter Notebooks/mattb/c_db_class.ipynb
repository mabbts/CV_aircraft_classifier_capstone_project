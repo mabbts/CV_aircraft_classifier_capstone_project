{
 "cells": [
  {
   "cell_type": "code",
   "execution_count": 2,
   "id": "71699fb3-7ec1-4ea3-b18d-08bcbc81e8f7",
   "metadata": {},
   "outputs": [],
   "source": [
    "import pandas as pd\n",
    "import os\n",
    "import sys\n",
    "from functools import reduce\n",
    "from IPython.display import Image, display\n",
    "import requests\n",
    "import tarfile"
   ]
  },
  {
   "cell_type": "code",
   "execution_count": 19,
   "id": "b8121185-a5cc-47ba-b220-16a8eb361713",
   "metadata": {},
   "outputs": [
    {
     "name": "stdout",
     "output_type": "stream",
     "text": [
      "/Users/mads/Desktop/Capstone/data/images\n"
     ]
    }
   ],
   "source": [
    "def images_location(cache_file=\".path_cache.txt\", force_reload = False):\n",
    "    if not force_reload and os.path.exists(cache_file):\n",
    "        with open(cache_file, \"r\") as f:\n",
    "            image_loc = f.read().strip()\n",
    "    else:\n",
    "        image_loc = input(\"Enter the base URL or directory path for image data: \").strip()\n",
    "        with open(cache_file, \"w\") as f:\n",
    "            f.write(image_loc)\n",
    "    return image_loc\n",
    "\n",
    "def text_files_location(cache_file=\".path_cache_text.txt\", force_reload = False):\n",
    "    if not force_reload and os.path.exists(cache_file):\n",
    "        with open(cache_file, \"r\") as f:\n",
    "            txt_dir = f.read().strip()\n",
    "    else:\n",
    "        txt_dir = input(\"Enter the base URL or directory path for text files: \").strip()\n",
    "        with open(cache_file, \"w\") as f:\n",
    "            f.write(txt_dir)\n",
    "    return txt_dir\n",
    "# txt_path = text_files_location()\n",
    "# images_path = images_location()\n",
    "# print(images_path)"
   ]
  },
  {
   "cell_type": "code",
   "execution_count": 16,
   "id": "d9d40ddb-9a91-4780-858a-6167db44fb90",
   "metadata": {},
   "outputs": [
    {
     "name": "stdout",
     "output_type": "stream",
     "text": [
      "chunky\n"
     ]
    }
   ],
   "source": [
    "class vs_df_create:\n",
    "    def __init__(self):\n",
    "        self.image_loc = None\n",
    "        self.fgvc_dataset_url = \"https://www.robots.ox.ac.uk/~vgg/data/fgvc-aircraft/archives/fgvc-aircraft-2013b.tar.gz\"\n",
    "        self.output_dir = \"data\"\n",
    "    \n",
    "    def download_dataset(self):\n",
    "        url = self.fgvc_dataset_url\n",
    "        output_dir = self.output_dir\n",
    "        return \"chunky\"\n",
    "         \n",
    "    \n",
    "    def img_loc(self, cache_file=\".path_cache.txt\", force_reload = False):\n",
    "        if not force_reload and os.path.exists(cache_file):\n",
    "            with open(cache_file, \"r\") as f:\n",
    "                image_loc = f.read().strip() \n",
    "        else:\n",
    "            image_loc = input(\"Enter the base URL or directory path for image data: \").strip()\n",
    "            with open(cache_file, \"w\") as f:\n",
    "                f.write(image_loc)\n",
    "        self.image_loc = image_loc\n",
    "        return self.image_loc\n",
    "\n",
    "dataset_loc = vs_df_create() \n",
    "dataset = dataset_loc.download_dataset()\n",
    "\n",
    "print(dataset)\n",
    "    "
   ]
  },
  {
   "cell_type": "code",
   "execution_count": 20,
   "id": "d76e2b65-e614-4515-a786-e9504f313c19",
   "metadata": {},
   "outputs": [],
   "source": [
    "loader = vs_df_create()\n",
    "img_path = loader.img_loc()\n"
   ]
  },
  {
   "cell_type": "code",
   "execution_count": 22,
   "id": "f5acfa44-69ba-40e2-9893-fd8c9a36a5f9",
   "metadata": {},
   "outputs": [
    {
     "name": "stdout",
     "output_type": "stream",
     "text": [
      "/Users/mads/Desktop/Capstone/data\n"
     ]
    }
   ],
   "source": [
    "print(txt_path)"
   ]
  },
  {
   "cell_type": "code",
   "execution_count": 11,
   "id": "d252ba33-4d68-451a-9726-6d959813bd26",
   "metadata": {},
   "outputs": [],
   "source": []
  },
  {
   "cell_type": "code",
   "execution_count": null,
   "id": "6a8f164b-cc38-4b10-be43-722fa4f6ffba",
   "metadata": {},
   "outputs": [],
   "source": []
  }
 ],
 "metadata": {
  "kernelspec": {
   "display_name": "Python 3 (ipykernel)",
   "language": "python",
   "name": "python3"
  },
  "language_info": {
   "codemirror_mode": {
    "name": "ipython",
    "version": 3
   },
   "file_extension": ".py",
   "mimetype": "text/x-python",
   "name": "python",
   "nbconvert_exporter": "python",
   "pygments_lexer": "ipython3",
   "version": "3.12.7"
  }
 },
 "nbformat": 4,
 "nbformat_minor": 5
}
