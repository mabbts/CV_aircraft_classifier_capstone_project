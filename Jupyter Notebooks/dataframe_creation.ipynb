{
 "cells": [
  {
   "cell_type": "markdown",
   "id": "c725eaa3-b399-4d78-9f85-49f0888315ae",
   "metadata": {
    "panel-layout": {
     "height": 68.2750015258789,
     "visible": true,
     "width": 100
    }
   },
   "source": [
    "\n",
    "This is the url to obtain each image. Change the #######.jpg to the number of the image to access different images.\n",
    "\n",
    "https://cxacyhoghhzisqxuwspe.supabase.co/storage/v1/object/public/aircraft/images/0034309.jpg\n",
    "\n"
   ]
  },
  {
   "cell_type": "code",
   "execution_count": 31,
   "id": "6891df91-bc22-4dec-9e2f-54e5398de7c2",
   "metadata": {},
   "outputs": [],
   "source": [
    "import pandas as pd\n",
    "import os\n",
    "#use the below line in an ide other than Jupyter\n",
    "#current_dir = os.path.dirname(os.path.abspath(__file__))\n",
    "#use the below line in Jupyter\n",
    "current_dir = os.getcwd()\n",
    "\n",
    "data_dir = os.path.join(current_dir, '..', 'data')\n",
    "boxes_file_path = os.path.join(data_dir, 'images_box.txt')\n",
    "\n",
    "\n",
    "#this file provides bounding box coordinates where their classifier focused\n",
    "with open(boxes_file_path, 'r') as boxes:\n",
    "    img_boxes = [line.strip().split(' ') for line in boxes]\n",
    "\n",
    "df = pd.DataFrame(img_boxes, columns=['image_index', 'b_x1', 'b_y1', 'b_x2', 'b_y2'])\n",
    "\n",
    "#this file adds a manufacturer column and also puts a value in the group (train/test/validate) column\n",
    "#the train/test/validate labels are provided as the split used by the dataset provider\n",
    "\n",
    "family_test_file_path = os.path.join(data_dir, 'images_family_test.txt')\n",
    "with open(family_test_file_path, 'r') as fam_test:\n",
    "    img_fam_test = [line.strip().split(' ', 1) for line in fam_test]\n",
    "\n",
    "df_fam_test = pd.DataFrame(img_fam_test, columns=['image_index', 'family'])\n",
    "\n",
    "family_train_file_path = os.path.join(data_dir, 'images_family_train.txt')\n",
    "with open(family_train_file_path, 'r') as fam_train:\n",
    "    img_fam_train = [line.strip().split(' ', 1) for line in fam_train]\n",
    "\n",
    "df_fam_train = pd.DataFrame(img_fam_train, columns=['image_index', 'family'])\n"
   ]
  },
  {
   "cell_type": "code",
   "execution_count": 33,
   "id": "9da96225-328b-43fb-bb39-f33a1e14bc77",
   "metadata": {},
   "outputs": [],
   "source": [
    "data_files = os.listdir(data_dir)\n",
    "\n"
   ]
  },
  {
   "cell_type": "code",
   "execution_count": 34,
   "id": "feb58549-ef10-4892-a7bd-a4b9d0113cf7",
   "metadata": {},
   "outputs": [
    {
     "data": {
      "text/plain": [
       "['images_variant_test.txt',\n",
       " '.DS_Store',\n",
       " 'images_variant_trainval.txt',\n",
       " 'images_manufacturer_val.txt',\n",
       " 'images_manufacturer_trainval.txt',\n",
       " 'images_variant_train.txt',\n",
       " 'images_family_val.txt',\n",
       " 'images_manufacturer_train.txt',\n",
       " 'images_manufacturer_test.txt',\n",
       " 'images_train.txt',\n",
       " 'images_family_train.txt',\n",
       " 'images_val.txt',\n",
       " 'images_test.txt',\n",
       " 'images_box.txt',\n",
       " 'images_family_trainval.txt',\n",
       " 'images_variant_val.txt',\n",
       " 'images_family_test.txt']"
      ]
     },
     "execution_count": 34,
     "metadata": {},
     "output_type": "execute_result"
    }
   ],
   "source": [
    "data_files"
   ]
  },
  {
   "cell_type": "code",
   "execution_count": null,
   "id": "2bdf5eb1-3aba-4511-abfc-b6cc8f4e724b",
   "metadata": {},
   "outputs": [],
   "source": []
  }
 ],
 "metadata": {
  "kernelspec": {
   "display_name": "Python 3 (ipykernel)",
   "language": "python",
   "name": "python3"
  },
  "language_info": {
   "codemirror_mode": {
    "name": "ipython",
    "version": 3
   },
   "file_extension": ".py",
   "mimetype": "text/x-python",
   "name": "python",
   "nbconvert_exporter": "python",
   "pygments_lexer": "ipython3",
   "version": "3.12.7"
  },
  "panel-cell-order": [
   "c725eaa3-b399-4d78-9f85-49f0888315ae"
  ]
 },
 "nbformat": 4,
 "nbformat_minor": 5
}
