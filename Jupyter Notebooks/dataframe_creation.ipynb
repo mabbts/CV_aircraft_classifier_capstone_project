{
 "cells": [
  {
   "cell_type": "markdown",
   "id": "c725eaa3-b399-4d78-9f85-49f0888315ae",
   "metadata": {
    "panel-layout": {
     "height": 68.2750015258789,
     "visible": true,
     "width": 100
    }
   },
   "source": [
    "\n",
    "This is the url to obtain each image. Change the #######.jpg to the number of the image to access different images.\n",
    "\n",
    "https://cxacyhoghhzisqxuwspe.supabase.co/storage/v1/object/public/aircraft/images/0034309.jpg\n",
    "\n"
   ]
  },
  {
   "cell_type": "code",
   "execution_count": 58,
   "id": "6891df91-bc22-4dec-9e2f-54e5398de7c2",
   "metadata": {},
   "outputs": [],
   "source": [
    "import pandas as pd\n",
    "import os\n",
    "#use the below line in an ide other than Jupyter\n",
    "#current_dir = os.path.dirname(os.path.abspath(__file__))\n",
    "#use the below line in Jupyter\n",
    "current_dir = os.getcwd()\n",
    "\n",
    "data_dir = os.path.join(current_dir, '..', 'data')\n",
    "boxes_file_path = os.path.join(data_dir, 'images_box.txt')\n",
    "\n",
    "\n",
    "#this file provides bounding box coordinates where their classifier focused\n",
    "with open(boxes_file_path, 'r') as boxes:\n",
    "    img_boxes = [line.strip().split(' ') for line in boxes]\n",
    "\n",
    "df = pd.DataFrame(img_boxes, columns=['image_index', 'b_x1', 'b_y1', 'b_x2', 'b_y2'])\n",
    "\n",
    "#this file adds a manufacturer, family, and variant dataframe\n",
    "#the train/test/validate labels are provided as the split used by the dataset provider\n",
    "\n",
    "#family label\n",
    "family_test_file_path = os.path.join(data_dir, 'images_family_test.txt')\n",
    "with open(family_test_file_path, 'r') as fam_test:\n",
    "    img_fam_test = [line.strip().split(' ', 1) for line in fam_test]\n",
    "\n",
    "df_fam_test = pd.DataFrame(img_fam_test, columns=['image_index', 'family'])\n",
    "\n",
    "family_train_file_path = os.path.join(data_dir, 'images_family_train.txt')\n",
    "with open(family_train_file_path, 'r') as fam_train:\n",
    "    img_fam_train = [line.strip().split(' ', 1) for line in fam_train]\n",
    "\n",
    "df_fam_train = pd.DataFrame(img_fam_train, columns=['image_index', 'family'])\n",
    "\n",
    "family_trainval_file_path = os.path.join(data_dir, 'images_family_trainval.txt')\n",
    "with open(family_trainval_file_path, 'r') as fam_trainval:\n",
    "    img_fam_trainval = [line.strip().split(' ', 1)[0] for line in fam_trainval]\n",
    "\n",
    "df_fam_trainval = pd.DataFrame(img_fam_trainval, columns=['image_index'])\n",
    "\n",
    "#variant label\n",
    "variant_test_file_path = os.path.join(data_dir, 'images_variant_test.txt')\n",
    "with open(variant_test_file_path, 'r') as var_test:\n",
    "    img_var_test = [line.strip().split(' ', 1) for line in var_test]\n",
    "\n",
    "df_var_test = pd.DataFrame(img_var_test, columns=['image_index', 'variant'])\n",
    "\n",
    "variant_train_file_path = os.path.join(data_dir, 'images_variant_train.txt')\n",
    "with open(variant_train_file_path, 'r') as var_train:\n",
    "    img_var_train = [line.strip().split(' ', 1) for line in var_train]\n",
    "\n",
    "df_var_train = pd.DataFrame(img_var_train, columns=['image_index', 'variant'])\n",
    "\n",
    "variant_trainval_file_path = os.path.join(data_dir, 'images_variant_trainval.txt')\n",
    "with open(variant_trainval_file_path, 'r') as var_trainval:\n",
    "    img_var_trainval = [line.strip().split(' ', 1) for line in var_trainval]\n",
    "\n",
    "df_var_trainval = pd.DataFrame(img_var_trainval, columns=['image_index','variant'])\n",
    "\n",
    "#manufacturer label\n",
    "manufacturer_test_file_path = os.path.join(data_dir, 'images_manufacturer_test.txt')\n",
    "with open(manufacturer_test_file_path, 'r') as man_test:\n",
    "    img_man_test = [line.strip().split(' ', 1) for line in man_test]\n",
    "\n",
    "df_man_test = pd.DataFrame(img_var_test, columns=['image_index', 'manufacturer'])\n",
    "\n",
    "manufacturer_train_file_path = os.path.join(data_dir, 'images_manufacturer_train.txt')\n",
    "with open(manufacturer_train_file_path, 'r') as man_train:\n",
    "    img_man_train = [line.strip().split(' ', 1) for line in man_train]\n",
    "\n",
    "df_man_train = pd.DataFrame(img_man_train, columns=['image_index', 'manufacturer'])\n",
    "\n",
    "manufacturer_trainval_file_path = os.path.join(data_dir, 'images_manufacturer_trainval.txt')\n",
    "with open(manufacturer_trainval_file_path, 'r') as man_trainval:\n",
    "    img_man_trainval = [line.strip().split(' ', 1) for line in man_trainval]\n",
    "\n",
    "df_man_trainval = pd.DataFrame(img_man_trainval, columns=['image_index','manufacturer'])\n"
   ]
  },
  {
   "cell_type": "markdown",
   "id": "7c510bc4-49f4-462f-b463-edd560e93d9f",
   "metadata": {},
   "source": [
    "***Next step:***  \n",
    "**Create composite data frame** \n",
    "Populate a 'segment' column with the type of segment represented in that DF, for example: train, test, validate. The composite data frame will have segment column from which to sort the data. (Can also use images_val.txt, etc).\n",
    "\n",
    "I'm not sure if trainval needs to be denoted because we can just sort by the labels training and validation to combine them.\n",
    "\n"
   ]
  },
  {
   "cell_type": "code",
   "execution_count": 47,
   "id": "9da96225-328b-43fb-bb39-f33a1e14bc77",
   "metadata": {},
   "outputs": [],
   "source": [
    "data_files = os.listdir(data_dir)\n",
    "file_names = [file.strip().split(\".\")[0] for file in data_files]\n",
    "file_names = [file for file in file_names if file != '']\n"
   ]
  },
  {
   "cell_type": "code",
   "execution_count": 48,
   "id": "2bdf5eb1-3aba-4511-abfc-b6cc8f4e724b",
   "metadata": {},
   "outputs": [
    {
     "data": {
      "text/plain": [
       "['images_variant_test',\n",
       " 'images_variant_trainval',\n",
       " 'images_manufacturer_val',\n",
       " 'images_manufacturer_trainval',\n",
       " 'images_variant_train',\n",
       " 'images_family_val',\n",
       " 'images_manufacturer_train',\n",
       " 'images_manufacturer_test',\n",
       " 'images_train',\n",
       " 'images_family_train',\n",
       " 'images_val',\n",
       " 'images_test',\n",
       " 'images_box',\n",
       " 'images_family_trainval',\n",
       " 'images_variant_val',\n",
       " 'images_family_test']"
      ]
     },
     "execution_count": 48,
     "metadata": {},
     "output_type": "execute_result"
    }
   ],
   "source": [
    "file_names"
   ]
  },
  {
   "cell_type": "code",
   "execution_count": null,
   "id": "f12f6a29-f6dc-4c42-836f-b1a797ef142e",
   "metadata": {},
   "outputs": [],
   "source": []
  }
 ],
 "metadata": {
  "kernelspec": {
   "display_name": "Python 3 (ipykernel)",
   "language": "python",
   "name": "python3"
  },
  "language_info": {
   "codemirror_mode": {
    "name": "ipython",
    "version": 3
   },
   "file_extension": ".py",
   "mimetype": "text/x-python",
   "name": "python",
   "nbconvert_exporter": "python",
   "pygments_lexer": "ipython3",
   "version": "3.12.7"
  },
  "panel-cell-order": [
   "c725eaa3-b399-4d78-9f85-49f0888315ae"
  ]
 },
 "nbformat": 4,
 "nbformat_minor": 5
}
