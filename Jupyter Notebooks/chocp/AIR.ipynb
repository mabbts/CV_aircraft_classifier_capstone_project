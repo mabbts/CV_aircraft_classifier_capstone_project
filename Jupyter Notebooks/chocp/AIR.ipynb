{
 "cells": [
  {
   "cell_type": "code",
   "execution_count": 1,
   "id": "03f10b1c-cda5-4d28-b78c-69766532fb40",
   "metadata": {},
   "outputs": [
    {
     "name": "stderr",
     "output_type": "stream",
     "text": [
      "c:\\Users\\chihp\\anaconda3\\Lib\\site-packages\\ignite\\handlers\\checkpoint.py:16: DeprecationWarning:\n",
      "\n",
      "`TorchScript` support for functional optimizers is deprecated and will be removed in a future PyTorch release. Consider using the `torch.compile` optimizer instead.\n",
      "\n"
     ]
    }
   ],
   "source": [
    "import numpy as np\n",
    "import pandas as pd\n",
    "import matplotlib.pyplot as plt\n",
    "import seaborn as sns\n",
    "import copy\n",
    "import plotly.express as px\n",
    "import plotly.graph_objects as go\n",
    "import plotly.figure_factory as ff\n",
    "import plotly.subplots as sub\n",
    "import dash\n",
    "from dash import dcc, html, Output, Input, State\n",
    "from sklearn.metrics import accuracy_score, precision_score, recall_score, f1_score, precision_recall_fscore_support, confusion_matrix, top_k_accuracy_score\n",
    "from sklearn.model_selection import StratifiedKFold\n",
    "import optuna\n",
    "from optuna.trial import TrialState\n",
    "from optuna.integration import PyTorchIgnitePruningHandler\n",
    "\n",
    "from functools import partial\n",
    "import random\n",
    "import os\n",
    "import itertools\n",
    "from PIL import Image\n",
    "from tqdm.auto import tqdm\n",
    "\n",
    "import albumentations as A\n",
    "from albumentations.pytorch import ToTensorV2\n",
    "\n",
    "import torch\n",
    "import torchvision\n",
    "import torch.optim as optim\n",
    "from torch import nn\n",
    "import torch.nn.functional as F\n",
    "from torch.utils.data import DataLoader, Dataset, TensorDataset, Subset\n",
    "from torchvision.models import vgg16_bn, resnet50, resnet18, efficientnet_b0, densenet121, ResNet50_Weights, ResNet18_Weights, VGG16_BN_Weights, DenseNet121_Weights, EfficientNet_B0_Weights\n",
    "from torchvision.utils import make_grid, draw_bounding_boxes, draw_segmentation_masks, draw_keypoints\n",
    "from torchvision import datasets\n",
    "from torchvision.transforms import ToTensor, v2, ToPILImage\n",
    "from torchvision.io import decode_image\n",
    "\n",
    "# from ignite.engine import Events, create_supervised_trainer, create_supervised_evaluator\n",
    "# from ignite.metrics import Accuracy, Loss, RunningAverage, ConfusionMatrix\n",
    "# from ignite.handlers import ModelCheckpoint, EarlyStopping\n",
    "\n",
    "from pathlib import Path\n",
    "from torch.utils.tensorboard import SummaryWriter\n",
    "from torch.amp import GradScaler, autocast\n",
    "\n",
    "from transformers import ViTForImageClassification, ViTImageProcessor, AutoModelForImageClassification, AutoImageProcessor, Trainer, TrainingArguments\n",
    "from huggingface_hub import snapshot_download, hf_hub_download\n",
    "import socket\n",
    "import json\n",
    "import sys"
   ]
  },
  {
   "cell_type": "code",
   "execution_count": 2,
   "id": "844be04e",
   "metadata": {},
   "outputs": [
    {
     "data": {
      "application/vnd.jupyter.widget-view+json": {
       "model_id": "5d4c1303772c4a5386951f6225793595",
       "version_major": 2,
       "version_minor": 0
      },
      "text/plain": [
       "VBox(children=(HTML(value='<center> <img\\nsrc=https://huggingface.co/front/assets/huggingface_logo-noborder.sv…"
      ]
     },
     "metadata": {},
     "output_type": "display_data"
    }
   ],
   "source": [
    "# Starting from chocp/, go up two levels to parent_dir/\n",
    "parent_dir = os.path.abspath(os.path.join(os.getcwd(), '..', '..'))\n",
    "\n",
    "# Prepend to sys.path so Python can find src/\n",
    "if parent_dir not in sys.path:\n",
    "    sys.path.insert(0, parent_dir)\n",
    "\n",
    "\n",
    "\n",
    "from src.chocp_dataset import FGVCAircraftDataset"
   ]
  },
  {
   "cell_type": "code",
   "execution_count": 3,
   "id": "fb6ebf69",
   "metadata": {},
   "outputs": [],
   "source": [
    "# ds_hf = FGVCAircraftDataset(\n",
    "#     root=\"C:/Users/chihp/UMich/SIADS/699/FGVC/fgvc-aircraft-2013b/data\",\n",
    "#     split=\"test\", level=\"manufacturer\", transform=None\n",
    "# )"
   ]
  },
  {
   "cell_type": "code",
   "execution_count": 4,
   "id": "05685857-cf10-4013-8297-838bc6cf44ad",
   "metadata": {},
   "outputs": [],
   "source": [
    "# SE Module\n",
    "class SEBlock(nn.Module):\n",
    "    def __init__(self, in_channels, reduction=16):\n",
    "        super(SEBlock, self).__init__()\n",
    "        self.global_avg_pool = nn.AdaptiveAvgPool2d(1)\n",
    "        self.fc1 = nn.Linear(in_channels, in_channels // reduction, bias=False)\n",
    "        self.relu = nn.ReLU(inplace=True)\n",
    "        self.fc2 = nn.Linear(in_channels // reduction, in_channels, bias=False)\n",
    "        self.sigmoid = nn.Sigmoid()\n",
    "\n",
    "    def forward(self, x):\n",
    "        b, c, _, _ = x.size()\n",
    "        y = self.global_avg_pool(x).view(b, c)\n",
    "        y = self.fc1(y)\n",
    "        y = self.relu(y)\n",
    "        y = self.fc2(y)\n",
    "        y = self.sigmoid(y).view(b, c, 1, 1)\n",
    "        return x * y.expand_as(x)\n",
    "\n",
    "# ResNet50 with SE Block\n",
    "class SEEffNet(nn.Module):\n",
    "    def __init__(self, num_classes=30, drop=0.0):\n",
    "        super(SEEffNet, self).__init__()\n",
    "        self.backbone = efficientnet_b0(weights=EfficientNet_B0_Weights.DEFAULT)\n",
    "        self.backbone.classifier = nn.Identity() # fc if resnet\n",
    "        self.se = SEBlock(in_channels=1280) #2048 for resnet, 1280 for efficientnet, densenet121 = 1024, final layer also classifier\n",
    "        self.dropout = nn.Dropout(drop)\n",
    "        self.classifier = nn.Linear(1280, num_classes)\n",
    "\n",
    "    def forward(self, x):\n",
    "        x = self.backbone(x)\n",
    "        x = x.unsqueeze(-1).unsqueeze(-1)\n",
    "        x = self.se(x)\n",
    "        x = x.view(x.size(0), -1)\n",
    "        x = self.dropout(x)\n",
    "        x = self.classifier(x)\n",
    "        return x"
   ]
  },
  {
   "cell_type": "code",
   "execution_count": 5,
   "id": "179c0260",
   "metadata": {},
   "outputs": [],
   "source": [
    "def get_loaders(img_size = 224, batch_size = 32, annot = 'manufacturer'):\n",
    "    mean=[0.485,0.456,0.406]\n",
    "    std=[0.229,0.224,0.225]\n",
    "\n",
    "    train_tf = A.Compose([\n",
    "        A.RandomResizedCrop((img_size, img_size)),  # A.Resize(img_size, img_size)\n",
    "        A.HorizontalFlip(p=0.5),\n",
    "        A.Affine(scale=(0.9, 1.1), translate_percent=(0.05, 0.05), rotate=(-15, 15), p=0.5),\n",
    "        A.RandomBrightnessContrast(p=0.5),\n",
    "        A.Normalize(mean=mean, std=std),\n",
    "        ToTensorV2()\n",
    "    ])\n",
    "    test_tf = A.Compose([\n",
    "        #A.LongestMaxSize(max_size=256)\n",
    "        A.Resize(img_size, img_size),\n",
    "        A.Normalize(mean=mean, std=std),\n",
    "        ToTensorV2()\n",
    "    ])\n",
    "    \n",
    "    train_dataset = FGVCAircraftDataset(root=\"C:/Users/chihp/UMich/SIADS/699/FGVC/fgvc-aircraft-2013b/data\", \n",
    "                                        split='train', level = annot, transform=train_tf, return_class=False, \n",
    "                                        cropped=True, album = True)\n",
    "    val_dataset   = FGVCAircraftDataset(root=\"C:/Users/chihp/UMich/SIADS/699/FGVC/fgvc-aircraft-2013b/data\", \n",
    "                                        split='val', level = annot, transform=test_tf, \n",
    "                                        return_class=False, cropped=False, album = True)\n",
    "    test_dataset   = FGVCAircraftDataset(root=\"C:/Users/chihp/UMich/SIADS/699/FGVC/fgvc-aircraft-2013b/data\", \n",
    "                                         split='test', level = annot, transform=test_tf, \n",
    "                                         return_class=False, cropped=False, album = True)\n",
    "    class_names = train_dataset.classes\n",
    "    num_classes = len(train_dataset.classes)\n",
    "    train_loader = DataLoader(train_dataset, batch_size, shuffle=True)\n",
    "    val_loader = DataLoader(val_dataset, batch_size, shuffle=False)\n",
    "    test_loader = DataLoader(test_dataset, batch_size, shuffle=False)\n",
    "    return train_loader, val_loader, test_loader, num_classes, class_names"
   ]
  },
  {
   "cell_type": "code",
   "execution_count": 6,
   "id": "c23ea53c-94da-442a-851e-e74fea61de5a",
   "metadata": {},
   "outputs": [],
   "source": [
    "# For evaluation of valid set\n",
    "def top_k_accuracy(output, target, k=5):\n",
    "    with torch.no_grad():\n",
    "        max_k_preds = output.topk(k, dim=1)[1]\n",
    "        correct = max_k_preds.eq(target.view(-1, 1).expand_as(max_k_preds))\n",
    "        return correct.any(dim=1).float().mean().item()\n",
    "\n",
    "# For evaluation of final test set\n",
    "\n",
    "def compute_metrics(y_true, y_pred_logits, k=5):\n",
    "    \"\"\"\n",
    "    Computes Top-1 and Top-k accuracy, and macro/micro F1 scores.\n",
    "    \n",
    "    Parameters:\n",
    "    - y_true: Ground truth labels (list or numpy array)\n",
    "    - y_pred_logits: Model output logits (tensor or numpy array)\n",
    "    - k: Value for Top-k accuracy\n",
    "    \n",
    "    Returns:\n",
    "    - Dictionary of metrics\n",
    "    \"\"\"\n",
    "    # Convert logits to predicted labels\n",
    "    y_pred_top1 = torch.argmax(y_pred_logits, dim=1).cpu().numpy()\n",
    "    y_true_np = y_true.cpu().numpy() if isinstance(y_true, torch.Tensor) else y_true\n",
    "    y_pred_np = y_pred_logits.cpu().numpy() if isinstance(y_pred_logits, torch.Tensor) else y_pred_logits\n",
    "\n",
    "    # Compute metrics\n",
    "    top1_acc = top_k_accuracy_score(y_true_np, y_pred_np, k=1)\n",
    "    topk_acc = top_k_accuracy_score(y_true_np, y_pred_np, k=k)\n",
    "    f1_macro = f1_score(y_true_np, y_pred_top1, average='macro')\n",
    "    f1_micro = f1_score(y_true_np, y_pred_top1, average='micro')\n",
    "\n",
    "    return {\n",
    "        'Top-1 Accuracy': top1_acc,\n",
    "        f'Top-{k} Accuracy': topk_acc,\n",
    "        'F1 Macro': f1_macro,\n",
    "        'F1 Micro': f1_micro\n",
    "    }\n",
    "\n"
   ]
  },
  {
   "cell_type": "code",
   "execution_count": 7,
   "id": "6961eaff",
   "metadata": {},
   "outputs": [],
   "source": [
    "# Training and evaluation functions\n",
    "def train_one_epoch(model, dataloader, criterion, optimizer, device, scaler):\n",
    "    model.train()\n",
    "    running_loss = 0.0\n",
    "    correct = 0\n",
    "    total = 0\n",
    "    loss_lst = []\n",
    "    acc_lst = []\n",
    "\n",
    "    for inputs, labels in tqdm(dataloader, desc=\"Training\", leave=False):\n",
    "        #inputs, labels = cutmix_or_mixup(inputs, labels)#cutmix/mixup\n",
    "        inputs, labels = inputs.to(device), labels.to(device)\n",
    "        #hard_labels = labels.argmax(dim=1) #convert soft label to hard labels for cutmix or mixup\n",
    "\n",
    "        optimizer.zero_grad()\n",
    "        outputs = model(inputs)#\n",
    "        loss = criterion(outputs, labels)#\n",
    "        loss.backward()#\n",
    "        optimizer.step()#\n",
    "        # with autocast(device_type = 'cuda'):\n",
    "        #     outputs = model(inputs)\n",
    "        #     loss = criterion(outputs, labels)\n",
    "        # scaler.scale(loss).backward()\n",
    "        # scaler.step(optimizer)\n",
    "        # scaler.update()\n",
    "        \n",
    "\n",
    "        running_loss += loss.item() * inputs.size(0)\n",
    "        #hard_labels = labels.argmax(dim=1) #convert soft label to hard labels for cutmix or mixup\n",
    "        _, predicted = outputs.max(1)\n",
    "        correct += predicted.eq(labels).sum().item()\n",
    "        total += labels.size(0)\n",
    "        loss_lst.append(loss.item() * inputs.size(0))#\n",
    "        acc_lst.append(predicted.eq(labels).sum().item() / labels.size(0))\n",
    "\n",
    "    epoch_loss = running_loss / total\n",
    "    epoch_acc = correct / total\n",
    "    #loss_lst.append(epoch_loss)\n",
    "    #acc_lst.append(epoch_acc)\n",
    "    return epoch_loss, epoch_acc, loss_lst, acc_lst\n",
    "\n",
    "def evaluate(model, dataloader, criterion, device):\n",
    "    model.eval()\n",
    "    running_loss = 0.0\n",
    "    correct = 0\n",
    "    total = 0\n",
    "    all_preds = []\n",
    "    all_labels = []\n",
    "    loss_lst = []\n",
    "    acc_lst = []\n",
    "\n",
    "    with torch.no_grad():\n",
    "        for inputs, labels in tqdm(dataloader, desc = \"Evaluation\", leave=False):\n",
    "            inputs, labels = inputs.to(device), labels.to(device)\n",
    "\n",
    "            outputs = model(inputs)\n",
    "            loss = criterion(outputs, labels)\n",
    "\n",
    "            \n",
    "\n",
    "            running_loss += loss.item() * inputs.size(0)\n",
    "            #hard_labels = labels.argmax(dim=1) #convert soft label to hard labels for cutmix or mixup\n",
    "            _, predicted = outputs.max(1)\n",
    "            correct += predicted.eq(labels).sum().item()\n",
    "            total += labels.size(0)\n",
    "            all_preds.extend(predicted.cpu().numpy())\n",
    "            all_labels.extend(labels.cpu().numpy())\n",
    "            loss_lst.append(loss.item() * inputs.size(0))#\n",
    "            acc_lst.append(predicted.eq(labels).sum().item() / labels.size(0))\n",
    "\n",
    "    epoch_loss = running_loss / total\n",
    "    epoch_acc = correct / total\n",
    "    #loss_lst.append(epoch_loss)\n",
    "    #acc_lst.append(epoch_acc)\n",
    "    return epoch_loss, epoch_acc, all_preds, all_labels, loss_lst, acc_lst\n",
    "\n",
    "\n",
    "\n",
    "# Function to plot confusion matrix\n",
    "def plot_confusion_matrix(cm, classes, normalize=False, title='Confusion matrix', cmap=plt.cm.Blues):\n",
    "    if normalize:\n",
    "        cm = cm.astype('float') / cm.sum(axis=1)[:, np.newaxis]\n",
    "\n",
    "    plt.figure(figsize=(10, 10))\n",
    "    plt.imshow(cm, interpolation='nearest', cmap=cmap)\n",
    "    plt.title(title)\n",
    "    plt.colorbar()\n",
    "    tick_marks = np.arange(len(classes))\n",
    "    plt.xticks(tick_marks, classes, rotation=90)\n",
    "    plt.yticks(tick_marks, classes)\n",
    "\n",
    "    fmt = '.2f' if normalize else 'd'\n",
    "    thresh = cm.max() / 2.\n",
    "    for i, j in itertools.product(range(cm.shape[0]), range(cm.shape[1])):\n",
    "        plt.text(j, i, format(cm[i, j], fmt),\n",
    "                 horizontalalignment=\"center\",\n",
    "                 color=\"white\" if cm[i, j] > thresh else \"black\")\n",
    "\n",
    "    plt.ylabel('True label')\n",
    "    plt.xlabel('Predicted label')\n",
    "    plt.tight_layout()\n",
    "# def plot_confusion_matrix(model, data_loader, class_names):\n",
    "#     model.eval()\n",
    "#     all_preds = []\n",
    "#     all_labels = []\n",
    "\n",
    "#     with torch.no_grad():\n",
    "#         for images, labels in data_loader:\n",
    "#             images, labels = images.to(device), labels.to(device)\n",
    "#             outputs = model(images)\n",
    "#             _, preds = torch.max(outputs, 1)  # <-- This line was missing\n",
    "#             all_preds.extend(preds.cpu().numpy())\n",
    "#             all_labels.extend(labels.cpu().numpy())\n",
    "    \n",
    "#     cm = confusion_matrix(all_labels, all_preds)\n",
    "#     plt.figure(figsize=(12, 8))\n",
    "#     sns.heatmap(cm, annot=True, fmt='d', cmap='Blues',\n",
    "#                 xticklabels=class_names, yticklabels=class_names)\n",
    "#     plt.xlabel('Predicted')\n",
    "#     plt.ylabel('Actual')\n",
    "#     plt.title('Confusion Matrix')\n",
    "#     plt.show()\n",
    "\n",
    "def unnormalize(img_tensor, mean, std):\n",
    "    for t, m, s in zip(img_tensor, mean, std):\n",
    "        t.mul_(s).add_(m)\n",
    "    return img_tensor\n",
    "\n",
    "def visualize_predictions(model, test_dataset, num_samples=10, normalized=True):\n",
    "    model.eval()\n",
    "    samples = random.sample(range(len(test_dataset)), num_samples)\n",
    "    fig, axes = plt.subplots(2, 5, figsize=(15, 6))\n",
    "    axes = axes.flatten()\n",
    "\n",
    "    inv_label_map = test_dataset.idx_to_class\n",
    "    mean = [0.485, 0.456, 0.406]\n",
    "    std = [0.229, 0.224, 0.225]\n",
    "\n",
    "    with torch.no_grad():\n",
    "        for idx, sample_idx in enumerate(samples):\n",
    "            image, label = test_dataset[sample_idx]\n",
    "            input_img = image.unsqueeze(0).to(device)\n",
    "            output = model(input_img)\n",
    "            _, pred = torch.max(output, 1)\n",
    "\n",
    "            # Unnormalize if needed\n",
    "            if normalized:\n",
    "                image = unnormalize(image.clone(), mean, std)\n",
    "\n",
    "            img_disp = image.permute(1, 2, 0).cpu().numpy().clip(0, 1)\n",
    "            axes[idx].imshow(img_disp)\n",
    "            axes[idx].set_title(f\"Pred: {inv_label_map[pred.item()]}\\nActual: {inv_label_map[label]}\")\n",
    "            axes[idx].axis('off')\n",
    "\n",
    "    plt.tight_layout()\n",
    "    plt.show()\n"
   ]
  },
  {
   "cell_type": "code",
   "execution_count": 12,
   "id": "f1807d5a",
   "metadata": {},
   "outputs": [],
   "source": [
    "# Objective function for Optuna\n",
    "def objective(trial):\n",
    "    # Hyperparameters to tune\n",
    "    learning_rate = trial.suggest_float(\"learning_rate\", 1e-5, 5e-4, log=True)\n",
    "    batch_size = trial.suggest_categorical(\"batch_size\", [16, 32])\n",
    "    weight_decay = trial.suggest_float(\"weight_decay\", 1e-6, 1e-2, log=True)\n",
    "    num_epochs = trial.suggest_int(\"num_epochs\", 5, 20)\n",
    "    drop = trial.suggest_float(\"drop\", 0.0, 0.5)\n",
    "    \n",
    "    # Data loaders\n",
    "    # train_loader = DataLoader(train_dataset, batch_size=batch_size, shuffle=True, num_workers=2)\n",
    "    # test_loader = DataLoader(test_dataset, batch_size=batch_size, shuffle=False, num_workers=2)\n",
    "    train_loader, test_loader, _, num_classes, _ = get_loaders(batch_size=batch_size, annot = 'variant')\n",
    "\n",
    "    # Model, loss, optimizer\n",
    "    model = SEEffNet(num_classes=num_classes, drop=drop).to(device)\n",
    "    criterion = nn.CrossEntropyLoss()\n",
    "    optimizer = optim.AdamW(model.parameters(), lr=learning_rate, weight_decay=weight_decay)\n",
    "\n",
    "    # Training loop\n",
    "    for epoch in range(num_epochs):\n",
    "        model.train()\n",
    "        for images, labels in train_loader:\n",
    "            images, labels = images.to(device), labels.to(device)\n",
    "            optimizer.zero_grad()\n",
    "            outputs = model(images)\n",
    "            loss = criterion(outputs, labels)\n",
    "            loss.backward()\n",
    "            optimizer.step()\n",
    "\n",
    "    # Evaluation\n",
    "    model.eval()\n",
    "    all_preds = []\n",
    "    all_labels = []\n",
    "    with torch.no_grad():\n",
    "        for images, labels in test_loader:\n",
    "            images = images.to(device)\n",
    "            outputs = model(images)\n",
    "            preds = torch.argmax(outputs, dim=1).cpu().numpy()\n",
    "            all_preds.extend(preds)\n",
    "            all_labels.extend(labels.numpy())\n",
    "\n",
    "    accuracy = accuracy_score(all_labels, all_preds)\n",
    "    return accuracy"
   ]
  },
  {
   "cell_type": "code",
   "execution_count": 13,
   "id": "7a630995",
   "metadata": {},
   "outputs": [
    {
     "name": "stderr",
     "output_type": "stream",
     "text": [
      "[I 2025-07-15 00:24:24,502] A new study created in memory with name: Finest_FGVCAircraft_Variant\n"
     ]
    },
    {
     "data": {
      "application/vnd.jupyter.widget-view+json": {
       "model_id": "9b8b89baf1bb42af97ffda3c062b45e0",
       "version_major": 2,
       "version_minor": 0
      },
      "text/plain": [
       "  0%|          | 0/30 [00:00<?, ?it/s]"
      ]
     },
     "metadata": {},
     "output_type": "display_data"
    },
    {
     "name": "stdout",
     "output_type": "stream",
     "text": [
      "[I 2025-07-15 00:31:42,599] Trial 0 finished with value: 0.186018601860186 and parameters: {'learning_rate': 0.00015845239521798652, 'batch_size': 16, 'weight_decay': 0.0004473283179235199, 'num_epochs': 10, 'drop': 0.1979186939062455}. Best is trial 0 with value: 0.186018601860186.\n",
      "[I 2025-07-15 00:43:40,720] Trial 1 finished with value: 0.15151515151515152 and parameters: {'learning_rate': 0.000420308488927592, 'batch_size': 16, 'weight_decay': 2.0332853872959434e-05, 'num_epochs': 14, 'drop': 0.29126336073643994}. Best is trial 0 with value: 0.186018601860186.\n",
      "[I 2025-07-15 00:49:55,518] Trial 2 finished with value: 0.16801680168016803 and parameters: {'learning_rate': 6.579256291017913e-05, 'batch_size': 16, 'weight_decay': 0.0031789508621849426, 'num_epochs': 6, 'drop': 0.17273184979114042}. Best is trial 0 with value: 0.186018601860186.\n",
      "[I 2025-07-15 01:04:14,360] Trial 3 finished with value: 0.21632163216321632 and parameters: {'learning_rate': 6.555085060888387e-05, 'batch_size': 32, 'weight_decay': 3.704567819949003e-05, 'num_epochs': 16, 'drop': 0.09728508789607032}. Best is trial 3 with value: 0.21632163216321632.\n",
      "[I 2025-07-15 01:14:38,703] Trial 4 finished with value: 0.15361536153615363 and parameters: {'learning_rate': 0.00038476292284161484, 'batch_size': 16, 'weight_decay': 0.00013339219213424382, 'num_epochs': 10, 'drop': 0.48814554263307475}. Best is trial 3 with value: 0.21632163216321632.\n",
      "[I 2025-07-15 01:27:48,056] Trial 5 finished with value: 0.18721872187218722 and parameters: {'learning_rate': 8.737772691302232e-05, 'batch_size': 16, 'weight_decay': 5.436689904546644e-06, 'num_epochs': 13, 'drop': 0.4004351067618105}. Best is trial 3 with value: 0.21632163216321632.\n",
      "[I 2025-07-15 01:32:59,502] Trial 6 finished with value: 0.0288028802880288 and parameters: {'learning_rate': 1.7686430265526458e-05, 'batch_size': 32, 'weight_decay': 0.0005490325934575006, 'num_epochs': 5, 'drop': 0.15544051589442126}. Best is trial 3 with value: 0.21632163216321632.\n",
      "[I 2025-07-15 01:52:14,871] Trial 7 finished with value: 0.171017101710171 and parameters: {'learning_rate': 2.221391413772249e-05, 'batch_size': 16, 'weight_decay': 7.378839738343468e-05, 'num_epochs': 20, 'drop': 0.04529329812330185}. Best is trial 3 with value: 0.21632163216321632.\n",
      "[I 2025-07-15 02:10:46,667] Trial 8 finished with value: 0.16531653165316532 and parameters: {'learning_rate': 0.00043403386739784014, 'batch_size': 16, 'weight_decay': 3.2611335401056934e-05, 'num_epochs': 19, 'drop': 0.45619709919493007}. Best is trial 3 with value: 0.21632163216321632.\n",
      "[I 2025-07-15 02:25:50,834] Trial 9 finished with value: 0.177017701770177 and parameters: {'learning_rate': 0.00032368893383516624, 'batch_size': 16, 'weight_decay': 1.6871406635280273e-05, 'num_epochs': 16, 'drop': 0.24228059682898057}. Best is trial 3 with value: 0.21632163216321632.\n",
      "[I 2025-07-15 02:41:00,079] Trial 10 finished with value: 0.1695169516951695 and parameters: {'learning_rate': 3.750331604747259e-05, 'batch_size': 32, 'weight_decay': 2.840740326019212e-06, 'num_epochs': 17, 'drop': 0.015794394944312867}. Best is trial 3 with value: 0.21632163216321632.\n",
      "[I 2025-07-15 02:51:47,790] Trial 11 finished with value: 0.18871887188718872 and parameters: {'learning_rate': 0.00010799334239963063, 'batch_size': 32, 'weight_decay': 5.25639019895895e-06, 'num_epochs': 12, 'drop': 0.3667000108627168}. Best is trial 3 with value: 0.21632163216321632.\n",
      "[I 2025-07-15 03:01:00,398] Trial 12 finished with value: 0.21302130213021303 and parameters: {'learning_rate': 0.00011439975967550534, 'batch_size': 32, 'weight_decay': 1.8538604494781693e-06, 'num_epochs': 10, 'drop': 0.3355521897551711}. Best is trial 3 with value: 0.21632163216321632.\n",
      "[I 2025-07-15 03:09:29,227] Trial 13 finished with value: 0.1413141314131413 and parameters: {'learning_rate': 4.6381812485739504e-05, 'batch_size': 32, 'weight_decay': 1.0080962476098667e-06, 'num_epochs': 9, 'drop': 0.08885773041198525}. Best is trial 3 with value: 0.21632163216321632.\n",
      "[I 2025-07-15 03:24:33,997] Trial 14 finished with value: 0.21392139213921393 and parameters: {'learning_rate': 0.00015237293455160216, 'batch_size': 32, 'weight_decay': 0.008855939203468038, 'num_epochs': 16, 'drop': 0.3032504956688829}. Best is trial 3 with value: 0.21632163216321632.\n",
      "[I 2025-07-15 03:39:16,730] Trial 15 finished with value: 0.20372037203720372 and parameters: {'learning_rate': 0.00019155502734459416, 'batch_size': 32, 'weight_decay': 0.008526568624475124, 'num_epochs': 16, 'drop': 0.11188076598031936}. Best is trial 3 with value: 0.21632163216321632.\n",
      "[I 2025-07-15 03:56:18,938] Trial 16 finished with value: 0.20462046204620463 and parameters: {'learning_rate': 0.0001835468265922187, 'batch_size': 32, 'weight_decay': 0.0003206260086936085, 'num_epochs': 18, 'drop': 0.2622024735638286}. Best is trial 3 with value: 0.21632163216321632.\n",
      "[I 2025-07-15 04:09:25,699] Trial 17 finished with value: 0.058205820582058206 and parameters: {'learning_rate': 1.1444440333954252e-05, 'batch_size': 32, 'weight_decay': 0.0017137587736359146, 'num_epochs': 14, 'drop': 0.22400789197246113}. Best is trial 3 with value: 0.21632163216321632.\n",
      "[I 2025-07-15 04:24:26,468] Trial 18 finished with value: 0.1935193519351935 and parameters: {'learning_rate': 5.5009431183166254e-05, 'batch_size': 32, 'weight_decay': 0.009258889562220693, 'num_epochs': 16, 'drop': 0.3100358863088638}. Best is trial 3 with value: 0.21632163216321632.\n",
      "[I 2025-07-15 04:38:34,601] Trial 19 finished with value: 0.15151515151515152 and parameters: {'learning_rate': 3.1838586508380554e-05, 'batch_size': 32, 'weight_decay': 0.00010263235108744109, 'num_epochs': 15, 'drop': 0.10340318829972285}. Best is trial 3 with value: 0.21632163216321632.\n",
      "[I 2025-07-15 04:55:18,402] Trial 20 finished with value: 0.21002100210021002 and parameters: {'learning_rate': 0.0002480130470107876, 'batch_size': 32, 'weight_decay': 0.001224657136860457, 'num_epochs': 18, 'drop': 0.38377383365274903}. Best is trial 3 with value: 0.21632163216321632.\n",
      "[I 2025-07-15 05:03:09,230] Trial 21 finished with value: 0.1641164116411641 and parameters: {'learning_rate': 0.00011249865790165341, 'batch_size': 32, 'weight_decay': 1.0837410568910528e-06, 'num_epochs': 8, 'drop': 0.3429836582928544}. Best is trial 3 with value: 0.21632163216321632.\n",
      "[I 2025-07-15 05:14:33,525] Trial 22 finished with value: 0.1851185118511851 and parameters: {'learning_rate': 0.00012625193701765885, 'batch_size': 32, 'weight_decay': 9.674618624785605e-06, 'num_epochs': 12, 'drop': 0.428306577504505}. Best is trial 3 with value: 0.21632163216321632.\n",
      "[I 2025-07-15 05:25:01,138] Trial 23 finished with value: 0.19051905190519053 and parameters: {'learning_rate': 7.33478666046654e-05, 'batch_size': 32, 'weight_decay': 5.2340996766459895e-05, 'num_epochs': 11, 'drop': 0.3240267070160275}. Best is trial 3 with value: 0.21632163216321632.\n",
      "[I 2025-07-15 05:32:16,024] Trial 24 finished with value: 0.15871587158715872 and parameters: {'learning_rate': 0.000262512451975807, 'batch_size': 32, 'weight_decay': 2.2721724195138378e-06, 'num_epochs': 7, 'drop': 0.2729774523703358}. Best is trial 3 with value: 0.21632163216321632.\n",
      "[I 2025-07-15 05:45:20,588] Trial 25 finished with value: 0.22442244224422442 and parameters: {'learning_rate': 8.423044353029299e-05, 'batch_size': 32, 'weight_decay': 0.00021985995274346616, 'num_epochs': 14, 'drop': 0.35046992848435876}. Best is trial 25 with value: 0.22442244224422442.\n",
      "[I 2025-07-15 05:58:36,327] Trial 26 finished with value: 0.21302130213021303 and parameters: {'learning_rate': 7.54831775313774e-05, 'batch_size': 32, 'weight_decay': 0.0001532089373041334, 'num_epochs': 14, 'drop': 0.14829746384990244}. Best is trial 25 with value: 0.22442244224422442.\n",
      "[I 2025-07-15 06:14:39,205] Trial 27 finished with value: 0.16891689168916893 and parameters: {'learning_rate': 4.061727674104457e-05, 'batch_size': 32, 'weight_decay': 0.003962538485119431, 'num_epochs': 17, 'drop': 0.21497655425233098}. Best is trial 25 with value: 0.22442244224422442.\n",
      "[I 2025-07-15 06:26:56,910] Trial 28 finished with value: 0.10711071107110712 and parameters: {'learning_rate': 2.710869711863423e-05, 'batch_size': 32, 'weight_decay': 0.0008809459145361667, 'num_epochs': 13, 'drop': 0.4094992735562137}. Best is trial 25 with value: 0.22442244224422442.\n",
      "[I 2025-07-15 06:40:57,550] Trial 29 finished with value: 0.207020702070207 and parameters: {'learning_rate': 0.00013589961758964756, 'batch_size': 32, 'weight_decay': 0.0002996192603312481, 'num_epochs': 15, 'drop': 0.19820733603675023}. Best is trial 25 with value: 0.22442244224422442.\n",
      "Best trial:\n",
      "  Accuracy: 0.22442244224422442\n",
      "  Params:\n",
      "    learning_rate: 8.423044353029299e-05\n",
      "    batch_size: 32\n",
      "    weight_decay: 0.00021985995274346616\n",
      "    num_epochs: 14\n",
      "    drop: 0.35046992848435876\n"
     ]
    },
    {
     "data": {
      "application/vnd.plotly.v1+json": {
       "config": {
        "plotlyServerURL": "https://plot.ly"
       },
       "data": [
        {
         "mode": "markers",
         "name": "Objective Value",
         "type": "scatter",
         "x": [
          0,
          1,
          2,
          3,
          4,
          5,
          6,
          7,
          8,
          9,
          10,
          11,
          12,
          13,
          14,
          15,
          16,
          17,
          18,
          19,
          20,
          21,
          22,
          23,
          24,
          25,
          26,
          27,
          28,
          29
         ],
         "y": [
          0.186018601860186,
          0.15151515151515152,
          0.16801680168016803,
          0.21632163216321632,
          0.15361536153615363,
          0.18721872187218722,
          0.0288028802880288,
          0.171017101710171,
          0.16531653165316532,
          0.177017701770177,
          0.1695169516951695,
          0.18871887188718872,
          0.21302130213021303,
          0.1413141314131413,
          0.21392139213921393,
          0.20372037203720372,
          0.20462046204620463,
          0.058205820582058206,
          0.1935193519351935,
          0.15151515151515152,
          0.21002100210021002,
          0.1641164116411641,
          0.1851185118511851,
          0.19051905190519053,
          0.15871587158715872,
          0.22442244224422442,
          0.21302130213021303,
          0.16891689168916893,
          0.10711071107110712,
          0.207020702070207
         ]
        },
        {
         "mode": "lines",
         "name": "Best Value",
         "type": "scatter",
         "x": [
          0,
          1,
          2,
          3,
          4,
          5,
          6,
          7,
          8,
          9,
          10,
          11,
          12,
          13,
          14,
          15,
          16,
          17,
          18,
          19,
          20,
          21,
          22,
          23,
          24,
          25,
          26,
          27,
          28,
          29
         ],
         "y": [
          0.186018601860186,
          0.186018601860186,
          0.186018601860186,
          0.21632163216321632,
          0.21632163216321632,
          0.21632163216321632,
          0.21632163216321632,
          0.21632163216321632,
          0.21632163216321632,
          0.21632163216321632,
          0.21632163216321632,
          0.21632163216321632,
          0.21632163216321632,
          0.21632163216321632,
          0.21632163216321632,
          0.21632163216321632,
          0.21632163216321632,
          0.21632163216321632,
          0.21632163216321632,
          0.21632163216321632,
          0.21632163216321632,
          0.21632163216321632,
          0.21632163216321632,
          0.21632163216321632,
          0.21632163216321632,
          0.22442244224422442,
          0.22442244224422442,
          0.22442244224422442,
          0.22442244224422442,
          0.22442244224422442
         ]
        },
        {
         "marker": {
          "color": "#cccccc"
         },
         "mode": "markers",
         "name": "Infeasible Trial",
         "showlegend": false,
         "type": "scatter",
         "x": [],
         "y": []
        }
       ],
       "layout": {
        "template": {
         "data": {
          "bar": [
           {
            "error_x": {
             "color": "#2a3f5f"
            },
            "error_y": {
             "color": "#2a3f5f"
            },
            "marker": {
             "line": {
              "color": "#E5ECF6",
              "width": 0.5
             },
             "pattern": {
              "fillmode": "overlay",
              "size": 10,
              "solidity": 0.2
             }
            },
            "type": "bar"
           }
          ],
          "barpolar": [
           {
            "marker": {
             "line": {
              "color": "#E5ECF6",
              "width": 0.5
             },
             "pattern": {
              "fillmode": "overlay",
              "size": 10,
              "solidity": 0.2
             }
            },
            "type": "barpolar"
           }
          ],
          "carpet": [
           {
            "aaxis": {
             "endlinecolor": "#2a3f5f",
             "gridcolor": "white",
             "linecolor": "white",
             "minorgridcolor": "white",
             "startlinecolor": "#2a3f5f"
            },
            "baxis": {
             "endlinecolor": "#2a3f5f",
             "gridcolor": "white",
             "linecolor": "white",
             "minorgridcolor": "white",
             "startlinecolor": "#2a3f5f"
            },
            "type": "carpet"
           }
          ],
          "choropleth": [
           {
            "colorbar": {
             "outlinewidth": 0,
             "ticks": ""
            },
            "type": "choropleth"
           }
          ],
          "contour": [
           {
            "colorbar": {
             "outlinewidth": 0,
             "ticks": ""
            },
            "colorscale": [
             [
              0,
              "#0d0887"
             ],
             [
              0.1111111111111111,
              "#46039f"
             ],
             [
              0.2222222222222222,
              "#7201a8"
             ],
             [
              0.3333333333333333,
              "#9c179e"
             ],
             [
              0.4444444444444444,
              "#bd3786"
             ],
             [
              0.5555555555555556,
              "#d8576b"
             ],
             [
              0.6666666666666666,
              "#ed7953"
             ],
             [
              0.7777777777777778,
              "#fb9f3a"
             ],
             [
              0.8888888888888888,
              "#fdca26"
             ],
             [
              1,
              "#f0f921"
             ]
            ],
            "type": "contour"
           }
          ],
          "contourcarpet": [
           {
            "colorbar": {
             "outlinewidth": 0,
             "ticks": ""
            },
            "type": "contourcarpet"
           }
          ],
          "heatmap": [
           {
            "colorbar": {
             "outlinewidth": 0,
             "ticks": ""
            },
            "colorscale": [
             [
              0,
              "#0d0887"
             ],
             [
              0.1111111111111111,
              "#46039f"
             ],
             [
              0.2222222222222222,
              "#7201a8"
             ],
             [
              0.3333333333333333,
              "#9c179e"
             ],
             [
              0.4444444444444444,
              "#bd3786"
             ],
             [
              0.5555555555555556,
              "#d8576b"
             ],
             [
              0.6666666666666666,
              "#ed7953"
             ],
             [
              0.7777777777777778,
              "#fb9f3a"
             ],
             [
              0.8888888888888888,
              "#fdca26"
             ],
             [
              1,
              "#f0f921"
             ]
            ],
            "type": "heatmap"
           }
          ],
          "histogram": [
           {
            "marker": {
             "pattern": {
              "fillmode": "overlay",
              "size": 10,
              "solidity": 0.2
             }
            },
            "type": "histogram"
           }
          ],
          "histogram2d": [
           {
            "colorbar": {
             "outlinewidth": 0,
             "ticks": ""
            },
            "colorscale": [
             [
              0,
              "#0d0887"
             ],
             [
              0.1111111111111111,
              "#46039f"
             ],
             [
              0.2222222222222222,
              "#7201a8"
             ],
             [
              0.3333333333333333,
              "#9c179e"
             ],
             [
              0.4444444444444444,
              "#bd3786"
             ],
             [
              0.5555555555555556,
              "#d8576b"
             ],
             [
              0.6666666666666666,
              "#ed7953"
             ],
             [
              0.7777777777777778,
              "#fb9f3a"
             ],
             [
              0.8888888888888888,
              "#fdca26"
             ],
             [
              1,
              "#f0f921"
             ]
            ],
            "type": "histogram2d"
           }
          ],
          "histogram2dcontour": [
           {
            "colorbar": {
             "outlinewidth": 0,
             "ticks": ""
            },
            "colorscale": [
             [
              0,
              "#0d0887"
             ],
             [
              0.1111111111111111,
              "#46039f"
             ],
             [
              0.2222222222222222,
              "#7201a8"
             ],
             [
              0.3333333333333333,
              "#9c179e"
             ],
             [
              0.4444444444444444,
              "#bd3786"
             ],
             [
              0.5555555555555556,
              "#d8576b"
             ],
             [
              0.6666666666666666,
              "#ed7953"
             ],
             [
              0.7777777777777778,
              "#fb9f3a"
             ],
             [
              0.8888888888888888,
              "#fdca26"
             ],
             [
              1,
              "#f0f921"
             ]
            ],
            "type": "histogram2dcontour"
           }
          ],
          "mesh3d": [
           {
            "colorbar": {
             "outlinewidth": 0,
             "ticks": ""
            },
            "type": "mesh3d"
           }
          ],
          "parcoords": [
           {
            "line": {
             "colorbar": {
              "outlinewidth": 0,
              "ticks": ""
             }
            },
            "type": "parcoords"
           }
          ],
          "pie": [
           {
            "automargin": true,
            "type": "pie"
           }
          ],
          "scatter": [
           {
            "fillpattern": {
             "fillmode": "overlay",
             "size": 10,
             "solidity": 0.2
            },
            "type": "scatter"
           }
          ],
          "scatter3d": [
           {
            "line": {
             "colorbar": {
              "outlinewidth": 0,
              "ticks": ""
             }
            },
            "marker": {
             "colorbar": {
              "outlinewidth": 0,
              "ticks": ""
             }
            },
            "type": "scatter3d"
           }
          ],
          "scattercarpet": [
           {
            "marker": {
             "colorbar": {
              "outlinewidth": 0,
              "ticks": ""
             }
            },
            "type": "scattercarpet"
           }
          ],
          "scattergeo": [
           {
            "marker": {
             "colorbar": {
              "outlinewidth": 0,
              "ticks": ""
             }
            },
            "type": "scattergeo"
           }
          ],
          "scattergl": [
           {
            "marker": {
             "colorbar": {
              "outlinewidth": 0,
              "ticks": ""
             }
            },
            "type": "scattergl"
           }
          ],
          "scattermap": [
           {
            "marker": {
             "colorbar": {
              "outlinewidth": 0,
              "ticks": ""
             }
            },
            "type": "scattermap"
           }
          ],
          "scattermapbox": [
           {
            "marker": {
             "colorbar": {
              "outlinewidth": 0,
              "ticks": ""
             }
            },
            "type": "scattermapbox"
           }
          ],
          "scatterpolar": [
           {
            "marker": {
             "colorbar": {
              "outlinewidth": 0,
              "ticks": ""
             }
            },
            "type": "scatterpolar"
           }
          ],
          "scatterpolargl": [
           {
            "marker": {
             "colorbar": {
              "outlinewidth": 0,
              "ticks": ""
             }
            },
            "type": "scatterpolargl"
           }
          ],
          "scatterternary": [
           {
            "marker": {
             "colorbar": {
              "outlinewidth": 0,
              "ticks": ""
             }
            },
            "type": "scatterternary"
           }
          ],
          "surface": [
           {
            "colorbar": {
             "outlinewidth": 0,
             "ticks": ""
            },
            "colorscale": [
             [
              0,
              "#0d0887"
             ],
             [
              0.1111111111111111,
              "#46039f"
             ],
             [
              0.2222222222222222,
              "#7201a8"
             ],
             [
              0.3333333333333333,
              "#9c179e"
             ],
             [
              0.4444444444444444,
              "#bd3786"
             ],
             [
              0.5555555555555556,
              "#d8576b"
             ],
             [
              0.6666666666666666,
              "#ed7953"
             ],
             [
              0.7777777777777778,
              "#fb9f3a"
             ],
             [
              0.8888888888888888,
              "#fdca26"
             ],
             [
              1,
              "#f0f921"
             ]
            ],
            "type": "surface"
           }
          ],
          "table": [
           {
            "cells": {
             "fill": {
              "color": "#EBF0F8"
             },
             "line": {
              "color": "white"
             }
            },
            "header": {
             "fill": {
              "color": "#C8D4E3"
             },
             "line": {
              "color": "white"
             }
            },
            "type": "table"
           }
          ]
         },
         "layout": {
          "annotationdefaults": {
           "arrowcolor": "#2a3f5f",
           "arrowhead": 0,
           "arrowwidth": 1
          },
          "autotypenumbers": "strict",
          "coloraxis": {
           "colorbar": {
            "outlinewidth": 0,
            "ticks": ""
           }
          },
          "colorscale": {
           "diverging": [
            [
             0,
             "#8e0152"
            ],
            [
             0.1,
             "#c51b7d"
            ],
            [
             0.2,
             "#de77ae"
            ],
            [
             0.3,
             "#f1b6da"
            ],
            [
             0.4,
             "#fde0ef"
            ],
            [
             0.5,
             "#f7f7f7"
            ],
            [
             0.6,
             "#e6f5d0"
            ],
            [
             0.7,
             "#b8e186"
            ],
            [
             0.8,
             "#7fbc41"
            ],
            [
             0.9,
             "#4d9221"
            ],
            [
             1,
             "#276419"
            ]
           ],
           "sequential": [
            [
             0,
             "#0d0887"
            ],
            [
             0.1111111111111111,
             "#46039f"
            ],
            [
             0.2222222222222222,
             "#7201a8"
            ],
            [
             0.3333333333333333,
             "#9c179e"
            ],
            [
             0.4444444444444444,
             "#bd3786"
            ],
            [
             0.5555555555555556,
             "#d8576b"
            ],
            [
             0.6666666666666666,
             "#ed7953"
            ],
            [
             0.7777777777777778,
             "#fb9f3a"
            ],
            [
             0.8888888888888888,
             "#fdca26"
            ],
            [
             1,
             "#f0f921"
            ]
           ],
           "sequentialminus": [
            [
             0,
             "#0d0887"
            ],
            [
             0.1111111111111111,
             "#46039f"
            ],
            [
             0.2222222222222222,
             "#7201a8"
            ],
            [
             0.3333333333333333,
             "#9c179e"
            ],
            [
             0.4444444444444444,
             "#bd3786"
            ],
            [
             0.5555555555555556,
             "#d8576b"
            ],
            [
             0.6666666666666666,
             "#ed7953"
            ],
            [
             0.7777777777777778,
             "#fb9f3a"
            ],
            [
             0.8888888888888888,
             "#fdca26"
            ],
            [
             1,
             "#f0f921"
            ]
           ]
          },
          "colorway": [
           "#636efa",
           "#EF553B",
           "#00cc96",
           "#ab63fa",
           "#FFA15A",
           "#19d3f3",
           "#FF6692",
           "#B6E880",
           "#FF97FF",
           "#FECB52"
          ],
          "font": {
           "color": "#2a3f5f"
          },
          "geo": {
           "bgcolor": "white",
           "lakecolor": "white",
           "landcolor": "#E5ECF6",
           "showlakes": true,
           "showland": true,
           "subunitcolor": "white"
          },
          "hoverlabel": {
           "align": "left"
          },
          "hovermode": "closest",
          "mapbox": {
           "style": "light"
          },
          "paper_bgcolor": "white",
          "plot_bgcolor": "#E5ECF6",
          "polar": {
           "angularaxis": {
            "gridcolor": "white",
            "linecolor": "white",
            "ticks": ""
           },
           "bgcolor": "#E5ECF6",
           "radialaxis": {
            "gridcolor": "white",
            "linecolor": "white",
            "ticks": ""
           }
          },
          "scene": {
           "xaxis": {
            "backgroundcolor": "#E5ECF6",
            "gridcolor": "white",
            "gridwidth": 2,
            "linecolor": "white",
            "showbackground": true,
            "ticks": "",
            "zerolinecolor": "white"
           },
           "yaxis": {
            "backgroundcolor": "#E5ECF6",
            "gridcolor": "white",
            "gridwidth": 2,
            "linecolor": "white",
            "showbackground": true,
            "ticks": "",
            "zerolinecolor": "white"
           },
           "zaxis": {
            "backgroundcolor": "#E5ECF6",
            "gridcolor": "white",
            "gridwidth": 2,
            "linecolor": "white",
            "showbackground": true,
            "ticks": "",
            "zerolinecolor": "white"
           }
          },
          "shapedefaults": {
           "line": {
            "color": "#2a3f5f"
           }
          },
          "ternary": {
           "aaxis": {
            "gridcolor": "white",
            "linecolor": "white",
            "ticks": ""
           },
           "baxis": {
            "gridcolor": "white",
            "linecolor": "white",
            "ticks": ""
           },
           "bgcolor": "#E5ECF6",
           "caxis": {
            "gridcolor": "white",
            "linecolor": "white",
            "ticks": ""
           }
          },
          "title": {
           "x": 0.05
          },
          "xaxis": {
           "automargin": true,
           "gridcolor": "white",
           "linecolor": "white",
           "ticks": "",
           "title": {
            "standoff": 15
           },
           "zerolinecolor": "white",
           "zerolinewidth": 2
          },
          "yaxis": {
           "automargin": true,
           "gridcolor": "white",
           "linecolor": "white",
           "ticks": "",
           "title": {
            "standoff": 15
           },
           "zerolinecolor": "white",
           "zerolinewidth": 2
          }
         }
        },
        "title": {
         "text": "Optimization History Plot"
        },
        "xaxis": {
         "title": {
          "text": "Trial"
         }
        },
        "yaxis": {
         "title": {
          "text": "Objective Value"
         }
        }
       }
      }
     },
     "metadata": {},
     "output_type": "display_data"
    },
    {
     "data": {
      "application/vnd.plotly.v1+json": {
       "config": {
        "plotlyServerURL": "https://plot.ly"
       },
       "data": [
        {
         "cliponaxis": false,
         "hovertemplate": [
          "weight_decay (FloatDistribution): 0.02424955696158894<extra></extra>",
          "drop (FloatDistribution): 0.03560891821737067<extra></extra>",
          "batch_size (CategoricalDistribution): 0.07525403337870246<extra></extra>",
          "num_epochs (IntDistribution): 0.14426360542309333<extra></extra>",
          "learning_rate (FloatDistribution): 0.7206238860192447<extra></extra>"
         ],
         "name": "Objective Value",
         "orientation": "h",
         "text": [
          "0.02",
          "0.04",
          "0.08",
          "0.14",
          "0.72"
         ],
         "textposition": "outside",
         "type": "bar",
         "x": [
          0.02424955696158894,
          0.03560891821737067,
          0.07525403337870246,
          0.14426360542309333,
          0.7206238860192447
         ],
         "y": [
          "weight_decay",
          "drop",
          "batch_size",
          "num_epochs",
          "learning_rate"
         ]
        }
       ],
       "layout": {
        "template": {
         "data": {
          "bar": [
           {
            "error_x": {
             "color": "#2a3f5f"
            },
            "error_y": {
             "color": "#2a3f5f"
            },
            "marker": {
             "line": {
              "color": "#E5ECF6",
              "width": 0.5
             },
             "pattern": {
              "fillmode": "overlay",
              "size": 10,
              "solidity": 0.2
             }
            },
            "type": "bar"
           }
          ],
          "barpolar": [
           {
            "marker": {
             "line": {
              "color": "#E5ECF6",
              "width": 0.5
             },
             "pattern": {
              "fillmode": "overlay",
              "size": 10,
              "solidity": 0.2
             }
            },
            "type": "barpolar"
           }
          ],
          "carpet": [
           {
            "aaxis": {
             "endlinecolor": "#2a3f5f",
             "gridcolor": "white",
             "linecolor": "white",
             "minorgridcolor": "white",
             "startlinecolor": "#2a3f5f"
            },
            "baxis": {
             "endlinecolor": "#2a3f5f",
             "gridcolor": "white",
             "linecolor": "white",
             "minorgridcolor": "white",
             "startlinecolor": "#2a3f5f"
            },
            "type": "carpet"
           }
          ],
          "choropleth": [
           {
            "colorbar": {
             "outlinewidth": 0,
             "ticks": ""
            },
            "type": "choropleth"
           }
          ],
          "contour": [
           {
            "colorbar": {
             "outlinewidth": 0,
             "ticks": ""
            },
            "colorscale": [
             [
              0,
              "#0d0887"
             ],
             [
              0.1111111111111111,
              "#46039f"
             ],
             [
              0.2222222222222222,
              "#7201a8"
             ],
             [
              0.3333333333333333,
              "#9c179e"
             ],
             [
              0.4444444444444444,
              "#bd3786"
             ],
             [
              0.5555555555555556,
              "#d8576b"
             ],
             [
              0.6666666666666666,
              "#ed7953"
             ],
             [
              0.7777777777777778,
              "#fb9f3a"
             ],
             [
              0.8888888888888888,
              "#fdca26"
             ],
             [
              1,
              "#f0f921"
             ]
            ],
            "type": "contour"
           }
          ],
          "contourcarpet": [
           {
            "colorbar": {
             "outlinewidth": 0,
             "ticks": ""
            },
            "type": "contourcarpet"
           }
          ],
          "heatmap": [
           {
            "colorbar": {
             "outlinewidth": 0,
             "ticks": ""
            },
            "colorscale": [
             [
              0,
              "#0d0887"
             ],
             [
              0.1111111111111111,
              "#46039f"
             ],
             [
              0.2222222222222222,
              "#7201a8"
             ],
             [
              0.3333333333333333,
              "#9c179e"
             ],
             [
              0.4444444444444444,
              "#bd3786"
             ],
             [
              0.5555555555555556,
              "#d8576b"
             ],
             [
              0.6666666666666666,
              "#ed7953"
             ],
             [
              0.7777777777777778,
              "#fb9f3a"
             ],
             [
              0.8888888888888888,
              "#fdca26"
             ],
             [
              1,
              "#f0f921"
             ]
            ],
            "type": "heatmap"
           }
          ],
          "histogram": [
           {
            "marker": {
             "pattern": {
              "fillmode": "overlay",
              "size": 10,
              "solidity": 0.2
             }
            },
            "type": "histogram"
           }
          ],
          "histogram2d": [
           {
            "colorbar": {
             "outlinewidth": 0,
             "ticks": ""
            },
            "colorscale": [
             [
              0,
              "#0d0887"
             ],
             [
              0.1111111111111111,
              "#46039f"
             ],
             [
              0.2222222222222222,
              "#7201a8"
             ],
             [
              0.3333333333333333,
              "#9c179e"
             ],
             [
              0.4444444444444444,
              "#bd3786"
             ],
             [
              0.5555555555555556,
              "#d8576b"
             ],
             [
              0.6666666666666666,
              "#ed7953"
             ],
             [
              0.7777777777777778,
              "#fb9f3a"
             ],
             [
              0.8888888888888888,
              "#fdca26"
             ],
             [
              1,
              "#f0f921"
             ]
            ],
            "type": "histogram2d"
           }
          ],
          "histogram2dcontour": [
           {
            "colorbar": {
             "outlinewidth": 0,
             "ticks": ""
            },
            "colorscale": [
             [
              0,
              "#0d0887"
             ],
             [
              0.1111111111111111,
              "#46039f"
             ],
             [
              0.2222222222222222,
              "#7201a8"
             ],
             [
              0.3333333333333333,
              "#9c179e"
             ],
             [
              0.4444444444444444,
              "#bd3786"
             ],
             [
              0.5555555555555556,
              "#d8576b"
             ],
             [
              0.6666666666666666,
              "#ed7953"
             ],
             [
              0.7777777777777778,
              "#fb9f3a"
             ],
             [
              0.8888888888888888,
              "#fdca26"
             ],
             [
              1,
              "#f0f921"
             ]
            ],
            "type": "histogram2dcontour"
           }
          ],
          "mesh3d": [
           {
            "colorbar": {
             "outlinewidth": 0,
             "ticks": ""
            },
            "type": "mesh3d"
           }
          ],
          "parcoords": [
           {
            "line": {
             "colorbar": {
              "outlinewidth": 0,
              "ticks": ""
             }
            },
            "type": "parcoords"
           }
          ],
          "pie": [
           {
            "automargin": true,
            "type": "pie"
           }
          ],
          "scatter": [
           {
            "fillpattern": {
             "fillmode": "overlay",
             "size": 10,
             "solidity": 0.2
            },
            "type": "scatter"
           }
          ],
          "scatter3d": [
           {
            "line": {
             "colorbar": {
              "outlinewidth": 0,
              "ticks": ""
             }
            },
            "marker": {
             "colorbar": {
              "outlinewidth": 0,
              "ticks": ""
             }
            },
            "type": "scatter3d"
           }
          ],
          "scattercarpet": [
           {
            "marker": {
             "colorbar": {
              "outlinewidth": 0,
              "ticks": ""
             }
            },
            "type": "scattercarpet"
           }
          ],
          "scattergeo": [
           {
            "marker": {
             "colorbar": {
              "outlinewidth": 0,
              "ticks": ""
             }
            },
            "type": "scattergeo"
           }
          ],
          "scattergl": [
           {
            "marker": {
             "colorbar": {
              "outlinewidth": 0,
              "ticks": ""
             }
            },
            "type": "scattergl"
           }
          ],
          "scattermap": [
           {
            "marker": {
             "colorbar": {
              "outlinewidth": 0,
              "ticks": ""
             }
            },
            "type": "scattermap"
           }
          ],
          "scattermapbox": [
           {
            "marker": {
             "colorbar": {
              "outlinewidth": 0,
              "ticks": ""
             }
            },
            "type": "scattermapbox"
           }
          ],
          "scatterpolar": [
           {
            "marker": {
             "colorbar": {
              "outlinewidth": 0,
              "ticks": ""
             }
            },
            "type": "scatterpolar"
           }
          ],
          "scatterpolargl": [
           {
            "marker": {
             "colorbar": {
              "outlinewidth": 0,
              "ticks": ""
             }
            },
            "type": "scatterpolargl"
           }
          ],
          "scatterternary": [
           {
            "marker": {
             "colorbar": {
              "outlinewidth": 0,
              "ticks": ""
             }
            },
            "type": "scatterternary"
           }
          ],
          "surface": [
           {
            "colorbar": {
             "outlinewidth": 0,
             "ticks": ""
            },
            "colorscale": [
             [
              0,
              "#0d0887"
             ],
             [
              0.1111111111111111,
              "#46039f"
             ],
             [
              0.2222222222222222,
              "#7201a8"
             ],
             [
              0.3333333333333333,
              "#9c179e"
             ],
             [
              0.4444444444444444,
              "#bd3786"
             ],
             [
              0.5555555555555556,
              "#d8576b"
             ],
             [
              0.6666666666666666,
              "#ed7953"
             ],
             [
              0.7777777777777778,
              "#fb9f3a"
             ],
             [
              0.8888888888888888,
              "#fdca26"
             ],
             [
              1,
              "#f0f921"
             ]
            ],
            "type": "surface"
           }
          ],
          "table": [
           {
            "cells": {
             "fill": {
              "color": "#EBF0F8"
             },
             "line": {
              "color": "white"
             }
            },
            "header": {
             "fill": {
              "color": "#C8D4E3"
             },
             "line": {
              "color": "white"
             }
            },
            "type": "table"
           }
          ]
         },
         "layout": {
          "annotationdefaults": {
           "arrowcolor": "#2a3f5f",
           "arrowhead": 0,
           "arrowwidth": 1
          },
          "autotypenumbers": "strict",
          "coloraxis": {
           "colorbar": {
            "outlinewidth": 0,
            "ticks": ""
           }
          },
          "colorscale": {
           "diverging": [
            [
             0,
             "#8e0152"
            ],
            [
             0.1,
             "#c51b7d"
            ],
            [
             0.2,
             "#de77ae"
            ],
            [
             0.3,
             "#f1b6da"
            ],
            [
             0.4,
             "#fde0ef"
            ],
            [
             0.5,
             "#f7f7f7"
            ],
            [
             0.6,
             "#e6f5d0"
            ],
            [
             0.7,
             "#b8e186"
            ],
            [
             0.8,
             "#7fbc41"
            ],
            [
             0.9,
             "#4d9221"
            ],
            [
             1,
             "#276419"
            ]
           ],
           "sequential": [
            [
             0,
             "#0d0887"
            ],
            [
             0.1111111111111111,
             "#46039f"
            ],
            [
             0.2222222222222222,
             "#7201a8"
            ],
            [
             0.3333333333333333,
             "#9c179e"
            ],
            [
             0.4444444444444444,
             "#bd3786"
            ],
            [
             0.5555555555555556,
             "#d8576b"
            ],
            [
             0.6666666666666666,
             "#ed7953"
            ],
            [
             0.7777777777777778,
             "#fb9f3a"
            ],
            [
             0.8888888888888888,
             "#fdca26"
            ],
            [
             1,
             "#f0f921"
            ]
           ],
           "sequentialminus": [
            [
             0,
             "#0d0887"
            ],
            [
             0.1111111111111111,
             "#46039f"
            ],
            [
             0.2222222222222222,
             "#7201a8"
            ],
            [
             0.3333333333333333,
             "#9c179e"
            ],
            [
             0.4444444444444444,
             "#bd3786"
            ],
            [
             0.5555555555555556,
             "#d8576b"
            ],
            [
             0.6666666666666666,
             "#ed7953"
            ],
            [
             0.7777777777777778,
             "#fb9f3a"
            ],
            [
             0.8888888888888888,
             "#fdca26"
            ],
            [
             1,
             "#f0f921"
            ]
           ]
          },
          "colorway": [
           "#636efa",
           "#EF553B",
           "#00cc96",
           "#ab63fa",
           "#FFA15A",
           "#19d3f3",
           "#FF6692",
           "#B6E880",
           "#FF97FF",
           "#FECB52"
          ],
          "font": {
           "color": "#2a3f5f"
          },
          "geo": {
           "bgcolor": "white",
           "lakecolor": "white",
           "landcolor": "#E5ECF6",
           "showlakes": true,
           "showland": true,
           "subunitcolor": "white"
          },
          "hoverlabel": {
           "align": "left"
          },
          "hovermode": "closest",
          "mapbox": {
           "style": "light"
          },
          "paper_bgcolor": "white",
          "plot_bgcolor": "#E5ECF6",
          "polar": {
           "angularaxis": {
            "gridcolor": "white",
            "linecolor": "white",
            "ticks": ""
           },
           "bgcolor": "#E5ECF6",
           "radialaxis": {
            "gridcolor": "white",
            "linecolor": "white",
            "ticks": ""
           }
          },
          "scene": {
           "xaxis": {
            "backgroundcolor": "#E5ECF6",
            "gridcolor": "white",
            "gridwidth": 2,
            "linecolor": "white",
            "showbackground": true,
            "ticks": "",
            "zerolinecolor": "white"
           },
           "yaxis": {
            "backgroundcolor": "#E5ECF6",
            "gridcolor": "white",
            "gridwidth": 2,
            "linecolor": "white",
            "showbackground": true,
            "ticks": "",
            "zerolinecolor": "white"
           },
           "zaxis": {
            "backgroundcolor": "#E5ECF6",
            "gridcolor": "white",
            "gridwidth": 2,
            "linecolor": "white",
            "showbackground": true,
            "ticks": "",
            "zerolinecolor": "white"
           }
          },
          "shapedefaults": {
           "line": {
            "color": "#2a3f5f"
           }
          },
          "ternary": {
           "aaxis": {
            "gridcolor": "white",
            "linecolor": "white",
            "ticks": ""
           },
           "baxis": {
            "gridcolor": "white",
            "linecolor": "white",
            "ticks": ""
           },
           "bgcolor": "#E5ECF6",
           "caxis": {
            "gridcolor": "white",
            "linecolor": "white",
            "ticks": ""
           }
          },
          "title": {
           "x": 0.05
          },
          "xaxis": {
           "automargin": true,
           "gridcolor": "white",
           "linecolor": "white",
           "ticks": "",
           "title": {
            "standoff": 15
           },
           "zerolinecolor": "white",
           "zerolinewidth": 2
          },
          "yaxis": {
           "automargin": true,
           "gridcolor": "white",
           "linecolor": "white",
           "ticks": "",
           "title": {
            "standoff": 15
           },
           "zerolinecolor": "white",
           "zerolinewidth": 2
          }
         }
        },
        "title": {
         "text": "Hyperparameter Importances"
        },
        "xaxis": {
         "title": {
          "text": "Hyperparameter Importance"
         }
        },
        "yaxis": {
         "title": {
          "text": "Hyperparameter"
         }
        }
       }
      }
     },
     "metadata": {},
     "output_type": "display_data"
    }
   ],
   "source": [
    "study = optuna.create_study(study_name=\"Finest_FGVCAircraft_Variant\", direction='maximize')#, pruner=optuna.pruners.MedianPruner())\n",
    "study.optimize(objective, n_trials=30, show_progress_bar=True)\n",
    "\n",
    "print(\"Best trial:\")\n",
    "trial = study.best_trial\n",
    "print(f\"  Accuracy: {trial.value}\")\n",
    "print(\"  Params:\")\n",
    "for key, value in trial.params.items():\n",
    "    print(f\"    {key}: {value}\")\n",
    "\n",
    "# Visualize optimization results\n",
    "optuna.visualization.plot_optimization_history(study).show()\n",
    "optuna.visualization.plot_param_importances(study).show()"
   ]
  },
  {
   "cell_type": "code",
   "execution_count": null,
   "id": "25eb3680",
   "metadata": {},
   "outputs": [],
   "source": []
  },
  {
   "cell_type": "code",
   "execution_count": 8,
   "id": "49353bb8",
   "metadata": {},
   "outputs": [],
   "source": [
    "train_loader, val_loader, test_loader, num_classes, class_names = get_loaders(224,16,'variant')"
   ]
  },
  {
   "cell_type": "code",
   "execution_count": 9,
   "id": "6890f5a2-daa8-4ec4-96c3-0c514dedbefa",
   "metadata": {},
   "outputs": [],
   "source": [
    "# Check if GPU is available\n",
    "device = torch.device(\"cuda\" if torch.cuda.is_available() else \"cpu\")\n",
    "\n",
    "# Initialize the model, loss function, and optimizer\n",
    "#num_classes = len(train_dataset.label_map)\n",
    "#model = HWCNN(num_classes).to(device)\n",
    "#criterion = nn.CrossEntropyLoss()\n",
    "#optimizer = optim.Adam(model.parameters(), lr=0.001)\n",
    "#scheduler = optim.lr_scheduler.ReduceLROnPlateau(optimizer, mode='min', factor=0.5, patience=3)\n",
    "scaler = GradScaler('cuda')\n",
    "\n",
    "model = SEEffNet(num_classes, drop = 0.085722).to(device)\n",
    "\n",
    "#criterion = SoftTargetCrossEntropy() # or nn.BCEWithLogitsLoss()\n",
    "criterion = nn.CrossEntropyLoss()#label_smoothing = 0.1)\n",
    "#optimizer = optim.AdamW(model.parameters(), lr=0.001)\n",
    "optimizer = optim.AdamW(model.parameters(), lr=0.000085, weight_decay = 0.000009)#70\n",
    "#optimizer = optim.AdamW(model.parameters(), lr=0.000238, weight_decay = 0.00052)#30\n",
    "#optimizer = optim.AdamW(model.parameters(), lr=2e-5, weight_decay=0.01)\n",
    "#optimizer = optim.SGD(cnn.parameters(), lr = 0.001, momentum = 0.9, weight_decay = 0.001)\n",
    "#optimizer = optim.SGD(filter(lambda p: p.requires_grad, res50.parameters()), lr = 0.001, momentum = 0.9, weight_decay = 0.001)\n",
    "scheduler = optim.lr_scheduler.ReduceLROnPlateau(optimizer, mode='min', factor=0.5, patience=3)"
   ]
  },
  {
   "cell_type": "code",
   "execution_count": 10,
   "id": "c5eed3dc",
   "metadata": {},
   "outputs": [],
   "source": [
    "# Training loop with early stopping and adaptive learning rate\n",
    "patience = 10\n",
    "best_val_loss = float('inf')\n",
    "epochs_without_improvement = 0\n",
    "num_epochs = 80\n"
   ]
  },
  {
   "cell_type": "code",
   "execution_count": 11,
   "id": "f58aa0bd-85ed-4028-8bc3-8c161fabd4a9",
   "metadata": {},
   "outputs": [
    {
     "data": {
      "application/vnd.jupyter.widget-view+json": {
       "model_id": "5bc87b6e7a7846258edc50d598805d67",
       "version_major": 2,
       "version_minor": 0
      },
      "text/plain": [
       "Training:   0%|          | 0/209 [00:00<?, ?it/s]"
      ]
     },
     "metadata": {},
     "output_type": "display_data"
    },
    {
     "data": {
      "application/vnd.jupyter.widget-view+json": {
       "model_id": "8b28aff5991e4af8981a1ac2f3230bf9",
       "version_major": 2,
       "version_minor": 0
      },
      "text/plain": [
       "Evaluation:   0%|          | 0/209 [00:00<?, ?it/s]"
      ]
     },
     "metadata": {},
     "output_type": "display_data"
    },
    {
     "name": "stdout",
     "output_type": "stream",
     "text": [
      "Epoch 1/80\n",
      "Train Loss: 4.5731, Train Acc: 0.0276\n",
      "Val Loss: 4.5170, Val Acc: 0.0525\n",
      "✅ Model improved. Saving...\n"
     ]
    },
    {
     "data": {
      "application/vnd.jupyter.widget-view+json": {
       "model_id": "6a4ea50a0424454a9ff3c5210ddd835e",
       "version_major": 2,
       "version_minor": 0
      },
      "text/plain": [
       "Training:   0%|          | 0/209 [00:00<?, ?it/s]"
      ]
     },
     "metadata": {},
     "output_type": "display_data"
    },
    {
     "data": {
      "application/vnd.jupyter.widget-view+json": {
       "model_id": "29cb479192d54562bdabe7309908d96b",
       "version_major": 2,
       "version_minor": 0
      },
      "text/plain": [
       "Evaluation:   0%|          | 0/209 [00:00<?, ?it/s]"
      ]
     },
     "metadata": {},
     "output_type": "display_data"
    },
    {
     "name": "stdout",
     "output_type": "stream",
     "text": [
      "Epoch 2/80\n",
      "Train Loss: 4.2789, Train Acc: 0.0939\n",
      "Val Loss: 4.1987, Val Acc: 0.0792\n",
      "✅ Model improved. Saving...\n"
     ]
    },
    {
     "data": {
      "application/vnd.jupyter.widget-view+json": {
       "model_id": "96df840067564b65b704a3175b7edbe5",
       "version_major": 2,
       "version_minor": 0
      },
      "text/plain": [
       "Training:   0%|          | 0/209 [00:00<?, ?it/s]"
      ]
     },
     "metadata": {},
     "output_type": "display_data"
    },
    {
     "data": {
      "application/vnd.jupyter.widget-view+json": {
       "model_id": "e15a19c76edf4bbab188bd6b5767e4d0",
       "version_major": 2,
       "version_minor": 0
      },
      "text/plain": [
       "Evaluation:   0%|          | 0/209 [00:00<?, ?it/s]"
      ]
     },
     "metadata": {},
     "output_type": "display_data"
    },
    {
     "name": "stdout",
     "output_type": "stream",
     "text": [
      "Epoch 3/80\n",
      "Train Loss: 3.8359, Train Acc: 0.1452\n",
      "Val Loss: 4.0176, Val Acc: 0.0987\n",
      "✅ Model improved. Saving...\n"
     ]
    },
    {
     "data": {
      "application/vnd.jupyter.widget-view+json": {
       "model_id": "2d7052ce8b574a37a565fea6aea18884",
       "version_major": 2,
       "version_minor": 0
      },
      "text/plain": [
       "Training:   0%|          | 0/209 [00:00<?, ?it/s]"
      ]
     },
     "metadata": {},
     "output_type": "display_data"
    },
    {
     "data": {
      "application/vnd.jupyter.widget-view+json": {
       "model_id": "243b181fb5cc4fd8a23fe367e43dc2d7",
       "version_major": 2,
       "version_minor": 0
      },
      "text/plain": [
       "Evaluation:   0%|          | 0/209 [00:00<?, ?it/s]"
      ]
     },
     "metadata": {},
     "output_type": "display_data"
    },
    {
     "name": "stdout",
     "output_type": "stream",
     "text": [
      "Epoch 4/80\n",
      "Train Loss: 3.4322, Train Acc: 0.2001\n",
      "Val Loss: 3.8103, Val Acc: 0.1257\n",
      "✅ Model improved. Saving...\n"
     ]
    },
    {
     "data": {
      "application/vnd.jupyter.widget-view+json": {
       "model_id": "290ff1b22d8f4f21b511e79d4f52758d",
       "version_major": 2,
       "version_minor": 0
      },
      "text/plain": [
       "Training:   0%|          | 0/209 [00:00<?, ?it/s]"
      ]
     },
     "metadata": {},
     "output_type": "display_data"
    },
    {
     "data": {
      "application/vnd.jupyter.widget-view+json": {
       "model_id": "0a4db1be7b0e4b308eb75d54cb655bfc",
       "version_major": 2,
       "version_minor": 0
      },
      "text/plain": [
       "Evaluation:   0%|          | 0/209 [00:00<?, ?it/s]"
      ]
     },
     "metadata": {},
     "output_type": "display_data"
    },
    {
     "name": "stdout",
     "output_type": "stream",
     "text": [
      "Epoch 5/80\n",
      "Train Loss: 3.0818, Train Acc: 0.2549\n",
      "Val Loss: 3.7294, Val Acc: 0.1353\n",
      "✅ Model improved. Saving...\n"
     ]
    },
    {
     "data": {
      "application/vnd.jupyter.widget-view+json": {
       "model_id": "49c95efd20f141afb3f45b606c56200c",
       "version_major": 2,
       "version_minor": 0
      },
      "text/plain": [
       "Training:   0%|          | 0/209 [00:00<?, ?it/s]"
      ]
     },
     "metadata": {},
     "output_type": "display_data"
    },
    {
     "data": {
      "application/vnd.jupyter.widget-view+json": {
       "model_id": "e193836c69894511aab6dc1a44561804",
       "version_major": 2,
       "version_minor": 0
      },
      "text/plain": [
       "Evaluation:   0%|          | 0/209 [00:00<?, ?it/s]"
      ]
     },
     "metadata": {},
     "output_type": "display_data"
    },
    {
     "name": "stdout",
     "output_type": "stream",
     "text": [
      "Epoch 6/80\n",
      "Train Loss: 2.7747, Train Acc: 0.3095\n",
      "Val Loss: 3.5587, Val Acc: 0.1743\n",
      "✅ Model improved. Saving...\n"
     ]
    },
    {
     "data": {
      "application/vnd.jupyter.widget-view+json": {
       "model_id": "8cd91df125af4508b8407c92da13a941",
       "version_major": 2,
       "version_minor": 0
      },
      "text/plain": [
       "Training:   0%|          | 0/209 [00:00<?, ?it/s]"
      ]
     },
     "metadata": {},
     "output_type": "display_data"
    },
    {
     "data": {
      "application/vnd.jupyter.widget-view+json": {
       "model_id": "d706c0182f8b470991090dbdaaaf6158",
       "version_major": 2,
       "version_minor": 0
      },
      "text/plain": [
       "Evaluation:   0%|          | 0/209 [00:00<?, ?it/s]"
      ]
     },
     "metadata": {},
     "output_type": "display_data"
    },
    {
     "name": "stdout",
     "output_type": "stream",
     "text": [
      "Epoch 7/80\n",
      "Train Loss: 2.5446, Train Acc: 0.3431\n",
      "Val Loss: 3.4685, Val Acc: 0.1710\n",
      "✅ Model improved. Saving...\n"
     ]
    },
    {
     "data": {
      "application/vnd.jupyter.widget-view+json": {
       "model_id": "0103369960164859a0dcf8a4c485a408",
       "version_major": 2,
       "version_minor": 0
      },
      "text/plain": [
       "Training:   0%|          | 0/209 [00:00<?, ?it/s]"
      ]
     },
     "metadata": {},
     "output_type": "display_data"
    },
    {
     "data": {
      "application/vnd.jupyter.widget-view+json": {
       "model_id": "eab7e5d8811741719c8b19b413b2f28d",
       "version_major": 2,
       "version_minor": 0
      },
      "text/plain": [
       "Evaluation:   0%|          | 0/209 [00:00<?, ?it/s]"
      ]
     },
     "metadata": {},
     "output_type": "display_data"
    },
    {
     "name": "stdout",
     "output_type": "stream",
     "text": [
      "Epoch 8/80\n",
      "Train Loss: 2.3848, Train Acc: 0.3686\n",
      "Val Loss: 3.5313, Val Acc: 0.1701\n",
      "⚠️ No improvement for 1 epoch(s).\n"
     ]
    },
    {
     "data": {
      "application/vnd.jupyter.widget-view+json": {
       "model_id": "8b5380698f0248089f5a275321c37da5",
       "version_major": 2,
       "version_minor": 0
      },
      "text/plain": [
       "Training:   0%|          | 0/209 [00:00<?, ?it/s]"
      ]
     },
     "metadata": {},
     "output_type": "display_data"
    },
    {
     "data": {
      "application/vnd.jupyter.widget-view+json": {
       "model_id": "8b0d285c94a74a40b3b797c0b90049b6",
       "version_major": 2,
       "version_minor": 0
      },
      "text/plain": [
       "Evaluation:   0%|          | 0/209 [00:00<?, ?it/s]"
      ]
     },
     "metadata": {},
     "output_type": "display_data"
    },
    {
     "name": "stdout",
     "output_type": "stream",
     "text": [
      "Epoch 9/80\n",
      "Train Loss: 2.2089, Train Acc: 0.4139\n",
      "Val Loss: 3.4506, Val Acc: 0.1821\n",
      "✅ Model improved. Saving...\n"
     ]
    },
    {
     "data": {
      "application/vnd.jupyter.widget-view+json": {
       "model_id": "36e43e54a264428aa8584e86d14d787a",
       "version_major": 2,
       "version_minor": 0
      },
      "text/plain": [
       "Training:   0%|          | 0/209 [00:00<?, ?it/s]"
      ]
     },
     "metadata": {},
     "output_type": "display_data"
    },
    {
     "data": {
      "application/vnd.jupyter.widget-view+json": {
       "model_id": "dd1acd025e3049e48942274503a5641e",
       "version_major": 2,
       "version_minor": 0
      },
      "text/plain": [
       "Evaluation:   0%|          | 0/209 [00:00<?, ?it/s]"
      ]
     },
     "metadata": {},
     "output_type": "display_data"
    },
    {
     "name": "stdout",
     "output_type": "stream",
     "text": [
      "Epoch 10/80\n",
      "Train Loss: 2.0537, Train Acc: 0.4478\n",
      "Val Loss: 3.3499, Val Acc: 0.1854\n",
      "✅ Model improved. Saving...\n"
     ]
    },
    {
     "data": {
      "application/vnd.jupyter.widget-view+json": {
       "model_id": "de4e962979f64bd18c0f3cc9a8c364c5",
       "version_major": 2,
       "version_minor": 0
      },
      "text/plain": [
       "Training:   0%|          | 0/209 [00:00<?, ?it/s]"
      ]
     },
     "metadata": {},
     "output_type": "display_data"
    },
    {
     "data": {
      "application/vnd.jupyter.widget-view+json": {
       "model_id": "e65f4d35efe44b2987a6eb3dfef4c7a4",
       "version_major": 2,
       "version_minor": 0
      },
      "text/plain": [
       "Evaluation:   0%|          | 0/209 [00:00<?, ?it/s]"
      ]
     },
     "metadata": {},
     "output_type": "display_data"
    },
    {
     "name": "stdout",
     "output_type": "stream",
     "text": [
      "Epoch 11/80\n",
      "Train Loss: 1.9631, Train Acc: 0.4730\n",
      "Val Loss: 3.2813, Val Acc: 0.2103\n",
      "✅ Model improved. Saving...\n"
     ]
    },
    {
     "data": {
      "application/vnd.jupyter.widget-view+json": {
       "model_id": "d5d07cd2bb444a2fb9bcbb8d3745be93",
       "version_major": 2,
       "version_minor": 0
      },
      "text/plain": [
       "Training:   0%|          | 0/209 [00:00<?, ?it/s]"
      ]
     },
     "metadata": {},
     "output_type": "display_data"
    },
    {
     "data": {
      "application/vnd.jupyter.widget-view+json": {
       "model_id": "e2eeba0f9f094bb98bdd8f1a31d5f8d2",
       "version_major": 2,
       "version_minor": 0
      },
      "text/plain": [
       "Evaluation:   0%|          | 0/209 [00:00<?, ?it/s]"
      ]
     },
     "metadata": {},
     "output_type": "display_data"
    },
    {
     "name": "stdout",
     "output_type": "stream",
     "text": [
      "Epoch 12/80\n",
      "Train Loss: 1.8265, Train Acc: 0.5057\n",
      "Val Loss: 3.3886, Val Acc: 0.1914\n",
      "⚠️ No improvement for 1 epoch(s).\n"
     ]
    },
    {
     "data": {
      "application/vnd.jupyter.widget-view+json": {
       "model_id": "651bf2e277e040968074c4090833b498",
       "version_major": 2,
       "version_minor": 0
      },
      "text/plain": [
       "Training:   0%|          | 0/209 [00:00<?, ?it/s]"
      ]
     },
     "metadata": {},
     "output_type": "display_data"
    },
    {
     "data": {
      "application/vnd.jupyter.widget-view+json": {
       "model_id": "890af1fea6834deca6a5b14153ce52da",
       "version_major": 2,
       "version_minor": 0
      },
      "text/plain": [
       "Evaluation:   0%|          | 0/209 [00:00<?, ?it/s]"
      ]
     },
     "metadata": {},
     "output_type": "display_data"
    },
    {
     "name": "stdout",
     "output_type": "stream",
     "text": [
      "Epoch 13/80\n",
      "Train Loss: 1.7772, Train Acc: 0.5108\n",
      "Val Loss: 3.3050, Val Acc: 0.1926\n",
      "⚠️ No improvement for 2 epoch(s).\n"
     ]
    },
    {
     "data": {
      "application/vnd.jupyter.widget-view+json": {
       "model_id": "cc0f66d7cd0347e5a40ec7ed131f6cb6",
       "version_major": 2,
       "version_minor": 0
      },
      "text/plain": [
       "Training:   0%|          | 0/209 [00:00<?, ?it/s]"
      ]
     },
     "metadata": {},
     "output_type": "display_data"
    },
    {
     "data": {
      "application/vnd.jupyter.widget-view+json": {
       "model_id": "8f5898e93ad44333a5ff9e7ea77018e1",
       "version_major": 2,
       "version_minor": 0
      },
      "text/plain": [
       "Evaluation:   0%|          | 0/209 [00:00<?, ?it/s]"
      ]
     },
     "metadata": {},
     "output_type": "display_data"
    },
    {
     "name": "stdout",
     "output_type": "stream",
     "text": [
      "Epoch 14/80\n",
      "Train Loss: 1.6328, Train Acc: 0.5630\n",
      "Val Loss: 3.2930, Val Acc: 0.2046\n",
      "⚠️ No improvement for 3 epoch(s).\n"
     ]
    },
    {
     "data": {
      "application/vnd.jupyter.widget-view+json": {
       "model_id": "2939d8383aa845b4b11a23a2e5067c31",
       "version_major": 2,
       "version_minor": 0
      },
      "text/plain": [
       "Training:   0%|          | 0/209 [00:00<?, ?it/s]"
      ]
     },
     "metadata": {},
     "output_type": "display_data"
    },
    {
     "data": {
      "application/vnd.jupyter.widget-view+json": {
       "model_id": "39594c497f6b4e09adee4b1f4174eb12",
       "version_major": 2,
       "version_minor": 0
      },
      "text/plain": [
       "Evaluation:   0%|          | 0/209 [00:00<?, ?it/s]"
      ]
     },
     "metadata": {},
     "output_type": "display_data"
    },
    {
     "name": "stdout",
     "output_type": "stream",
     "text": [
      "Epoch 15/80\n",
      "Train Loss: 1.6196, Train Acc: 0.5567\n",
      "Val Loss: 3.3021, Val Acc: 0.2130\n",
      "⚠️ No improvement for 4 epoch(s).\n"
     ]
    },
    {
     "data": {
      "application/vnd.jupyter.widget-view+json": {
       "model_id": "a0e2e04178f64465994bfa8ba46398e6",
       "version_major": 2,
       "version_minor": 0
      },
      "text/plain": [
       "Training:   0%|          | 0/209 [00:00<?, ?it/s]"
      ]
     },
     "metadata": {},
     "output_type": "display_data"
    },
    {
     "data": {
      "application/vnd.jupyter.widget-view+json": {
       "model_id": "d6f83e1a35f34b0d8661da84364f6167",
       "version_major": 2,
       "version_minor": 0
      },
      "text/plain": [
       "Evaluation:   0%|          | 0/209 [00:00<?, ?it/s]"
      ]
     },
     "metadata": {},
     "output_type": "display_data"
    },
    {
     "name": "stdout",
     "output_type": "stream",
     "text": [
      "Epoch 16/80\n",
      "Train Loss: 1.5209, Train Acc: 0.5819\n",
      "Val Loss: 3.2002, Val Acc: 0.2280\n",
      "✅ Model improved. Saving...\n"
     ]
    },
    {
     "data": {
      "application/vnd.jupyter.widget-view+json": {
       "model_id": "21bd64680744449582f5978bb40c08ed",
       "version_major": 2,
       "version_minor": 0
      },
      "text/plain": [
       "Training:   0%|          | 0/209 [00:00<?, ?it/s]"
      ]
     },
     "metadata": {},
     "output_type": "display_data"
    },
    {
     "data": {
      "application/vnd.jupyter.widget-view+json": {
       "model_id": "fc6e6d65d6ab4a19b49613601c891811",
       "version_major": 2,
       "version_minor": 0
      },
      "text/plain": [
       "Evaluation:   0%|          | 0/209 [00:00<?, ?it/s]"
      ]
     },
     "metadata": {},
     "output_type": "display_data"
    },
    {
     "name": "stdout",
     "output_type": "stream",
     "text": [
      "Epoch 17/80\n",
      "Train Loss: 1.4606, Train Acc: 0.5990\n",
      "Val Loss: 3.2894, Val Acc: 0.2100\n",
      "⚠️ No improvement for 1 epoch(s).\n"
     ]
    },
    {
     "data": {
      "application/vnd.jupyter.widget-view+json": {
       "model_id": "e3fc9db7823a4cd296642f2d71f27a77",
       "version_major": 2,
       "version_minor": 0
      },
      "text/plain": [
       "Training:   0%|          | 0/209 [00:00<?, ?it/s]"
      ]
     },
     "metadata": {},
     "output_type": "display_data"
    },
    {
     "data": {
      "application/vnd.jupyter.widget-view+json": {
       "model_id": "5b35809baaca4327b85fd3fb0aaf7fc5",
       "version_major": 2,
       "version_minor": 0
      },
      "text/plain": [
       "Evaluation:   0%|          | 0/209 [00:00<?, ?it/s]"
      ]
     },
     "metadata": {},
     "output_type": "display_data"
    },
    {
     "name": "stdout",
     "output_type": "stream",
     "text": [
      "Epoch 18/80\n",
      "Train Loss: 1.4691, Train Acc: 0.6002\n",
      "Val Loss: 3.3055, Val Acc: 0.2166\n",
      "⚠️ No improvement for 2 epoch(s).\n"
     ]
    },
    {
     "data": {
      "application/vnd.jupyter.widget-view+json": {
       "model_id": "b26084474b3749dcbd6ea015aaf77497",
       "version_major": 2,
       "version_minor": 0
      },
      "text/plain": [
       "Training:   0%|          | 0/209 [00:00<?, ?it/s]"
      ]
     },
     "metadata": {},
     "output_type": "display_data"
    },
    {
     "data": {
      "application/vnd.jupyter.widget-view+json": {
       "model_id": "9f7e340a76734b98ac718cb0505dda38",
       "version_major": 2,
       "version_minor": 0
      },
      "text/plain": [
       "Evaluation:   0%|          | 0/209 [00:00<?, ?it/s]"
      ]
     },
     "metadata": {},
     "output_type": "display_data"
    },
    {
     "name": "stdout",
     "output_type": "stream",
     "text": [
      "Epoch 19/80\n",
      "Train Loss: 1.4058, Train Acc: 0.6149\n",
      "Val Loss: 3.3506, Val Acc: 0.2070\n",
      "⚠️ No improvement for 3 epoch(s).\n"
     ]
    },
    {
     "data": {
      "application/vnd.jupyter.widget-view+json": {
       "model_id": "f943e880cbf342149587b8363739c9ce",
       "version_major": 2,
       "version_minor": 0
      },
      "text/plain": [
       "Training:   0%|          | 0/209 [00:00<?, ?it/s]"
      ]
     },
     "metadata": {},
     "output_type": "display_data"
    },
    {
     "data": {
      "application/vnd.jupyter.widget-view+json": {
       "model_id": "9f8e9e1d324140eb82d9215f5512cf0a",
       "version_major": 2,
       "version_minor": 0
      },
      "text/plain": [
       "Evaluation:   0%|          | 0/209 [00:00<?, ?it/s]"
      ]
     },
     "metadata": {},
     "output_type": "display_data"
    },
    {
     "name": "stdout",
     "output_type": "stream",
     "text": [
      "Epoch 20/80\n",
      "Train Loss: 1.3446, Train Acc: 0.6209\n",
      "Val Loss: 3.2659, Val Acc: 0.2169\n",
      "⚠️ No improvement for 4 epoch(s).\n"
     ]
    },
    {
     "data": {
      "application/vnd.jupyter.widget-view+json": {
       "model_id": "a53ca978ba854b9da67c479edf274f10",
       "version_major": 2,
       "version_minor": 0
      },
      "text/plain": [
       "Training:   0%|          | 0/209 [00:00<?, ?it/s]"
      ]
     },
     "metadata": {},
     "output_type": "display_data"
    },
    {
     "data": {
      "application/vnd.jupyter.widget-view+json": {
       "model_id": "5d829086bcbe42d4b463586065f0986d",
       "version_major": 2,
       "version_minor": 0
      },
      "text/plain": [
       "Evaluation:   0%|          | 0/209 [00:00<?, ?it/s]"
      ]
     },
     "metadata": {},
     "output_type": "display_data"
    },
    {
     "name": "stdout",
     "output_type": "stream",
     "text": [
      "Epoch 21/80\n",
      "Train Loss: 1.3227, Train Acc: 0.6332\n",
      "Val Loss: 3.4637, Val Acc: 0.2010\n",
      "⚠️ No improvement for 5 epoch(s).\n"
     ]
    },
    {
     "data": {
      "application/vnd.jupyter.widget-view+json": {
       "model_id": "70e587c3f35d40cabe3a9745e339e791",
       "version_major": 2,
       "version_minor": 0
      },
      "text/plain": [
       "Training:   0%|          | 0/209 [00:00<?, ?it/s]"
      ]
     },
     "metadata": {},
     "output_type": "display_data"
    },
    {
     "data": {
      "application/vnd.jupyter.widget-view+json": {
       "model_id": "1ba0501a9994407ebd1e825e885dd823",
       "version_major": 2,
       "version_minor": 0
      },
      "text/plain": [
       "Evaluation:   0%|          | 0/209 [00:00<?, ?it/s]"
      ]
     },
     "metadata": {},
     "output_type": "display_data"
    },
    {
     "name": "stdout",
     "output_type": "stream",
     "text": [
      "Epoch 22/80\n",
      "Train Loss: 1.3277, Train Acc: 0.6302\n",
      "Val Loss: 3.3916, Val Acc: 0.2181\n",
      "⚠️ No improvement for 6 epoch(s).\n"
     ]
    },
    {
     "data": {
      "application/vnd.jupyter.widget-view+json": {
       "model_id": "188f1960c4404c4788d4744c777e0b2f",
       "version_major": 2,
       "version_minor": 0
      },
      "text/plain": [
       "Training:   0%|          | 0/209 [00:00<?, ?it/s]"
      ]
     },
     "metadata": {},
     "output_type": "display_data"
    },
    {
     "data": {
      "application/vnd.jupyter.widget-view+json": {
       "model_id": "1e94a668b6b5433f8050d95eda14fff4",
       "version_major": 2,
       "version_minor": 0
      },
      "text/plain": [
       "Evaluation:   0%|          | 0/209 [00:00<?, ?it/s]"
      ]
     },
     "metadata": {},
     "output_type": "display_data"
    },
    {
     "name": "stdout",
     "output_type": "stream",
     "text": [
      "Epoch 23/80\n",
      "Train Loss: 1.3071, Train Acc: 0.6383\n",
      "Val Loss: 3.2438, Val Acc: 0.2295\n",
      "⚠️ No improvement for 7 epoch(s).\n"
     ]
    },
    {
     "data": {
      "application/vnd.jupyter.widget-view+json": {
       "model_id": "f53d8003b05e41ef989305190e218658",
       "version_major": 2,
       "version_minor": 0
      },
      "text/plain": [
       "Training:   0%|          | 0/209 [00:00<?, ?it/s]"
      ]
     },
     "metadata": {},
     "output_type": "display_data"
    },
    {
     "data": {
      "application/vnd.jupyter.widget-view+json": {
       "model_id": "1af5336abce14c3e8481440ab336652c",
       "version_major": 2,
       "version_minor": 0
      },
      "text/plain": [
       "Evaluation:   0%|          | 0/209 [00:00<?, ?it/s]"
      ]
     },
     "metadata": {},
     "output_type": "display_data"
    },
    {
     "name": "stdout",
     "output_type": "stream",
     "text": [
      "Epoch 24/80\n",
      "Train Loss: 1.2611, Train Acc: 0.6611\n",
      "Val Loss: 3.2618, Val Acc: 0.2247\n",
      "⚠️ No improvement for 8 epoch(s).\n"
     ]
    },
    {
     "data": {
      "application/vnd.jupyter.widget-view+json": {
       "model_id": "80919fd822f340cf942484e682b87a1b",
       "version_major": 2,
       "version_minor": 0
      },
      "text/plain": [
       "Training:   0%|          | 0/209 [00:00<?, ?it/s]"
      ]
     },
     "metadata": {},
     "output_type": "display_data"
    },
    {
     "data": {
      "application/vnd.jupyter.widget-view+json": {
       "model_id": "42ea9ab730bc48deae19325abb40d06a",
       "version_major": 2,
       "version_minor": 0
      },
      "text/plain": [
       "Evaluation:   0%|          | 0/209 [00:00<?, ?it/s]"
      ]
     },
     "metadata": {},
     "output_type": "display_data"
    },
    {
     "name": "stdout",
     "output_type": "stream",
     "text": [
      "Epoch 25/80\n",
      "Train Loss: 1.2337, Train Acc: 0.6488\n",
      "Val Loss: 3.2364, Val Acc: 0.2328\n",
      "⚠️ No improvement for 9 epoch(s).\n"
     ]
    },
    {
     "data": {
      "application/vnd.jupyter.widget-view+json": {
       "model_id": "c30f08f970f64646a6bff13c7a56ff03",
       "version_major": 2,
       "version_minor": 0
      },
      "text/plain": [
       "Training:   0%|          | 0/209 [00:00<?, ?it/s]"
      ]
     },
     "metadata": {},
     "output_type": "display_data"
    },
    {
     "data": {
      "application/vnd.jupyter.widget-view+json": {
       "model_id": "84a1fc2de99f4b4d90f004013532e8b2",
       "version_major": 2,
       "version_minor": 0
      },
      "text/plain": [
       "Evaluation:   0%|          | 0/209 [00:00<?, ?it/s]"
      ]
     },
     "metadata": {},
     "output_type": "display_data"
    },
    {
     "name": "stdout",
     "output_type": "stream",
     "text": [
      "Epoch 26/80\n",
      "Train Loss: 1.2452, Train Acc: 0.6575\n",
      "Val Loss: 3.3102, Val Acc: 0.2235\n",
      "⚠️ No improvement for 10 epoch(s).\n",
      "⏹️ Early stopping triggered.\n",
      "CPU times: total: 43min 6s\n",
      "Wall time: 43min 12s\n"
     ]
    }
   ],
   "source": [
    "%%time\n",
    "train_loss_lst =[]\n",
    "train_acc_lst = []\n",
    "val_loss_lst = []\n",
    "val_acc_lst = []\n",
    "all_val_preds = []\n",
    "all_val_labels = []\n",
    "\n",
    "\n",
    "for epoch in range(num_epochs):\n",
    "\n",
    "    train_loss, train_acc, t_loss_lst, t__acc_lst = train_one_epoch(model, train_loader, criterion, optimizer, device, scaler)\n",
    "    val_loss, val_acc, val_preds, val_labels, v_loss_lst, v_acc_lst = evaluate(model, val_loader, criterion, device)\n",
    "    train_loss_lst.append(train_loss)\n",
    "    train_acc_lst.append(train_acc)\n",
    "    val_loss_lst.append(val_loss)\n",
    "    val_acc_lst.append(val_acc)\n",
    "    \n",
    "    all_val_preds.extend(val_preds)\n",
    "    all_val_labels.extend(val_labels)\n",
    "\n",
    "\n",
    "    print(f\"Epoch {epoch+1}/{num_epochs}\")\n",
    "    print(f\"Train Loss: {train_loss:.4f}, Train Acc: {train_acc:.4f}\")\n",
    "    print(f\"Val Loss: {val_loss:.4f}, Val Acc: {val_acc:.4f}\")\n",
    "\n",
    "\n",
    "    # Step the scheduler\n",
    "    scheduler.step(val_loss)\n",
    "\n",
    "    # Early stopping check\n",
    "    if val_loss < best_val_loss:\n",
    "        best_val_loss = val_loss\n",
    "        epochs_without_improvement = 0\n",
    "        torch.save(model.state_dict(), 'best_model.pth')  # Save best model\n",
    "        print(\"✅ Model improved. Saving...\")\n",
    "    else:\n",
    "        epochs_without_improvement += 1\n",
    "        print(f\"⚠️ No improvement for {epochs_without_improvement} epoch(s).\")\n",
    "\n",
    "    if epochs_without_improvement >= patience:\n",
    "        print(\"⏹️ Early stopping triggered.\")\n",
    "        break\n",
    "\n"
   ]
  },
  {
   "cell_type": "code",
   "execution_count": 14,
   "id": "b8e50c33-940b-4b10-b8aa-c58a139553f7",
   "metadata": {},
   "outputs": [
    {
     "data": {
      "application/vnd.jupyter.widget-view+json": {
       "model_id": "f1cdcdc1c3e54159931c0909e53b7d21",
       "version_major": 2,
       "version_minor": 0
      },
      "text/plain": [
       "Final Evaluation:   0%|          | 0/209 [00:00<?, ?it/s]"
      ]
     },
     "metadata": {},
     "output_type": "display_data"
    },
    {
     "name": "stdout",
     "output_type": "stream",
     "text": [
      "Final Evaluation Metrics:\n",
      "Top-1 Accuracy: 0.2268\n",
      "Top-5 Accuracy: 0.4803\n",
      "F1 Macro: 0.2026\n",
      "F1 Micro: 0.2268\n"
     ]
    }
   ],
   "source": [
    "model.eval()\n",
    "final_preds = []\n",
    "final_labels = []\n",
    "\n",
    "with torch.no_grad():\n",
    "    for inputs, labels in tqdm(test_loader, desc=\"Final Evaluation\", leave=False):\n",
    "        inputs, labels = inputs.to(device), labels.to(device)\n",
    "        outputs = model(inputs)\n",
    "        final_preds.append(outputs.cpu())\n",
    "        final_labels.append(labels.cpu())\n",
    "\n",
    "final_preds = torch.cat(final_preds)\n",
    "final_labels = torch.cat(final_labels)\n",
    "\n",
    "final_metrics = compute_metrics(final_labels, final_preds, k=5)\n",
    "print(\"Final Evaluation Metrics:\")\n",
    "for key, value in final_metrics.items():\n",
    "    print(f\"{key}: {value:.4f}\")"
   ]
  },
  {
   "cell_type": "code",
   "execution_count": 15,
   "id": "87d75ffa-b8d7-4629-97e8-3ef20d7ab2d3",
   "metadata": {},
   "outputs": [],
   "source": [
    "cm = confusion_matrix(all_val_labels, all_val_preds)\n",
    "cm_normalized = cm.astype('float') / cm.sum(axis=1)[:, np.newaxis]\n",
    "class_accuracy = np.diag(cm_normalized)\n",
    "tick_marks = np.arange(len(class_names))"
   ]
  },
  {
   "cell_type": "code",
   "execution_count": 16,
   "id": "7093da56-e3a0-4622-b6d3-dc9049536b90",
   "metadata": {},
   "outputs": [
    {
     "name": "stdout",
     "output_type": "stream",
     "text": [
      "Interactive confusion matrix with class accuracy saved as 'interactive_confusion_matrix.html'.\n"
     ]
    },
    {
     "data": {
      "application/vnd.plotly.v1+json": {
       "config": {
        "plotlyServerURL": "https://plot.ly"
       },
       "data": [
        {
         "colorbar": {
          "title": {
           "text": "Accuracy"
          }
         },
         "colorscale": [
          [
           0,
           "#0d0887"
          ],
          [
           0.1111111111111111,
           "#46039f"
          ],
          [
           0.2222222222222222,
           "#7201a8"
          ],
          [
           0.3333333333333333,
           "#9c179e"
          ],
          [
           0.4444444444444444,
           "#bd3786"
          ],
          [
           0.5555555555555556,
           "#d8576b"
          ],
          [
           0.6666666666666666,
           "#ed7953"
          ],
          [
           0.7777777777777778,
           "#fb9f3a"
          ],
          [
           0.8888888888888888,
           "#fdca26"
          ],
          [
           1,
           "#f0f921"
          ]
         ],
         "hovertemplate": "Actual: %{y}<br>Predicted: %{x}<br>Accuracy: %{z:.2%}<extra></extra>",
         "type": "heatmap",
         "x": [
          "707-320",
          "727-200",
          "737-200",
          "737-300",
          "737-400",
          "737-500",
          "737-600",
          "737-700",
          "737-800",
          "737-900",
          "747-100",
          "747-200",
          "747-300",
          "747-400",
          "757-200",
          "757-300",
          "767-200",
          "767-300",
          "767-400",
          "777-200",
          "777-300",
          "A300B4",
          "A310",
          "A318",
          "A319",
          "A320",
          "A321",
          "A330-200",
          "A330-300",
          "A340-200",
          "A340-300",
          "A340-500",
          "A340-600",
          "A380",
          "ATR-42",
          "ATR-72",
          "An-12",
          "BAE 146-200",
          "BAE 146-300",
          "BAE-125",
          "Beechcraft 1900",
          "Boeing 717",
          "C-130",
          "C-47",
          "CRJ-200",
          "CRJ-700",
          "CRJ-900",
          "Cessna 172",
          "Cessna 208",
          "Cessna 525",
          "Cessna 560",
          "Challenger 600",
          "DC-10",
          "DC-3",
          "DC-6",
          "DC-8",
          "DC-9-30",
          "DH-82",
          "DHC-1",
          "DHC-6",
          "DHC-8-100",
          "DHC-8-300",
          "DR-400",
          "Dornier 328",
          "E-170",
          "E-190",
          "E-195",
          "EMB-120",
          "ERJ 135",
          "ERJ 145",
          "Embraer Legacy 600",
          "Eurofighter Typhoon",
          "F-16A/B",
          "F/A-18",
          "Falcon 2000",
          "Falcon 900",
          "Fokker 100",
          "Fokker 50",
          "Fokker 70",
          "Global Express",
          "Gulfstream IV",
          "Gulfstream V",
          "Hawk T1",
          "Il-76",
          "L-1011",
          "MD-11",
          "MD-80",
          "MD-87",
          "MD-90",
          "Metroliner",
          "Model B200",
          "PA-28",
          "SR-20",
          "Saab 2000",
          "Saab 340",
          "Spitfire",
          "Tornado",
          "Tu-134",
          "Tu-154",
          "Yak-42"
         ],
         "xaxis": "x",
         "y": [
          "707-320",
          "727-200",
          "737-200",
          "737-300",
          "737-400",
          "737-500",
          "737-600",
          "737-700",
          "737-800",
          "737-900",
          "747-100",
          "747-200",
          "747-300",
          "747-400",
          "757-200",
          "757-300",
          "767-200",
          "767-300",
          "767-400",
          "777-200",
          "777-300",
          "A300B4",
          "A310",
          "A318",
          "A319",
          "A320",
          "A321",
          "A330-200",
          "A330-300",
          "A340-200",
          "A340-300",
          "A340-500",
          "A340-600",
          "A380",
          "ATR-42",
          "ATR-72",
          "An-12",
          "BAE 146-200",
          "BAE 146-300",
          "BAE-125",
          "Beechcraft 1900",
          "Boeing 717",
          "C-130",
          "C-47",
          "CRJ-200",
          "CRJ-700",
          "CRJ-900",
          "Cessna 172",
          "Cessna 208",
          "Cessna 525",
          "Cessna 560",
          "Challenger 600",
          "DC-10",
          "DC-3",
          "DC-6",
          "DC-8",
          "DC-9-30",
          "DH-82",
          "DHC-1",
          "DHC-6",
          "DHC-8-100",
          "DHC-8-300",
          "DR-400",
          "Dornier 328",
          "E-170",
          "E-190",
          "E-195",
          "EMB-120",
          "ERJ 135",
          "ERJ 145",
          "Embraer Legacy 600",
          "Eurofighter Typhoon",
          "F-16A/B",
          "F/A-18",
          "Falcon 2000",
          "Falcon 900",
          "Fokker 100",
          "Fokker 50",
          "Fokker 70",
          "Global Express",
          "Gulfstream IV",
          "Gulfstream V",
          "Hawk T1",
          "Il-76",
          "L-1011",
          "MD-11",
          "MD-80",
          "MD-87",
          "MD-90",
          "Metroliner",
          "Model B200",
          "PA-28",
          "SR-20",
          "Saab 2000",
          "Saab 340",
          "Spitfire",
          "Tornado",
          "Tu-134",
          "Tu-154",
          "Yak-42"
         ],
         "yaxis": "y",
         "z": {
          "bdata": "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",
          "dtype": "f8",
          "shape": "100, 100"
         }
        },
        {
         "hovertemplate": "Class: %{x}<br>Accuracy: %{y:.2%}<extra></extra>",
         "line": {
          "color": "lightblue"
         },
         "marker": {
          "color": "blue",
          "size": 8
         },
         "mode": "markers+lines",
         "name": "Class Accuracy",
         "type": "scatter",
         "x": [
          "707-320",
          "727-200",
          "737-200",
          "737-300",
          "737-400",
          "737-500",
          "737-600",
          "737-700",
          "737-800",
          "737-900",
          "747-100",
          "747-200",
          "747-300",
          "747-400",
          "757-200",
          "757-300",
          "767-200",
          "767-300",
          "767-400",
          "777-200",
          "777-300",
          "A300B4",
          "A310",
          "A318",
          "A319",
          "A320",
          "A321",
          "A330-200",
          "A330-300",
          "A340-200",
          "A340-300",
          "A340-500",
          "A340-600",
          "A380",
          "ATR-42",
          "ATR-72",
          "An-12",
          "BAE 146-200",
          "BAE 146-300",
          "BAE-125",
          "Beechcraft 1900",
          "Boeing 717",
          "C-130",
          "C-47",
          "CRJ-200",
          "CRJ-700",
          "CRJ-900",
          "Cessna 172",
          "Cessna 208",
          "Cessna 525",
          "Cessna 560",
          "Challenger 600",
          "DC-10",
          "DC-3",
          "DC-6",
          "DC-8",
          "DC-9-30",
          "DH-82",
          "DHC-1",
          "DHC-6",
          "DHC-8-100",
          "DHC-8-300",
          "DR-400",
          "Dornier 328",
          "E-170",
          "E-190",
          "E-195",
          "EMB-120",
          "ERJ 135",
          "ERJ 145",
          "Embraer Legacy 600",
          "Eurofighter Typhoon",
          "F-16A/B",
          "F/A-18",
          "Falcon 2000",
          "Falcon 900",
          "Fokker 100",
          "Fokker 50",
          "Fokker 70",
          "Global Express",
          "Gulfstream IV",
          "Gulfstream V",
          "Hawk T1",
          "Il-76",
          "L-1011",
          "MD-11",
          "MD-80",
          "MD-87",
          "MD-90",
          "Metroliner",
          "Model B200",
          "PA-28",
          "SR-20",
          "Saab 2000",
          "Saab 340",
          "Spitfire",
          "Tornado",
          "Tu-134",
          "Tu-154",
          "Yak-42"
         ],
         "xaxis": "x2",
         "y": {
          "bdata": "pGYkL5Xetz8VxtkUxtmEPz+uzG1otaA/tuvpWHcYUz8TsIgSsIhyP6RmJC+V3nc/7zAmwHY9zT8X3CoX3CqXP0yA7Xo61p0/TIDtejrWrT/aFMbZFMa5PxqkQRqkQYo/pGYkL5Xetz+T9RyT9RyjP7br6Vh3GGM/tuvpWHcYUz8TsIgSsIiCPwAAAAAAAAAACB988MEHrz8eHh4eHh6OP7br6Vh3GJM/P67MbWi1kD8cCM0bCM17P8/ZP4nC4sQ/z9k/icLipD8TsIgSsIhyP7br6Vh3GGM/pGYkL5Xedz8TsIgSsIhSP7br6Vh3GHM/LSkHRIZ7lT//dNf+dNfOP9ZC0I8rc7s/sF1Px7rD2D/jbArjbArTP0yA7Xo61p0/x7rDmADb1T911/501/7EPwG26+lYd6g/aNoafzePwD/SR6rRR6qxPwAAAAAAAAAA9Zm2xt/N4z+R38uQ38vAP6RmJC+V3nc/P67MbWi1gD8YZ1MYZ1OoPw6tFoJ+XNk/8nfzCNVn2j90TNZzTNbTPwgffPDBB58/+0xb4+/mkT/X/nTX/nS3P0E/rsxtaNU/Abbr6Vh32D9myO9lyO/VP18Fs6QcEJk/ePMI1Wfa6j9lPcdkPcfUP/jggw8++OA/l2/5lm/5xj/X/nTX/nS3P18Fs6QcENk/1kLQjytzyz8yWc8xWc/BP+jHlbkNraY/7lUwS8oBsT+wiBKwiBLQPxqkQRqkQZo/I3mp9L7AwT8eHh4eHh7OPyAy3KtgltQ/BP24Mreh5T8eHh4eHh7OPxH048rchtY/MHDUjOSl0j+T9RyT9RyjPz1C9Zm2xs8/Pvjggw8+2D8QmjcQmjewPy0pB0SGe5U/+0xb4+/mkT9wq1xwq1zoPzkgMtyrYNY/tuvpWHcYoz8X3CoX3CqXP+jHlbkNrZY/cYp4zv5JtD+SavSRavShP8Yp4jn7J8E/zUheKr0v4D/lglvlglvVP71Uel/gqOk/J5tssskm2z9sf7prf7rbP70vcNSM5OU/UjOSl0rv6z+4VS64VS7gP8lLpfcFjso/nf2TKCxOsT8=",
          "dtype": "f8"
         },
         "yaxis": "y2"
        }
       ],
       "layout": {
        "annotations": [
         {
          "font": {
           "size": 16
          },
          "showarrow": false,
          "text": "Normalized Confusion Matrix",
          "x": 0.5,
          "xanchor": "center",
          "xref": "paper",
          "y": 0.9999999999999999,
          "yanchor": "bottom",
          "yref": "paper"
         },
         {
          "font": {
           "size": 16
          },
          "showarrow": false,
          "text": "Accuracy per Class",
          "x": 0.5,
          "xanchor": "center",
          "xref": "paper",
          "y": 0.285,
          "yanchor": "bottom",
          "yref": "paper"
         }
        ],
        "height": 1000,
        "margin": {
         "t": 100
        },
        "template": {
         "data": {
          "bar": [
           {
            "error_x": {
             "color": "#2a3f5f"
            },
            "error_y": {
             "color": "#2a3f5f"
            },
            "marker": {
             "line": {
              "color": "#E5ECF6",
              "width": 0.5
             },
             "pattern": {
              "fillmode": "overlay",
              "size": 10,
              "solidity": 0.2
             }
            },
            "type": "bar"
           }
          ],
          "barpolar": [
           {
            "marker": {
             "line": {
              "color": "#E5ECF6",
              "width": 0.5
             },
             "pattern": {
              "fillmode": "overlay",
              "size": 10,
              "solidity": 0.2
             }
            },
            "type": "barpolar"
           }
          ],
          "carpet": [
           {
            "aaxis": {
             "endlinecolor": "#2a3f5f",
             "gridcolor": "white",
             "linecolor": "white",
             "minorgridcolor": "white",
             "startlinecolor": "#2a3f5f"
            },
            "baxis": {
             "endlinecolor": "#2a3f5f",
             "gridcolor": "white",
             "linecolor": "white",
             "minorgridcolor": "white",
             "startlinecolor": "#2a3f5f"
            },
            "type": "carpet"
           }
          ],
          "choropleth": [
           {
            "colorbar": {
             "outlinewidth": 0,
             "ticks": ""
            },
            "type": "choropleth"
           }
          ],
          "contour": [
           {
            "colorbar": {
             "outlinewidth": 0,
             "ticks": ""
            },
            "colorscale": [
             [
              0,
              "#0d0887"
             ],
             [
              0.1111111111111111,
              "#46039f"
             ],
             [
              0.2222222222222222,
              "#7201a8"
             ],
             [
              0.3333333333333333,
              "#9c179e"
             ],
             [
              0.4444444444444444,
              "#bd3786"
             ],
             [
              0.5555555555555556,
              "#d8576b"
             ],
             [
              0.6666666666666666,
              "#ed7953"
             ],
             [
              0.7777777777777778,
              "#fb9f3a"
             ],
             [
              0.8888888888888888,
              "#fdca26"
             ],
             [
              1,
              "#f0f921"
             ]
            ],
            "type": "contour"
           }
          ],
          "contourcarpet": [
           {
            "colorbar": {
             "outlinewidth": 0,
             "ticks": ""
            },
            "type": "contourcarpet"
           }
          ],
          "heatmap": [
           {
            "colorbar": {
             "outlinewidth": 0,
             "ticks": ""
            },
            "colorscale": [
             [
              0,
              "#0d0887"
             ],
             [
              0.1111111111111111,
              "#46039f"
             ],
             [
              0.2222222222222222,
              "#7201a8"
             ],
             [
              0.3333333333333333,
              "#9c179e"
             ],
             [
              0.4444444444444444,
              "#bd3786"
             ],
             [
              0.5555555555555556,
              "#d8576b"
             ],
             [
              0.6666666666666666,
              "#ed7953"
             ],
             [
              0.7777777777777778,
              "#fb9f3a"
             ],
             [
              0.8888888888888888,
              "#fdca26"
             ],
             [
              1,
              "#f0f921"
             ]
            ],
            "type": "heatmap"
           }
          ],
          "histogram": [
           {
            "marker": {
             "pattern": {
              "fillmode": "overlay",
              "size": 10,
              "solidity": 0.2
             }
            },
            "type": "histogram"
           }
          ],
          "histogram2d": [
           {
            "colorbar": {
             "outlinewidth": 0,
             "ticks": ""
            },
            "colorscale": [
             [
              0,
              "#0d0887"
             ],
             [
              0.1111111111111111,
              "#46039f"
             ],
             [
              0.2222222222222222,
              "#7201a8"
             ],
             [
              0.3333333333333333,
              "#9c179e"
             ],
             [
              0.4444444444444444,
              "#bd3786"
             ],
             [
              0.5555555555555556,
              "#d8576b"
             ],
             [
              0.6666666666666666,
              "#ed7953"
             ],
             [
              0.7777777777777778,
              "#fb9f3a"
             ],
             [
              0.8888888888888888,
              "#fdca26"
             ],
             [
              1,
              "#f0f921"
             ]
            ],
            "type": "histogram2d"
           }
          ],
          "histogram2dcontour": [
           {
            "colorbar": {
             "outlinewidth": 0,
             "ticks": ""
            },
            "colorscale": [
             [
              0,
              "#0d0887"
             ],
             [
              0.1111111111111111,
              "#46039f"
             ],
             [
              0.2222222222222222,
              "#7201a8"
             ],
             [
              0.3333333333333333,
              "#9c179e"
             ],
             [
              0.4444444444444444,
              "#bd3786"
             ],
             [
              0.5555555555555556,
              "#d8576b"
             ],
             [
              0.6666666666666666,
              "#ed7953"
             ],
             [
              0.7777777777777778,
              "#fb9f3a"
             ],
             [
              0.8888888888888888,
              "#fdca26"
             ],
             [
              1,
              "#f0f921"
             ]
            ],
            "type": "histogram2dcontour"
           }
          ],
          "mesh3d": [
           {
            "colorbar": {
             "outlinewidth": 0,
             "ticks": ""
            },
            "type": "mesh3d"
           }
          ],
          "parcoords": [
           {
            "line": {
             "colorbar": {
              "outlinewidth": 0,
              "ticks": ""
             }
            },
            "type": "parcoords"
           }
          ],
          "pie": [
           {
            "automargin": true,
            "type": "pie"
           }
          ],
          "scatter": [
           {
            "fillpattern": {
             "fillmode": "overlay",
             "size": 10,
             "solidity": 0.2
            },
            "type": "scatter"
           }
          ],
          "scatter3d": [
           {
            "line": {
             "colorbar": {
              "outlinewidth": 0,
              "ticks": ""
             }
            },
            "marker": {
             "colorbar": {
              "outlinewidth": 0,
              "ticks": ""
             }
            },
            "type": "scatter3d"
           }
          ],
          "scattercarpet": [
           {
            "marker": {
             "colorbar": {
              "outlinewidth": 0,
              "ticks": ""
             }
            },
            "type": "scattercarpet"
           }
          ],
          "scattergeo": [
           {
            "marker": {
             "colorbar": {
              "outlinewidth": 0,
              "ticks": ""
             }
            },
            "type": "scattergeo"
           }
          ],
          "scattergl": [
           {
            "marker": {
             "colorbar": {
              "outlinewidth": 0,
              "ticks": ""
             }
            },
            "type": "scattergl"
           }
          ],
          "scattermap": [
           {
            "marker": {
             "colorbar": {
              "outlinewidth": 0,
              "ticks": ""
             }
            },
            "type": "scattermap"
           }
          ],
          "scattermapbox": [
           {
            "marker": {
             "colorbar": {
              "outlinewidth": 0,
              "ticks": ""
             }
            },
            "type": "scattermapbox"
           }
          ],
          "scatterpolar": [
           {
            "marker": {
             "colorbar": {
              "outlinewidth": 0,
              "ticks": ""
             }
            },
            "type": "scatterpolar"
           }
          ],
          "scatterpolargl": [
           {
            "marker": {
             "colorbar": {
              "outlinewidth": 0,
              "ticks": ""
             }
            },
            "type": "scatterpolargl"
           }
          ],
          "scatterternary": [
           {
            "marker": {
             "colorbar": {
              "outlinewidth": 0,
              "ticks": ""
             }
            },
            "type": "scatterternary"
           }
          ],
          "surface": [
           {
            "colorbar": {
             "outlinewidth": 0,
             "ticks": ""
            },
            "colorscale": [
             [
              0,
              "#0d0887"
             ],
             [
              0.1111111111111111,
              "#46039f"
             ],
             [
              0.2222222222222222,
              "#7201a8"
             ],
             [
              0.3333333333333333,
              "#9c179e"
             ],
             [
              0.4444444444444444,
              "#bd3786"
             ],
             [
              0.5555555555555556,
              "#d8576b"
             ],
             [
              0.6666666666666666,
              "#ed7953"
             ],
             [
              0.7777777777777778,
              "#fb9f3a"
             ],
             [
              0.8888888888888888,
              "#fdca26"
             ],
             [
              1,
              "#f0f921"
             ]
            ],
            "type": "surface"
           }
          ],
          "table": [
           {
            "cells": {
             "fill": {
              "color": "#EBF0F8"
             },
             "line": {
              "color": "white"
             }
            },
            "header": {
             "fill": {
              "color": "#C8D4E3"
             },
             "line": {
              "color": "white"
             }
            },
            "type": "table"
           }
          ]
         },
         "layout": {
          "annotationdefaults": {
           "arrowcolor": "#2a3f5f",
           "arrowhead": 0,
           "arrowwidth": 1
          },
          "autotypenumbers": "strict",
          "coloraxis": {
           "colorbar": {
            "outlinewidth": 0,
            "ticks": ""
           }
          },
          "colorscale": {
           "diverging": [
            [
             0,
             "#8e0152"
            ],
            [
             0.1,
             "#c51b7d"
            ],
            [
             0.2,
             "#de77ae"
            ],
            [
             0.3,
             "#f1b6da"
            ],
            [
             0.4,
             "#fde0ef"
            ],
            [
             0.5,
             "#f7f7f7"
            ],
            [
             0.6,
             "#e6f5d0"
            ],
            [
             0.7,
             "#b8e186"
            ],
            [
             0.8,
             "#7fbc41"
            ],
            [
             0.9,
             "#4d9221"
            ],
            [
             1,
             "#276419"
            ]
           ],
           "sequential": [
            [
             0,
             "#0d0887"
            ],
            [
             0.1111111111111111,
             "#46039f"
            ],
            [
             0.2222222222222222,
             "#7201a8"
            ],
            [
             0.3333333333333333,
             "#9c179e"
            ],
            [
             0.4444444444444444,
             "#bd3786"
            ],
            [
             0.5555555555555556,
             "#d8576b"
            ],
            [
             0.6666666666666666,
             "#ed7953"
            ],
            [
             0.7777777777777778,
             "#fb9f3a"
            ],
            [
             0.8888888888888888,
             "#fdca26"
            ],
            [
             1,
             "#f0f921"
            ]
           ],
           "sequentialminus": [
            [
             0,
             "#0d0887"
            ],
            [
             0.1111111111111111,
             "#46039f"
            ],
            [
             0.2222222222222222,
             "#7201a8"
            ],
            [
             0.3333333333333333,
             "#9c179e"
            ],
            [
             0.4444444444444444,
             "#bd3786"
            ],
            [
             0.5555555555555556,
             "#d8576b"
            ],
            [
             0.6666666666666666,
             "#ed7953"
            ],
            [
             0.7777777777777778,
             "#fb9f3a"
            ],
            [
             0.8888888888888888,
             "#fdca26"
            ],
            [
             1,
             "#f0f921"
            ]
           ]
          },
          "colorway": [
           "#636efa",
           "#EF553B",
           "#00cc96",
           "#ab63fa",
           "#FFA15A",
           "#19d3f3",
           "#FF6692",
           "#B6E880",
           "#FF97FF",
           "#FECB52"
          ],
          "font": {
           "color": "#2a3f5f"
          },
          "geo": {
           "bgcolor": "white",
           "lakecolor": "white",
           "landcolor": "#E5ECF6",
           "showlakes": true,
           "showland": true,
           "subunitcolor": "white"
          },
          "hoverlabel": {
           "align": "left"
          },
          "hovermode": "closest",
          "mapbox": {
           "style": "light"
          },
          "paper_bgcolor": "white",
          "plot_bgcolor": "#E5ECF6",
          "polar": {
           "angularaxis": {
            "gridcolor": "white",
            "linecolor": "white",
            "ticks": ""
           },
           "bgcolor": "#E5ECF6",
           "radialaxis": {
            "gridcolor": "white",
            "linecolor": "white",
            "ticks": ""
           }
          },
          "scene": {
           "xaxis": {
            "backgroundcolor": "#E5ECF6",
            "gridcolor": "white",
            "gridwidth": 2,
            "linecolor": "white",
            "showbackground": true,
            "ticks": "",
            "zerolinecolor": "white"
           },
           "yaxis": {
            "backgroundcolor": "#E5ECF6",
            "gridcolor": "white",
            "gridwidth": 2,
            "linecolor": "white",
            "showbackground": true,
            "ticks": "",
            "zerolinecolor": "white"
           },
           "zaxis": {
            "backgroundcolor": "#E5ECF6",
            "gridcolor": "white",
            "gridwidth": 2,
            "linecolor": "white",
            "showbackground": true,
            "ticks": "",
            "zerolinecolor": "white"
           }
          },
          "shapedefaults": {
           "line": {
            "color": "#2a3f5f"
           }
          },
          "ternary": {
           "aaxis": {
            "gridcolor": "white",
            "linecolor": "white",
            "ticks": ""
           },
           "baxis": {
            "gridcolor": "white",
            "linecolor": "white",
            "ticks": ""
           },
           "bgcolor": "#E5ECF6",
           "caxis": {
            "gridcolor": "white",
            "linecolor": "white",
            "ticks": ""
           }
          },
          "title": {
           "x": 0.05
          },
          "xaxis": {
           "automargin": true,
           "gridcolor": "white",
           "linecolor": "white",
           "ticks": "",
           "title": {
            "standoff": 15
           },
           "zerolinecolor": "white",
           "zerolinewidth": 2
          },
          "yaxis": {
           "automargin": true,
           "gridcolor": "white",
           "linecolor": "white",
           "ticks": "",
           "title": {
            "standoff": 15
           },
           "zerolinecolor": "white",
           "zerolinewidth": 2
          }
         }
        },
        "title": {
         "text": "Interactive Confusion Matrix with Class Accuracy"
        },
        "width": 1200,
        "xaxis": {
         "anchor": "y",
         "domain": [
          0,
          1
         ],
         "matches": "x2",
         "showticklabels": false
        },
        "xaxis2": {
         "anchor": "y2",
         "domain": [
          0,
          1
         ],
         "tickangle": 90
        },
        "yaxis": {
         "anchor": "x",
         "domain": [
          0.33499999999999996,
          0.9999999999999999
         ]
        },
        "yaxis2": {
         "anchor": "x2",
         "domain": [
          0,
          0.285
         ]
        }
       }
      }
     },
     "metadata": {},
     "output_type": "display_data"
    }
   ],
   "source": [
    "# Create heatmap using Plotly\n",
    "heatmap = go.Heatmap(\n",
    "    z=cm_normalized,\n",
    "    x=class_names,\n",
    "    y=class_names,\n",
    "    colorscale='Plasma',\n",
    "    colorbar=dict(title='Accuracy'),\n",
    "    hovertemplate='Actual: %{y}<br>Predicted: %{x}<br>Accuracy: %{z:.2%}<extra></extra>'\n",
    ")\n",
    "\n",
    "# Create scatter plot (lollipop style) for class accuracy\n",
    "scatter = go.Scatter(\n",
    "    x=class_names,\n",
    "    y=class_accuracy,\n",
    "    mode='markers+lines',\n",
    "    marker=dict(size=8, color='blue'),\n",
    "    line=dict(color='lightblue'),\n",
    "    name='Class Accuracy',\n",
    "    hovertemplate='Class: %{x}<br>Accuracy: %{y:.2%}<extra></extra>'\n",
    ")\n",
    "\n",
    "# Create subplots with corrected keyword 'shared_xaxes'\n",
    "fig = sub.make_subplots(\n",
    "    rows=2, cols=1,\n",
    "    row_heights=[0.7, 0.3],\n",
    "    shared_xaxes=True,\n",
    "    vertical_spacing=0.05,\n",
    "    subplot_titles=(\"Normalized Confusion Matrix\", \"Accuracy per Class\")\n",
    ")\n",
    "\n",
    "fig.add_trace(heatmap, row=1, col=1)\n",
    "fig.add_trace(scatter, row=2, col=1)\n",
    "\n",
    "fig.update_layout(\n",
    "    height=1000,\n",
    "    width=1200,\n",
    "    title_text=\"Interactive Confusion Matrix with Class Accuracy\",\n",
    "    xaxis2=dict(tickangle=90),\n",
    "    margin=dict(t=100)\n",
    ")\n",
    "\n",
    "fig.write_html(\"interactive_confusion_matrix.html\")\n",
    "print(\"Interactive confusion matrix with class accuracy saved as 'interactive_confusion_matrix.html'.\")\n",
    "fig.show()\n"
   ]
  },
  {
   "cell_type": "code",
   "execution_count": 17,
   "id": "7a9299b9-9e06-4fa5-8e0e-8d6cf032ba3e",
   "metadata": {},
   "outputs": [
    {
     "data": {
      "image/png": "[encoded data removed]",
      "text/plain": [
       "<Figure size 1200x500 with 2 Axes>"
      ]
     },
     "metadata": {},
     "output_type": "display_data"
    }
   ],
   "source": [
    "# Sample data (replace these lists with actual collected data)\n",
    "# train_losses = [2.0, 1.8, 1.5, 1.2, 1.0, 0.8, 0.6, 0.5, 0.4, 0.3]\n",
    "# val_losses = [2.1, 1.9, 1.6, 1.3, 1.1, 0.9, 0.7, 0.6, 0.5, 0.4]\n",
    "# train_accuracies = [0.4, 0.45, 0.5, 0.55, 0.6, 0.65, 0.7, 0.75, 0.8, 0.85]\n",
    "# val_accuracies = [0.35, 0.4, 0.45, 0.5, 0.55, 0.6, 0.65, 0.7, 0.75, 0.8]\n",
    "\n",
    "ep = range(1, len(train_loss_lst) + 1)\n",
    "\n",
    "# Plot training and validation loss\n",
    "plt.figure(figsize=(12, 5))\n",
    "plt.subplot(1, 2, 1)\n",
    "plt.plot(ep, train_loss_lst, label='Training Loss')\n",
    "plt.plot(ep, val_loss_lst, label='Validation Loss')\n",
    "plt.xlabel('Epochs')\n",
    "plt.ylabel('Loss')\n",
    "plt.title('Training and Validation Loss')\n",
    "plt.legend()\n",
    "\n",
    "# Plot training and validation accuracy\n",
    "plt.subplot(1, 2, 2)\n",
    "plt.plot(ep, train_acc_lst, label='Training Accuracy')\n",
    "plt.plot(ep, val_acc_lst, label='Validation Accuracy')\n",
    "plt.xlabel('Epochs')\n",
    "plt.ylabel('Accuracy')\n",
    "plt.title('Training and Validation Accuracy')\n",
    "plt.legend()\n",
    "\n",
    "plt.tight_layout()\n",
    "plt.show()\n"
   ]
  },
  {
   "cell_type": "code",
   "execution_count": 18,
   "id": "1918951d-8386-4aef-8d72-d3b4079aa761",
   "metadata": {},
   "outputs": [
    {
     "ename": "NameError",
     "evalue": "name 'get_datasets' is not defined",
     "output_type": "error",
     "traceback": [
      "\u001b[1;31m---------------------------------------------------------------------------\u001b[0m",
      "\u001b[1;31mNameError\u001b[0m                                 Traceback (most recent call last)",
      "Cell \u001b[1;32mIn[18], line 1\u001b[0m\n\u001b[1;32m----> 1\u001b[0m train_dataset, val_dataset, test_dataset \u001b[38;5;241m=\u001b[39m \u001b[43mget_datasets\u001b[49m(\u001b[38;5;241m224\u001b[39m,\u001b[38;5;241m32\u001b[39m,\u001b[38;5;124m'\u001b[39m\u001b[38;5;124mvariant\u001b[39m\u001b[38;5;124m'\u001b[39m)\n",
      "\u001b[1;31mNameError\u001b[0m: name 'get_datasets' is not defined"
     ]
    }
   ],
   "source": [
    "train_dataset, val_dataset, test_dataset = get_datasets(224,32,'variant')"
   ]
  },
  {
   "cell_type": "code",
   "execution_count": null,
   "id": "8f716e85-7bb6-4512-8b98-788885dd7814",
   "metadata": {},
   "outputs": [],
   "source": [
    "visualize_predictions(model, test_dataset)"
   ]
  }
 ],
 "metadata": {
  "kernelspec": {
   "display_name": "base",
   "language": "python",
   "name": "python3"
  },
  "language_info": {
   "codemirror_mode": {
    "name": "ipython",
    "version": 3
   },
   "file_extension": ".py",
   "mimetype": "text/x-python",
   "name": "python",
   "nbconvert_exporter": "python",
   "pygments_lexer": "ipython3",
   "version": "3.12.3"
  }
 },
 "nbformat": 4,
 "nbformat_minor": 5
}
