{
 "cells": [
  {
   "cell_type": "code",
   "execution_count": 1,
   "id": "9c3c3f8e-c8fa-495e-bf41-a38de819c953",
   "metadata": {},
   "outputs": [],
   "source": [
    "#this code creates a dictionary from the fgvc-aircraft-2013b files\n",
    "#the dictionary is then suitable to upload to hugging face to create a database\n",
    "\n",
    "from datasets import Dataset, DatasetDict\n",
    "from PIL import Image\n",
    "import os\n"
   ]
  },
  {
   "cell_type": "code",
   "execution_count": 15,
   "id": "aee1f673-cf07-488b-9bb5-a27557d6b1f5",
   "metadata": {},
   "outputs": [],
   "source": [
    "# configure file access\n",
    "# set project root to be the project folder relative to where the notebook is located\n",
    "#for this case, the project_root is two levels up, I have it one level above the code folders\n",
    "project_root = os.path.abspath(os.path.join(\"..\", \"..\"))\n",
    "\n",
    "#defining paths to the other files\n",
    "images_dir = os.path.join(project_root, \"fgvc-aircraft-2013b\",\"data\",\"images\")\n",
    "labels = os.path.join(project_root, \"fgvc-aircraft-2013b\",\"data\",\"labels\")\n",
    "\n"
   ]
  },
  {
   "cell_type": "code",
   "execution_count": 16,
   "id": "5a945289-a856-432b-9370-102ed0200a5e",
   "metadata": {},
   "outputs": [],
   "source": [
    "labels_list = [f for f in os.listdir(other_columns)\n",
    "             if os.path.isfile(os.path.join(labels, f))]"
   ]
  },
  {
   "cell_type": "code",
   "execution_count": 17,
   "id": "61fec61e-aebf-4cd9-952f-80eb8c5c3062",
   "metadata": {},
   "outputs": [
    {
     "name": "stdout",
     "output_type": "stream",
     "text": [
      "['images_variant_test.txt', '.DS_Store', 'families.txt', 'images_variant_trainval.txt', 'images_manufacturer_val.txt', 'images_manufacturer_trainval.txt', 'images_variant_train.txt', 'images_family_val.txt', 'images_manufacturer_train.txt', 'images_manufacturer_test.txt', 'variants.txt', 'images_train.txt', 'images_family_train.txt', 'images_val.txt', 'images_test.txt', 'manufacturers.txt', 'images_box.txt', 'images_family_trainval.txt', 'images_variant_val.txt', 'images_family_test.txt']\n"
     ]
    }
   ],
   "source": [
    "print(file_list)"
   ]
  },
  {
   "cell_type": "code",
   "execution_count": 13,
   "id": "99a37579-e5c2-4c60-be09-73a8eb57b215",
   "metadata": {},
   "outputs": [
    {
     "name": "stdout",
     "output_type": "stream",
     "text": [
      "/Users/matthewboarts/Desktop/Capstone/fgvc-aircraft-2013b/data/images\n"
     ]
    }
   ],
   "source": []
  },
  {
   "cell_type": "code",
   "execution_count": 23,
   "id": "3fa41056-36f6-4010-84a8-fcd12e992a85",
   "metadata": {},
   "outputs": [
    {
     "data": {
      "application/vnd.jupyter.widget-view+json": {
       "model_id": "02cdfbf0811b4b8ab09dea19948bb5f3",
       "version_major": 2,
       "version_minor": 0
      },
      "text/plain": [
       "README.md:   0%|          | 0.00/485 [00:00<?, ?B/s]"
      ]
     },
     "metadata": {},
     "output_type": "display_data"
    },
    {
     "data": {
      "application/vnd.jupyter.widget-view+json": {
       "model_id": "9dbc3b50599244fb8dee44c25b8ae316",
       "version_major": 2,
       "version_minor": 0
      },
      "text/plain": [
       "(…)-00000-of-00002-a1384140e6900c83.parquet:   0%|          | 0.00/458M [00:00<?, ?B/s]"
      ]
     },
     "metadata": {},
     "output_type": "display_data"
    },
    {
     "data": {
      "application/vnd.jupyter.widget-view+json": {
       "model_id": "4321e42dda594adb9ac2f1c59d66d296",
       "version_major": 2,
       "version_minor": 0
      },
      "text/plain": [
       "(…)-00001-of-00002-02214bdbec88b070.parquet:   0%|          | 0.00/478M [00:00<?, ?B/s]"
      ]
     },
     "metadata": {},
     "output_type": "display_data"
    },
    {
     "data": {
      "application/vnd.jupyter.widget-view+json": {
       "model_id": "a01a58791e924cae85ba597a4c7e4628",
       "version_major": 2,
       "version_minor": 0
      },
      "text/plain": [
       "Generating openai_clip_vit_large_patch14 split:   0%|          | 0/3333 [00:00<?, ? examples/s]"
      ]
     },
     "metadata": {},
     "output_type": "display_data"
    }
   ],
   "source": [
    "from datasets import load_dataset\n",
    "dataset_train = load_dataset(\"Multimodal-Fatima/FGVC_Aircraft_train\")\n",
    "dataset_test = load_dataset(\"Multimodal-Fatima/FGVC_Aircraft_test\")\n",
    "embeddings_test = load_dataset(\"Multimodal-Fatima/FGVC_Aircraft_test_embeddings\")\n",
    "embeddings_train = load_dataset(\"Multimodal-Fatima/FGVC_Aircraft_test_embeddings\")"
   ]
  },
  {
   "cell_type": "code",
   "execution_count": 22,
   "id": "0284c082-e09a-43c6-a3ee-23f921aa0711",
   "metadata": {},
   "outputs": [
    {
     "data": {
      "application/vnd.jupyter.widget-view+json": {
       "model_id": "013380e2f8b445cd89fa579fd9f5c88f",
       "version_major": 2,
       "version_minor": 0
      },
      "text/plain": [
       "README.md:   0%|          | 0.00/6.96k [00:00<?, ?B/s]"
      ]
     },
     "metadata": {},
     "output_type": "display_data"
    },
    {
     "data": {
      "application/vnd.jupyter.widget-view+json": {
       "model_id": "ea76611dd7e84a31ab7dc00ebdd267a7",
       "version_major": 2,
       "version_minor": 0
      },
      "text/plain": [
       "(…)-00000-of-00002-f701e149b12ef922.parquet:   0%|          | 0.00/452M [00:00<?, ?B/s]"
      ]
     },
     "metadata": {},
     "output_type": "display_data"
    },
    {
     "data": {
      "application/vnd.jupyter.widget-view+json": {
       "model_id": "8abcf4681706425bae83e84fd9c6a6a4",
       "version_major": 2,
       "version_minor": 0
      },
      "text/plain": [
       "(…)-00001-of-00002-995f2f92aa55f647.parquet:   0%|          | 0.00/471M [00:00<?, ?B/s]"
      ]
     },
     "metadata": {},
     "output_type": "display_data"
    },
    {
     "data": {
      "application/vnd.jupyter.widget-view+json": {
       "model_id": "e7677b0995454be6bd634646f86d4942",
       "version_major": 2,
       "version_minor": 0
      },
      "text/plain": [
       "Generating test split:   0%|          | 0/3333 [00:00<?, ? examples/s]"
      ]
     },
     "metadata": {},
     "output_type": "display_data"
    }
   ],
   "source": [
    "dataset_test = load_dataset(\"Multimodal-Fatima/FGVC_Aircraft_test\")"
   ]
  },
  {
   "cell_type": "code",
   "execution_count": null,
   "id": "bf28c1a6-2495-4891-a8c7-7d5e46c2d783",
   "metadata": {},
   "outputs": [],
   "source": []
  }
 ],
 "metadata": {
  "kernelspec": {
   "display_name": "Python 3 (ipykernel)",
   "language": "python",
   "name": "python3"
  },
  "language_info": {
   "codemirror_mode": {
    "name": "ipython",
    "version": 3
   },
   "file_extension": ".py",
   "mimetype": "text/x-python",
   "name": "python",
   "nbconvert_exporter": "python",
   "pygments_lexer": "ipython3",
   "version": "3.11.13"
  }
 },
 "nbformat": 4,
 "nbformat_minor": 5
}
